{
  "cells": [
    {
      "cell_type": "markdown",
      "metadata": {
        "id": "ByCSu-FhG5v7"
      },
      "source": [
        "# Assignment 3: MapReduce & Web Graph"
      ]
    },
    {
      "cell_type": "markdown",
      "metadata": {
        "id": "-e3cxxyFG_XW"
      },
      "source": [
        "## General guidelines\n",
        "\n",
        "This notebook contains considerable amount of code to help you complete this assignment. Your task is to implement any missing parts of the code and answer any questions (if exist) within this notebook. This will require understanding the existing code, may require reading about packages being used, reading additional resources, and maybe even going over your notes from class :😱\n",
        "\n",
        "**Evaluation and auto-grading**: Your submissions will be evaluated using both automatic and manual grading. Code parts for implementation are marked with a comment `# YOUR CODE HERE`, and usually followed by cell(s) containing automatic tests that evaluate the correctness of your answer. Staff will allow your notebook to **execute from start to finish for no more than 90 seconds**, then manually assess your submission. Any automatic tests that did not run due to your notebook timing out **will automatically receive 0 points**. The execution time excludes initial data download, which will already exist in the testing environment. The staff reserves the right to **modify any grade provided by the auto-grader** as well as to **execute additional tests not provided to you**. It is also important to note that **auto-graded cells only result in full or no credit**. In other words, you must pass all tests implemented in a test cell in order to get the credit for it, and passing some, but not all, of the tests in a test cell will not earn you any points for that cell.\n",
        "\n",
        "**Submission**: Upload a zip file **with your ID as the file name** containing the colab notebook and the GCP notebook to the assignment on Moodle. The names of the files should be  in the format:  012345678_colab.ipynb and 012345678_gcp.ipynb."
      ]
    },
    {
      "cell_type": "markdown",
      "metadata": {
        "id": "fscYA3wkHCLk"
      },
      "source": [
        "# Tasks\n",
        "\n",
        "In this assignment, we are going to use MapReduce in pySpark to scale up index creation. **The assignment consists of two parts, one in Google Colab and one in GCP**. In the first part (Colab), we will learn how to use MapReduce in PySpark, create an inverted index, and calculate PageRank. In the second part, we will use GCP to scale up index creation for the entire English Wikipedia.\n",
        "\n",
        "You will learn how to work with PySpark, write MapReduce code that executes on a cluster of machines, and experience the power of parallel processing. **All tasks must be completed through the use of PySpark's MapReduce**.\n",
        "\n",
        "To save you (and us) time, both in this assignment and in the final project, we are providing you with preprocessed files for the entire English wikipedia dump. Preprocessing was done, similar to Assignment #2, to extract article information from the XML, then remove the WikiMedia markup. The complete preprocessing code for one wiki dump can be seen [here](https://colab.research.google.com/drive/1xXc0YPU4BVd8CAjVNgICimW_d-Z7wryu?usp=sharing).\n",
        "\n",
        "\n",
        "**By the end of this assignment, you will have:**\n",
        "\n",
        "In Colab (65 Points)\n",
        "\n",
        "1. (20 Points) Processed articles' body to produce posting lists (using PySpark and MapReduce).\n",
        "2. (5 Points) Calculated document frequency (DF) in a  distributed fashion.\n",
        "3. (20 Points) Partitioned the posting lists and wrote them to disk in parallel.\n",
        "4. (20 Points) Constructed the links graph and calculated PageRank on it.\n",
        "All of these will be based on a small subset of articles from one wiki dump file.\n",
        "\n",
        "In GCP (35 Points):\n",
        "\n",
        "1. (10 Points) Successfully started a Dataproc cluster, setup cloud storage bucket, and properly initialized cluster nodes.\n",
        "2. (10 Points) Created an inverted index for all of English Wikipedia.\n",
        "3. (10 Points) Successfully computed PageRank for the entire English Wikipedia.\n",
        "4. (5 Points) Reporting: size of the data, size of index, time it took to build the index, time it took to compute PageRank, and the $ amount of credits it consumed.\n",
        "\n",
        "Bonus (10 points) if you implement PageRank in pure PySpark, i.e. without using the GraphFrames package, AND manage to complete 10 iterations of your algorithm on the entire English Wikipedia in less than an hour.\n",
        "\n",
        "\n",
        "\n",
        "\n",
        "\n"
      ]
    },
    {
      "cell_type": "markdown",
      "metadata": {
        "id": "J0P4W63JvrT5"
      },
      "source": [
        "# Setup"
      ]
    },
    {
      "cell_type": "markdown",
      "metadata": {
        "id": "59yMYAN1x3oh"
      },
      "source": [
        "## General imports\n",
        "\n",
        "The `inverted_index_colab` import requires the `inverted_index_colab.py` file. You should upload the file and then run this cell."
      ]
    },
    {
      "cell_type": "code",
      "execution_count": null,
      "metadata": {
        "colab": {
          "base_uri": "https://localhost:8080/"
        },
        "id": "byNgReCYsmA9",
        "outputId": "90472b3e-339a-4ea6-d0d6-51e9a842932f"
      },
      "outputs": [
        {
          "output_type": "stream",
          "name": "stderr",
          "text": [
            "[nltk_data] Downloading package stopwords to /root/nltk_data...\n",
            "[nltk_data]   Unzipping corpora/stopwords.zip.\n"
          ]
        }
      ],
      "source": [
        "import sys\n",
        "# from collections import Counter, OrderedDict\n",
        "from collections import Counter, OrderedDict, defaultdict\n",
        "import itertools\n",
        "from itertools import islice, count, groupby\n",
        "import pandas as pd\n",
        "import os\n",
        "import re\n",
        "from operator import itemgetter\n",
        "import nltk\n",
        "from nltk.stem.porter import *\n",
        "from nltk.corpus import stopwords\n",
        "from time import time\n",
        "from timeit import timeit\n",
        "from pathlib import Path\n",
        "import pickle\n",
        "import pandas as pd\n",
        "import numpy as np\n",
        "from google.cloud import storage\n",
        "\n",
        "import hashlib\n",
        "def _hash(s):\n",
        "    return hashlib.blake2b(bytes(s, encoding='utf8'), digest_size=5).hexdigest()\n",
        "\n",
        "nltk.download('stopwords')\n",
        "\n",
        "from inverted_index_colab import *"
      ]
    },
    {
      "cell_type": "markdown",
      "metadata": {
        "id": "KRjOVgLBrfCs"
      },
      "source": [
        "## Installing, importing, and initializing PySpark\n"
      ]
    },
    {
      "cell_type": "markdown",
      "metadata": {
        "id": "GORmjMdasns1"
      },
      "source": [
        "The following code installs PySpark and its dependencies in Colab. In addition, we install GraphFrames, which is a PySpark package for dealing with graphs in a distributed fashion. Colab notebooks run on a single machine so we will work in local mode, i.e. there is no cluster of machines and both the master and worker processes run on a single machine. This will help us debug and iron out the code we will use in the second half of this assignment on an actual cluster mode in GCP.\n",
        "\n",
        "The installation in the next cell should take about 1 minute in a fresh environment. Don't worry about going  over the 90 seconds limit for the assignment because in our testing enviroment all of these requirements will already be met."
      ]
    },
    {
      "cell_type": "code",
      "execution_count": null,
      "metadata": {
        "colab": {
          "base_uri": "https://localhost:8080/"
        },
        "id": "kw33QgujFQez",
        "outputId": "17f5beef-6787-4753-e084-839489524273"
      },
      "outputs": [
        {
          "output_type": "stream",
          "name": "stdout",
          "text": [
            "The following additional packages will be installed:\n",
            "  libxtst6 openjdk-8-jre-headless\n",
            "Suggested packages:\n",
            "  openjdk-8-demo openjdk-8-source libnss-mdns fonts-dejavu-extra fonts-nanum fonts-ipafont-gothic\n",
            "  fonts-ipafont-mincho fonts-wqy-microhei fonts-wqy-zenhei fonts-indic\n",
            "The following NEW packages will be installed:\n",
            "  libxtst6 openjdk-8-jdk-headless openjdk-8-jre-headless\n",
            "0 upgraded, 3 newly installed, 0 to remove and 49 not upgraded.\n",
            "Need to get 39.7 MB of archives.\n",
            "After this operation, 144 MB of additional disk space will be used.\n",
            "Selecting previously unselected package libxtst6:amd64.\n",
            "(Reading database ... 123632 files and directories currently installed.)\n",
            "Preparing to unpack .../libxtst6_2%3a1.2.3-1build4_amd64.deb ...\n",
            "Unpacking libxtst6:amd64 (2:1.2.3-1build4) ...\n",
            "Selecting previously unselected package openjdk-8-jre-headless:amd64.\n",
            "Preparing to unpack .../openjdk-8-jre-headless_8u432-ga~us1-0ubuntu2~22.04_amd64.deb ...\n",
            "Unpacking openjdk-8-jre-headless:amd64 (8u432-ga~us1-0ubuntu2~22.04) ...\n",
            "Selecting previously unselected package openjdk-8-jdk-headless:amd64.\n",
            "Preparing to unpack .../openjdk-8-jdk-headless_8u432-ga~us1-0ubuntu2~22.04_amd64.deb ...\n",
            "Unpacking openjdk-8-jdk-headless:amd64 (8u432-ga~us1-0ubuntu2~22.04) ...\n",
            "Setting up libxtst6:amd64 (2:1.2.3-1build4) ...\n",
            "Setting up openjdk-8-jre-headless:amd64 (8u432-ga~us1-0ubuntu2~22.04) ...\n",
            "update-alternatives: using /usr/lib/jvm/java-8-openjdk-amd64/jre/bin/orbd to provide /usr/bin/orbd (orbd) in auto mode\n",
            "update-alternatives: using /usr/lib/jvm/java-8-openjdk-amd64/jre/bin/servertool to provide /usr/bin/servertool (servertool) in auto mode\n",
            "update-alternatives: using /usr/lib/jvm/java-8-openjdk-amd64/jre/bin/tnameserv to provide /usr/bin/tnameserv (tnameserv) in auto mode\n",
            "Setting up openjdk-8-jdk-headless:amd64 (8u432-ga~us1-0ubuntu2~22.04) ...\n",
            "update-alternatives: using /usr/lib/jvm/java-8-openjdk-amd64/bin/clhsdb to provide /usr/bin/clhsdb (clhsdb) in auto mode\n",
            "update-alternatives: using /usr/lib/jvm/java-8-openjdk-amd64/bin/extcheck to provide /usr/bin/extcheck (extcheck) in auto mode\n",
            "update-alternatives: using /usr/lib/jvm/java-8-openjdk-amd64/bin/hsdb to provide /usr/bin/hsdb (hsdb) in auto mode\n",
            "update-alternatives: using /usr/lib/jvm/java-8-openjdk-amd64/bin/idlj to provide /usr/bin/idlj (idlj) in auto mode\n",
            "update-alternatives: using /usr/lib/jvm/java-8-openjdk-amd64/bin/javah to provide /usr/bin/javah (javah) in auto mode\n",
            "update-alternatives: using /usr/lib/jvm/java-8-openjdk-amd64/bin/jhat to provide /usr/bin/jhat (jhat) in auto mode\n",
            "update-alternatives: using /usr/lib/jvm/java-8-openjdk-amd64/bin/jsadebugd to provide /usr/bin/jsadebugd (jsadebugd) in auto mode\n",
            "update-alternatives: using /usr/lib/jvm/java-8-openjdk-amd64/bin/native2ascii to provide /usr/bin/native2ascii (native2ascii) in auto mode\n",
            "update-alternatives: using /usr/lib/jvm/java-8-openjdk-amd64/bin/schemagen to provide /usr/bin/schemagen (schemagen) in auto mode\n",
            "update-alternatives: using /usr/lib/jvm/java-8-openjdk-amd64/bin/wsgen to provide /usr/bin/wsgen (wsgen) in auto mode\n",
            "update-alternatives: using /usr/lib/jvm/java-8-openjdk-amd64/bin/wsimport to provide /usr/bin/wsimport (wsimport) in auto mode\n",
            "update-alternatives: using /usr/lib/jvm/java-8-openjdk-amd64/bin/xjc to provide /usr/bin/xjc (xjc) in auto mode\n",
            "Processing triggers for libc-bin (2.35-0ubuntu3.4) ...\n",
            "/sbin/ldconfig.real: /usr/local/lib/libtbbbind.so.3 is not a symbolic link\n",
            "\n",
            "/sbin/ldconfig.real: /usr/local/lib/libtbbmalloc.so.2 is not a symbolic link\n",
            "\n",
            "/sbin/ldconfig.real: /usr/local/lib/libtbbbind_2_0.so.3 is not a symbolic link\n",
            "\n",
            "/sbin/ldconfig.real: /usr/local/lib/libumf.so.0 is not a symbolic link\n",
            "\n",
            "/sbin/ldconfig.real: /usr/local/lib/libhwloc.so.15 is not a symbolic link\n",
            "\n",
            "/sbin/ldconfig.real: /usr/local/lib/libur_adapter_opencl.so.0 is not a symbolic link\n",
            "\n",
            "/sbin/ldconfig.real: /usr/local/lib/libur_adapter_level_zero.so.0 is not a symbolic link\n",
            "\n",
            "/sbin/ldconfig.real: /usr/local/lib/libtcm.so.1 is not a symbolic link\n",
            "\n",
            "/sbin/ldconfig.real: /usr/local/lib/libtbbmalloc_proxy.so.2 is not a symbolic link\n",
            "\n",
            "/sbin/ldconfig.real: /usr/local/lib/libtbb.so.12 is not a symbolic link\n",
            "\n",
            "/sbin/ldconfig.real: /usr/local/lib/libur_loader.so.0 is not a symbolic link\n",
            "\n",
            "/sbin/ldconfig.real: /usr/local/lib/libtcm_debug.so.1 is not a symbolic link\n",
            "\n",
            "/sbin/ldconfig.real: /usr/local/lib/libtbbbind_2_5.so.3 is not a symbolic link\n",
            "\n",
            "\u001b[2K   \u001b[90m━━━━━━━━━━━━━━━━━━━━━━━━━━━━━━━━━━━━━━━━\u001b[0m \u001b[32m154.7/154.7 kB\u001b[0m \u001b[31m3.1 MB/s\u001b[0m eta \u001b[36m0:00:00\u001b[0m\n",
            "\u001b[?25h--2025-01-11 12:47:13--  https://repos.spark-packages.org/graphframes/graphframes/0.8.2-spark3.2-s_2.12/graphframes-0.8.2-spark3.2-s_2.12.jar\n",
            "Resolving repos.spark-packages.org (repos.spark-packages.org)... 143.204.29.128, 143.204.29.114, 143.204.29.71, ...\n",
            "Connecting to repos.spark-packages.org (repos.spark-packages.org)|143.204.29.128|:443... connected.\n",
            "HTTP request sent, awaiting response... 200 OK\n",
            "Length: 247880 (242K) [binary/octet-stream]\n",
            "Saving to: ‘/usr/local/lib/python3.7/dist-packages/pyspark/jars/graphframes-0.8.2-spark3.2-s_2.12.jar’\n",
            "\n",
            "graphframes-0.8.2-s 100%[===================>] 242.07K  --.-KB/s    in 0.04s   \n",
            "\n",
            "2025-01-11 12:47:13 (5.46 MB/s) - ‘/usr/local/lib/python3.7/dist-packages/pyspark/jars/graphframes-0.8.2-spark3.2-s_2.12.jar’ saved [247880/247880]\n",
            "\n"
          ]
        }
      ],
      "source": [
        "# These will already be installed in the testing environment so disregard the\n",
        "# amount of time (~1 minute) it takes to install.\n",
        "!pip install -q pyspark\n",
        "!pip install -U -q PyDrive\n",
        "!apt install openjdk-8-jdk-headless -qq\n",
        "!pip install -q graphframes\n",
        "import os\n",
        "os.environ[\"JAVA_HOME\"] = \"/usr/lib/jvm/java-8-openjdk-amd64\"\n",
        "graphframes_jar = 'https://repos.spark-packages.org/graphframes/graphframes/0.8.2-spark3.2-s_2.12/graphframes-0.8.2-spark3.2-s_2.12.jar'\n",
        "spark_jars = '/usr/local/lib/python3.7/dist-packages/pyspark/jars'\n",
        "!wget -N -P $spark_jars $graphframes_jar"
      ]
    },
    {
      "cell_type": "code",
      "execution_count": null,
      "metadata": {
        "id": "BkEErqJnsXyy"
      },
      "outputs": [],
      "source": [
        "import pyspark\n",
        "from pyspark.sql import *\n",
        "from pyspark.sql.functions import *\n",
        "from pyspark import SparkContext, SparkConf\n",
        "from pyspark.sql import SQLContext\n",
        "from pyspark.ml.feature import Tokenizer, RegexTokenizer\n",
        "from graphframes import *"
      ]
    },
    {
      "cell_type": "code",
      "execution_count": null,
      "metadata": {
        "id": "OgiSewKAsgKd"
      },
      "outputs": [],
      "source": [
        "# Initializing spark context\n",
        "# create a spark context and session\n",
        "conf = SparkConf().set(\"spark.ui.port\", \"4050\")\n",
        "conf.set(\"spark.jars.packages\", \"graphframes:graphframes:0.8.2-spark3.2-s_2.12\")\n",
        "sc = pyspark.SparkContext(conf=conf)\n",
        "sc.addPyFile(str(Path(spark_jars) / Path(graphframes_jar).name))\n",
        "spark = SparkSession.builder.getOrCreate()"
      ]
    },
    {
      "cell_type": "markdown",
      "metadata": {
        "id": "A9fjw2J-s87v"
      },
      "source": [
        "You can easily check the current version and get the link of the web interface. In the Spark UI, you can monitor the progress of your job and debug the performance bottlenecks (if your Colab is running with a **local runtime**)."
      ]
    },
    {
      "cell_type": "code",
      "execution_count": null,
      "metadata": {
        "colab": {
          "base_uri": "https://localhost:8080/",
          "height": 219
        },
        "id": "PUyhQAlBs8qL",
        "outputId": "89433b7f-0e8b-405c-c0bb-94b1ecc667d0"
      },
      "outputs": [
        {
          "output_type": "execute_result",
          "data": {
            "text/plain": [
              "<pyspark.sql.session.SparkSession at 0x79f1173f99c0>"
            ],
            "text/html": [
              "\n",
              "            <div>\n",
              "                <p><b>SparkSession - in-memory</b></p>\n",
              "                \n",
              "        <div>\n",
              "            <p><b>SparkContext</b></p>\n",
              "\n",
              "            <p><a href=\"http://dc83b34a4f21:4050\">Spark UI</a></p>\n",
              "\n",
              "            <dl>\n",
              "              <dt>Version</dt>\n",
              "                <dd><code>v3.5.4</code></dd>\n",
              "              <dt>Master</dt>\n",
              "                <dd><code>local[*]</code></dd>\n",
              "              <dt>AppName</dt>\n",
              "                <dd><code>pyspark-shell</code></dd>\n",
              "            </dl>\n",
              "        </div>\n",
              "        \n",
              "            </div>\n",
              "        "
            ]
          },
          "metadata": {},
          "execution_count": 5
        }
      ],
      "source": [
        "spark"
      ]
    },
    {
      "cell_type": "markdown",
      "metadata": {
        "id": "19EG5AvVru1J"
      },
      "source": [
        "## Copy some wiki data"
      ]
    },
    {
      "cell_type": "markdown",
      "metadata": {
        "id": "ofyAoTHttjHE"
      },
      "source": [
        "As mentioned above, all wiki dumps were preprocessed and placed in a shared google storage bucket. To access the files in Colab, you will first have to authenticate with google storage, and then copy the data to your local environment.\n",
        "\n",
        "**IMPORTANT NOTE**\n",
        "\n",
        "Before you start working with the wiki data, you first have to go over the\n",
        "\"Working with GCP.pdf\" Provided to you under the gcp folder in the same zip file as this folder. In that pdf you will redeem your credits for the GCP and create your instance. You have to do this procedure because the files will be mounted to you through GCP process. Important: Ensure you have completed the **Google Storage** section of the PDF document before continuing with the next steps.\n",
        "Notice that you have to change the project_id and data_bucket_name variables in the second cell below.\n",
        "\n",
        "In GCP, the storage will already be mounted on the cluster machines and we will show you how to access it.\n"
      ]
    },
    {
      "cell_type": "code",
      "execution_count": null,
      "metadata": {
        "id": "DkdjBm5DOVWX"
      },
      "outputs": [],
      "source": [
        "# Authenticate your user\n",
        "# The authentication should be done with the email connected to your GCP account\n",
        "from google.colab import auth\n",
        "import signal\n",
        "\n",
        "AUTH_TIMEOUT = 100\n",
        "\n",
        "def handler(signum, frame):\n",
        "  raise Exception(\"Authentication timeout!\")\n",
        "\n",
        "try:\n",
        "  signal.signal(signal.SIGALRM, handler)\n",
        "  signal.alarm(AUTH_TIMEOUT)\n",
        "  auth.authenticate_user()\n",
        "  signal.alarm(0)\n",
        "except:\n",
        "  pass"
      ]
    },
    {
      "cell_type": "markdown",
      "metadata": {
        "id": "ioYqHQaPtyKj"
      },
      "source": [
        "Run this cell and follow the authorization link that appears. The link will take you to Google Cloud Platform (GCP) where you'll need to:\n",
        "\n",
        "Sign in to your Google account\n",
        "Copy the verification code provided\n",
        "Return here to paste the code when prompted"
      ]
    },
    {
      "cell_type": "code",
      "execution_count": null,
      "metadata": {
        "colab": {
          "base_uri": "https://localhost:8080/"
        },
        "id": "thuBAQZU5YWO",
        "outputId": "853bd78e-55bb-4551-d430-1e64dd335a78"
      },
      "outputs": [
        {
          "output_type": "stream",
          "name": "stdout",
          "text": [
            "\n",
            "You are running on a Google Compute Engine virtual machine.\n",
            "It is recommended that you use service accounts for authentication.\n",
            "\n",
            "You can run:\n",
            "\n",
            "  $ gcloud config set account `ACCOUNT`\n",
            "\n",
            "to switch accounts if necessary.\n",
            "\n",
            "Your credentials may be visible to others with access to this\n",
            "virtual machine. Are you sure you want to authenticate with\n",
            "your personal account?\n",
            "\n",
            "Do you want to continue (Y/n)?  y\n",
            "\n",
            "Go to the following link in your browser, and complete the sign-in prompts:\n",
            "\n",
            "    https://accounts.google.com/o/oauth2/auth?response_type=code&client_id=32555940559.apps.googleusercontent.com&redirect_uri=https%3A%2F%2Fsdk.cloud.google.com%2Fauthcode.html&scope=openid+https%3A%2F%2Fwww.googleapis.com%2Fauth%2Fuserinfo.email+https%3A%2F%2Fwww.googleapis.com%2Fauth%2Fcloud-platform+https%3A%2F%2Fwww.googleapis.com%2Fauth%2Fappengine.admin+https%3A%2F%2Fwww.googleapis.com%2Fauth%2Fsqlservice.login+https%3A%2F%2Fwww.googleapis.com%2Fauth%2Fcompute+https%3A%2F%2Fwww.googleapis.com%2Fauth%2Faccounts.reauth&state=DPVx2QcEzWFJVW3vfAOuhjNmmePGkv&prompt=consent&token_usage=remote&access_type=offline&code_challenge=YnJERMdQVj5GGXuagEdYT5MQa3Eudx_6E9xqk0LDopU&code_challenge_method=S256\n",
            "\n",
            "Once finished, enter the verification code provided in your browser: 4/0AanRRrtT3YE6tRiY78vP3KlCMbNwh0EHfA8TzAU3FAWGPDgv6ls1aST7dgahMO_lHgrnJw\n",
            "\n",
            "You are now logged in as [shhara@post.bgu.ac.il].\n",
            "Your current project is [None].  You can change this setting by running:\n",
            "  $ gcloud config set project PROJECT_ID\n",
            "Updated property [core/project].\n",
            "Copying gs://314616475/multistream1_preprocessed.parquet...\n",
            "==> NOTE: You are downloading one or more large file(s), which would\n",
            "run significantly faster if you enabled sliced object downloads. This\n",
            "feature is enabled by default but requires that compiled crcmod be\n",
            "installed (see \"gsutil help crcmod\").\n",
            "\n",
            "/ [1 files][316.7 MiB/316.7 MiB]                                                \n",
            "Operation completed over 1 objects/316.7 MiB.                                    \n"
          ]
        }
      ],
      "source": [
        "import os\n",
        "from pathlib import Path\n",
        "from google.colab import auth\n",
        "from google.cloud import storage\n",
        "\n",
        "# Alternative authentication method\n",
        "!gcloud auth login\n",
        "\n",
        "# Set your project and bucket info\n",
        "project_id = 'hw2-project-444515'\n",
        "data_bucket_name = '314616475'\n",
        "\n",
        "# Configure project\n",
        "!gcloud config set project {project_id}\n",
        "\n",
        "# Create directory and copy file directly\n",
        "try:\n",
        "    if os.environ[\"wikidata_preprocessed\"] is not None:\n",
        "        pass\n",
        "except:\n",
        "    !mkdir -p wikidumps\n",
        "    !gsutil -u {project_id} cp gs://{data_bucket_name}/multistream1_preprocessed.parquet \"wikidumps/\""
      ]
    },
    {
      "cell_type": "markdown",
      "source": [
        "# Creating local folders"
      ],
      "metadata": {
        "id": "gor0gdZVd58x"
      }
    },
    {
      "cell_type": "code",
      "source": [
        "import os\n",
        "import shutil\n",
        "\n",
        "!mkdir -p text_index\n",
        "!mkdir -p title_index\n",
        "!mkdir -p anchor_index\n",
        "\n",
        "def move_bin_files(folder_name):\n",
        "    \"\"\"\n",
        "    Moves all files ending with '.bin' in the current directory\n",
        "    to the specified folder.\n",
        "\n",
        "    Args:\n",
        "        folder_name (str): The name of the destination folder.\n",
        "    \"\"\"\n",
        "    for filename in os.listdir():\n",
        "        if filename.endswith(\".bin\") or filename.endswith(\".pkl\"):\n",
        "            source_path = os.path.abspath(filename)\n",
        "            destination_path = os.path.join(folder_name, filename)\n",
        "\n",
        "            try:\n",
        "                shutil.move(source_path, destination_path)\n",
        "            except Exception as e:\n",
        "                print(f\"Error moving '{filename}': {e}\")\n",
        "\n",
        "\n",
        "    # for filename in os.listdir():\n",
        "    #     if filename.endswith(\".bin\"):\n",
        "    #         source_path = os.path.abspath(filename)\n",
        "    #         destination_path = os.path.join(folder_name, filename)\n",
        "\n",
        "    #         try:\n",
        "    #             shutil.move(source_path, destination_path)\n",
        "    #         except Exception as e:\n",
        "    #             print(f\"Error moving '{filename}': {e}\")\n",
        "\n",
        "    # # Move index.pkl after all .bin files are moved\n",
        "    # if os.path.exists(\"index.pkl\"):\n",
        "    #     source_path = os.path.abspath(\"index.pkl\")\n",
        "    #     destination_path = os.path.join(folder_name, \"index.pkl\")\n",
        "    #     try:\n",
        "    #         shutil.move(source_path, destination_path)\n",
        "    #     except Exception as e:\n",
        "    #         print(f\"Error moving 'index.pkl': {e}\")\n"
      ],
      "metadata": {
        "id": "CQ_wvoqYeCBm"
      },
      "execution_count": null,
      "outputs": []
    },
    {
      "cell_type": "markdown",
      "metadata": {
        "id": "_GU4djg6yizh"
      },
      "source": [
        "# Processing wikipedia"
      ]
    },
    {
      "cell_type": "markdown",
      "metadata": {
        "id": "uF9ywiIC-sAX"
      },
      "source": [
        "Now that we completed the setup and have some data in our local environment, we are ready to process it using PySpark."
      ]
    },
    {
      "cell_type": "markdown",
      "metadata": {
        "id": "tkEUicVTzDZd"
      },
      "source": [
        "## A 2-minute intro to PySpark"
      ]
    },
    {
      "cell_type": "markdown",
      "metadata": {
        "id": "6GVQMbCtzWI2"
      },
      "source": [
        "One of the fundamental data structures in spark is a **Resillient Distributed Dataset (RDD)**. It is an immutable distributed collections of objects that are partitioned across machines, and thus making parallel processing natural and easy. RDD's support two types of operations: *transformations* (e.g. selecting a subset of fields from each element or projecting each element from A->B), and *actions* (e.g. save to disk or `collect` elements into the master node's memory). Watch out for `collect` operations that send too much data to the master node, it will crash without a trace because of running out of memory.\n",
        "\n",
        "Spark employs **lazy-evaluation** (like many of us...), meaning that it accumulates things we ask it to do into an execution plan, but doesn't do any calculation until a result is actually needed. When a result is needed? when we save something to disk, ask spark to show the data, or use other actions. But make no mistakes, Spark is not a slacker. It employs lazy-evaluation because it allows optimizations that wouldn't be possible otherwise and it often saves users from unnecessary data reads, tranfers across machines, and other costly operations. As we will see in a bit, the RDD data structure lends itself to simple and efficient MapReduce operations."
      ]
    },
    {
      "cell_type": "markdown",
      "metadata": {
        "id": "5aQwbFGxPb4D"
      },
      "source": [
        "Let's look at our data before transforming it to RDD."
      ]
    },
    {
      "cell_type": "code",
      "execution_count": null,
      "metadata": {
        "id": "nmMTFnPaaqRQ"
      },
      "outputs": [],
      "source": [
        "from pathlib import Path\n",
        "import os\n",
        "\n",
        "try:\n",
        "    if os.environ[\"wikidata_preprocessed\"] is not None:\n",
        "      path = os.environ[\"wikidata_preprocessed\"]+\"/wikidumps/*\"\n",
        "except:\n",
        "      path = \"wikidumps/*\"\n",
        "\n",
        "parquetFile = spark.read.parquet(path)\n",
        "parquetFile.show()"
      ]
    },
    {
      "cell_type": "markdown",
      "source": [
        "# Making pairs for title, text and anchor text"
      ],
      "metadata": {
        "id": "cdvIjZLBfcWS"
      }
    },
    {
      "cell_type": "code",
      "execution_count": null,
      "metadata": {
        "id": "KMcsrc8RO9kn"
      },
      "outputs": [],
      "source": [
        "# take the 'text' and 'id' or the first 1000 rows and create an RDD from it\n",
        "doc_text_pairs = parquetFile.limit(1000).select(\"text\", \"id\").rdd\n",
        "doc_title_pairs = parquetFile.limit(1000).select(\"title\", \"id\").rdd\n",
        "doc_anchor_pairs = parquetFile.limit(1000).select(\"anchor_text\", \"id\").rdd"
      ]
    },
    {
      "cell_type": "markdown",
      "metadata": {
        "id": "__g69rcETm4w"
      },
      "source": [
        "## Word counts"
      ]
    },
    {
      "cell_type": "markdown",
      "metadata": {
        "id": "-zUibXvjWb6Q"
      },
      "source": [
        "### Term frequency"
      ]
    },
    {
      "cell_type": "markdown",
      "metadata": {
        "id": "UrBuHUHmA5pP"
      },
      "source": [
        "**YOUR TASK (10 POINTS):** Complete the implementation of `word_count`, which calculates the term-frequency (tf) for each word in a single document.  map function. The functions gets the text and the wiki id, calculates the tf and returns list of tuples in the form of (token, (wiki_id, tf))."
      ]
    },
    {
      "cell_type": "code",
      "execution_count": null,
      "metadata": {
        "id": "9GmPedzexLyt"
      },
      "outputs": [],
      "source": [
        "english_stopwords = frozenset(stopwords.words('english'))\n",
        "corpus_stopwords = ['category', 'references', 'also', 'links', 'extenal', 'see', 'thumb']\n",
        "RE_WORD = re.compile(r\"\"\"[\\#\\@\\w](['\\-]?\\w){2,24}\"\"\", re.UNICODE)\n",
        "\n",
        "all_stopwords = english_stopwords.union(corpus_stopwords)\n",
        "\n",
        "def word_count(text, id):\n",
        "  ''' Count the frequency of each word in `text` (tf) that is not included in\n",
        "  `all_stopwords` and return entries that will go into our posting lists.\n",
        "  Parameters:\n",
        "  -----------\n",
        "    text: str\n",
        "      Text of one document\n",
        "    id: int\n",
        "      Document id\n",
        "  Returns:\n",
        "  --------\n",
        "    List of tuples\n",
        "      A list of (token, (doc_id, tf)) pairs\n",
        "      for example: [(\"Anarchism\", (12, 5)), ...]\n",
        "  '''\n",
        "  # tokens = [token.group() for token in RE_WORD.finditer(text.lower())]\n",
        "  # # YOUR CODE HERE\n",
        "  # res_list = []\n",
        "  # for token in tokens:\n",
        "  #   if token not in all_stopwords:\n",
        "  #     if (token, (id, tokens.count(token))) not in res_list:\n",
        "  #       res_list.append((token, (id, tokens.count(token))))\n",
        "  # return res_list\n",
        "\n",
        "  tokens = [token.group() for token in RE_WORD.finditer(text.lower())]\n",
        "  token_counts = Counter(tokens)  # Calculate term frequencies efficiently\n",
        "  res_list = [\n",
        "        (token, (id, count))\n",
        "        for token, count in token_counts.items()\n",
        "        if token not in all_stopwords\n",
        "    ]\n",
        "  return res_list\n",
        "  # raise NotImplementedError()"
      ]
    },
    {
      "cell_type": "code",
      "source": [
        "def tokenize(text):\n",
        "  english_stopwords = frozenset(stopwords.words('english'))\n",
        "  corpus_stopwords = ['category', 'references', 'also', 'links', 'extenal', 'see', 'thumb']\n",
        "  RE_WORD = re.compile(r\"\"\"[\\#\\@\\w](['\\-]?\\w){2,24}\"\"\", re.UNICODE)\n",
        "\n",
        "  all_stopwords = english_stopwords.union(corpus_stopwords)\n",
        "  stemmer = PorterStemmer()\n",
        "  tokens = [token.group() for token in RE_WORD.finditer(text.lower())]\n",
        "  stemmed = [stemmer.stem(token) for token in tokens if token not in all_stopwords]\n",
        "  return stemmed"
      ],
      "metadata": {
        "id": "wPxc8mqB5KCp"
      },
      "execution_count": null,
      "outputs": []
    },
    {
      "cell_type": "code",
      "source": [
        "def stemmed_word_count(text, id):\n",
        "  ''' Count the frequency of each word in `text` (tf) that is not included in\n",
        "  `all_stopwords` and return entries that will go into our posting lists.\n",
        "  Parameters:\n",
        "  -----------\n",
        "    text: str\n",
        "      Text of one document\n",
        "    id: int\n",
        "      Document id\n",
        "  Returns:\n",
        "  --------\n",
        "    List of tuples\n",
        "      A list of (token, (doc_id, tf)) pairs\n",
        "      for example: [(\"Anarchism\", (12, 5)), ...]\n",
        "  '''\n",
        "  tokens = tokenize(text)\n",
        "  token_counts = Counter(tokens)  # Calculate term frequencies efficiently\n",
        "  res_list = [\n",
        "        (token, (id, count))\n",
        "        for token, count in token_counts.items()\n",
        "        if token not in all_stopwords\n",
        "    ]\n",
        "  return res_list"
      ],
      "metadata": {
        "id": "aDaw1zgY5td3"
      },
      "execution_count": null,
      "outputs": []
    },
    {
      "cell_type": "code",
      "source": [
        "stemmed_text_word_counts = doc_text_pairs.flatMap(lambda x: stemmed_word_count(x[0], x[1]))\n",
        "stemmed_title_word_counts = doc_text_pairs.flatMap(lambda x: stemmed_word_count(x[0], x[1]))\n",
        "\n",
        "new_pairs = doc_anchor_pairs.flatMap(lambda pair: [(p[1], p[0]) for p in pair[0]])\n",
        "stemmed_anchor_word_counts = new_pairs.flatMap(lambda x: stemmed_word_count(x[0], x[1]))"
      ],
      "metadata": {
        "id": "Wfniih4n6ZC_"
      },
      "execution_count": null,
      "outputs": []
    },
    {
      "cell_type": "code",
      "execution_count": null,
      "metadata": {
        "id": "RLqHPKUvbT8R"
      },
      "outputs": [],
      "source": [
        "# test for word count\n",
        "text = \"This is a test to check the words count function actually count words\"\n",
        "id = 0\n",
        "word_count_results = word_count(text, id)\n",
        "assert word_count_results[0][0] == 'test'\n",
        "assert len(word_count_results) == 6\n",
        "assert word_count_results[2][1][1] == word_count_results[2][1][1]\n",
        "assert type(word_count_results[0][0]) == str\n",
        "assert type(word_count_results[0][1]) == tuple\n"
      ]
    },
    {
      "cell_type": "code",
      "source": [
        "stemmed_word_count_res = stemmed_word_count(text, id)\n",
        "print(\"stemmed:\", stemmed_word_count_res)\n",
        "print(\"not stemmed:\", word_count_results)\n",
        "# assert stemmed_word_count_res[0][0] == 'test'\n",
        "# assert len(stemmed_word_count_res)"
      ],
      "metadata": {
        "colab": {
          "base_uri": "https://localhost:8080/"
        },
        "id": "ERSmRF026kLg",
        "outputId": "dcf9eb44-a0dd-4ebf-eeec-0569f2d810d0"
      },
      "execution_count": null,
      "outputs": [
        {
          "output_type": "stream",
          "name": "stdout",
          "text": [
            "stemmed: [('test', (0, 1)), ('check', (0, 1)), ('word', (0, 2)), ('count', (0, 2)), ('function', (0, 1)), ('actual', (0, 1))]\n",
            "not stemmed: [('test', (0, 1)), ('check', (0, 1)), ('words', (0, 2)), ('count', (0, 2)), ('function', (0, 1)), ('actually', (0, 1))]\n"
          ]
        }
      ]
    },
    {
      "cell_type": "markdown",
      "metadata": {
        "id": "MNC7QlO8KZL_"
      },
      "source": [
        "PySpark has a `map` trasformation that, just like we learned in class about Map in MapReduce, executes a given function on each element of an  RDD. It also has a `flatMap()` transformation that executes a given function on each element of an RDD, but afterwards flattens the results to create one big \"list\" instead multiple nested lists. For example, `flatMap` on the above `word_count` function will concatenate the tokens from multiple document into one big list rather than keeping separate list of tokens for each document like a regular `map` would produce."
      ]
    },
    {
      "cell_type": "code",
      "execution_count": null,
      "metadata": {
        "id": "g3DUXXzxsy-B"
      },
      "outputs": [],
      "source": [
        "#word_counts = doc_text_pairs.flatMap(lambda x: word_count(x[0], x[1]))"
      ]
    },
    {
      "cell_type": "markdown",
      "metadata": {
        "id": "cwC3pX1ss1en"
      },
      "source": [
        "After `flatMap` is executed, the counts for a given token are likely to be scattered accross multiple machines/workers in the cluster. In order to create the posting lists for each token, we need a reduce operation that collects them into one list and sorts them by the document id (wiki_id).\n",
        "\n",
        "Spark has several ways of reducing or aggergating values, but we will use `groupByKey`, which like Reduce in MapReduce, collects all the values for a given key into an iterable list of the values associated with that key. The result of `groupByKey` is an RDD with (key, value*s*) pairs. Then, we can call `map` to execute a function on each pair in that RDD or call `mapValues` to execute a function only on the values iterable.\n",
        "\n",
        "**YOUR TASK (5 POINTS):** Complete the implementation of `reduce_word_counts`, which operates on the pairs returned by `word_count`. The functions gets a list of values (unsorted posting list) and sorts it."
      ]
    },
    {
      "cell_type": "code",
      "execution_count": null,
      "metadata": {
        "id": "1yFhHQBZHIBb"
      },
      "outputs": [],
      "source": [
        "def reduce_word_counts(unsorted_pl):\n",
        "  ''' Returns a sorted posting list by wiki_id.\n",
        "  Parameters:\n",
        "  -----------\n",
        "    unsorted_pl: list of tuples\n",
        "      A list of (wiki_id, tf) tuples\n",
        "  Returns:\n",
        "  --------\n",
        "    list of tuples\n",
        "      A sorted posting list.\n",
        "  '''\n",
        "  # YOUR CODE HERE\n",
        "  # sorted_pl = sorted(unsorted_pl, key=lambda x: x[0])\n",
        "  return sorted(unsorted_pl, key=lambda x: x[0])\n",
        "  # raise NotImplementedError()"
      ]
    },
    {
      "cell_type": "code",
      "execution_count": null,
      "metadata": {
        "id": "-VWkWnUO_QKd"
      },
      "outputs": [],
      "source": [
        "#postings = word_counts.groupByKey().mapValues(reduce_word_counts)"
      ]
    },
    {
      "cell_type": "markdown",
      "source": [
        "# postings for text, title and anchor"
      ],
      "metadata": {
        "id": "rN7RNhstl4FV"
      }
    },
    {
      "cell_type": "code",
      "source": [
        "text_postings = stemmed_text_word_counts.groupByKey().mapValues(reduce_word_counts)\n",
        "title_postings = stemmed_title_word_counts.groupByKey().mapValues(reduce_word_counts)\n",
        "anchor_postings = stemmed_anchor_word_counts.groupByKey().mapValues(reduce_word_counts)\n",
        "\n",
        "def new_count(posting):\n",
        "    counts = Counter(p[0] for p in posting)\n",
        "    return list(counts.items())\n",
        "\n",
        "# Apply the group function to the values of each key in posting_anchor\n",
        "anchor_postings = anchor_postings.map(lambda x: (x[0], new_count(x[1])))"
      ],
      "metadata": {
        "id": "9k8r9NZPl-dM"
      },
      "execution_count": null,
      "outputs": []
    },
    {
      "cell_type": "code",
      "execution_count": null,
      "metadata": {
        "id": "6zbBgNIM46OX"
      },
      "outputs": [],
      "source": [
        "# DO NOT RUN !!!!!!!\n",
        "\n",
        "## test reduce_word_count\n",
        "token, posting_list = postings.take(1)[0]\n",
        "assert type(token) == str\n",
        "assert type(posting_list) == list\n",
        "doc_id, tf = zip(*posting_list)\n",
        "assert type(doc_id[0]) == int\n",
        "assert type(tf[0]) == int\n",
        "assert np.diff(doc_id).min() > 0\n",
        "assert np.min(tf) > 0\n",
        "assert postings.count() == 153014"
      ]
    },
    {
      "cell_type": "markdown",
      "metadata": {
        "id": "3LiIJMOjWnsB"
      },
      "source": [
        "### Document frequency and filteration"
      ]
    },
    {
      "cell_type": "markdown",
      "metadata": {
        "id": "zrWoS-kHvhmM"
      },
      "source": [
        "Next, we will filter out rare words, words that appear in 10 or fewer documents (when working on the entire corpus, we will increase this threshold to a minimum of 50 documents)."
      ]
    },
    {
      "cell_type": "code",
      "execution_count": null,
      "metadata": {
        "id": "EnrhMaR0digd"
      },
      "outputs": [],
      "source": [
        "# DO NOT RUN !!!!!!!\n",
        "postings_filtered = postings.filter(lambda x: len(x[1])>10)"
      ]
    },
    {
      "cell_type": "markdown",
      "source": [
        "# filter postings"
      ],
      "metadata": {
        "id": "XxL9Eu5Snc4E"
      }
    },
    {
      "cell_type": "code",
      "source": [
        "text_postings_filtered = text_postings.filter(lambda x: len(x[1])>10)\n",
        "title_postings_filtered = title_postings.filter(lambda x: len(x[1])>10)\n",
        "anchor_postings_filtered = anchor_postings.filter(lambda x: len(x[1])>10)"
      ],
      "metadata": {
        "id": "Yem05Ahunf1h"
      },
      "execution_count": null,
      "outputs": []
    },
    {
      "cell_type": "markdown",
      "metadata": {
        "id": "-bclZ2cmFRjq"
      },
      "source": [
        "Now, we would like to calculate the df for each word.\n",
        "\n",
        "**YOUR TASK (5 POINTS):** Complete the implementation of `calculate_df` that takes a posting list RDD and returns an RDD where each element is a (token, df) pair."
      ]
    },
    {
      "cell_type": "code",
      "source": [],
      "metadata": {
        "id": "Sw3DERUqyVCo"
      },
      "execution_count": null,
      "outputs": []
    },
    {
      "cell_type": "code",
      "execution_count": null,
      "metadata": {
        "id": "J_-UoG2CGj4o"
      },
      "outputs": [],
      "source": [
        "def calculate_df(postings):\n",
        "  ''' Takes a posting list RDD and calculate the df for each token.\n",
        "  Parameters:\n",
        "  -----------\n",
        "    postings: RDD\n",
        "      An RDD where each element is a (token, posting_list) pair.\n",
        "  Returns:\n",
        "  --------\n",
        "    RDD\n",
        "      An RDD where each element is a (token, df) pair.\n",
        "  '''\n",
        "  # YOUR CODE HERE\n",
        "  res_rdd = postings.map(lambda x: (x[0], len(x[1])))\n",
        "  return res_rdd\n",
        "  # raise NotImplementedError()"
      ]
    },
    {
      "cell_type": "code",
      "execution_count": null,
      "metadata": {
        "id": "ddVcByPLCaP_"
      },
      "outputs": [],
      "source": [
        "# DO NOT RUN !!!!!!!\n",
        "\n",
        "# global statistics\n",
        "w2df = calculate_df(postings_filtered)\n",
        "\n",
        "# test calculate_df types\n",
        "token, df = w2df.take(1)[0]\n",
        "assert type(token) == str\n",
        "assert type(df) == int\n",
        "# test min/max df values\n",
        "# collectAsMap collects the results to the master node's memory as a dictionary.\n",
        "# we know it's not so big so this is okay.\n",
        "w2df_dict = w2df.collectAsMap()\n",
        "assert np.min(list(w2df_dict.values())) == 11\n",
        "assert np.max(list(w2df_dict.values())) == 819\n",
        "# test select words\n",
        "assert w2df_dict['first'] == 805\n",
        "assert w2df_dict['many'] == 670\n",
        "assert w2df_dict['used'] == 648"
      ]
    },
    {
      "cell_type": "markdown",
      "source": [
        "# w2df"
      ],
      "metadata": {
        "id": "86IONikln40F"
      }
    },
    {
      "cell_type": "code",
      "source": [
        "text_w2df = calculate_df(text_postings_filtered)\n",
        "title_w2df = calculate_df(title_postings_filtered)\n",
        "anchor_w2df = calculate_df(anchor_postings_filtered)\n",
        "\n",
        "text_w2df_dict = text_w2df.collectAsMap()\n",
        "title_w2df_dict = title_w2df.collectAsMap()\n",
        "anchor_w2df_dict = anchor_w2df.collectAsMap()"
      ],
      "metadata": {
        "id": "tHh3rOf0n8HV"
      },
      "execution_count": null,
      "outputs": []
    },
    {
      "cell_type": "markdown",
      "metadata": {
        "id": "5z1wMOiFTyGJ"
      },
      "source": [
        "## Partitioning and writing the index"
      ]
    },
    {
      "cell_type": "markdown",
      "metadata": {
        "id": "q3a2sC0WytzO"
      },
      "source": [
        "Now that we have the postings information we need to write it to disk. We would like to partition the tokens and posting lists into buckets so when we get a query, we know exactly in which bucket to look for its posting list. This can also help parallelize retrieval from the index if we have multiple machines answering queries.\n",
        "\n",
        "Here, you are asked to do this partitioning/bucketing through another round of map and reduce operations, where the last step should be to write out each bucket into a separate inverted index on disk. Use the staff-provided function of  `write_a_posting_list` implemented in inverted_index_colab.py for the InvertedIndex class. Eventually, this partitioning and writing process needs to return information about where each posting list is located (file name and offset) for a token.\n",
        "\n",
        "**YOUR TASK (20 POINTS):** Complete the implementation of `partition_postings_and_write` that partitions the posting list, writes out each bucket, and returns information about the location on disk of each posting list."
      ]
    },
    {
      "cell_type": "code",
      "execution_count": null,
      "metadata": {
        "id": "MvZDJk0bu9V9"
      },
      "outputs": [],
      "source": [
        "NUM_BUCKETS = 124\n",
        "def token2bucket_id(token):\n",
        "  return int(_hash(token),16) % NUM_BUCKETS\n",
        "\n",
        "def partition_postings_and_write(postings):\n",
        "  ''' A function that partitions the posting lists into buckets, writes out\n",
        "  all posting lists in a bucket to disk, and returns the posting locations for\n",
        "  each bucket. Partitioning should be done through the use of `token2bucket`\n",
        "  above. Writing to disk should use the function  `write_a_posting_list`, a\n",
        "  static method implemented in inverted_index_colab.py under the InvertedIndex\n",
        "  class.\n",
        "  Parameters:\n",
        "  -----------\n",
        "    postings: RDD\n",
        "      An RDD where each item is a (w, posting_list) pair.\n",
        "  Returns:\n",
        "  --------\n",
        "    RDD\n",
        "      An RDD where each item is a posting locations dictionary for a bucket. The\n",
        "      posting locations maintain a list for each word of file locations and\n",
        "      offsets its posting list was written to. See `write_a_posting_list` for\n",
        "      more details.\n",
        "  '''\n",
        "  # YOUR CODE HERE\n",
        "  bucket_rdd = postings.map(lambda x: (token2bucket_id(x[0]), x)).groupByKey()\n",
        "\n",
        "  def write_bucket(b_w_pl):\n",
        "      bucket_id, word_posting_pairs = b_w_pl\n",
        "      return InvertedIndex.write_a_posting_list((bucket_id, list(word_posting_pairs)))\n",
        "\n",
        "  posting_locs_list = bucket_rdd.map(write_bucket)\n",
        "\n",
        "  return posting_locs_list"
      ]
    },
    {
      "cell_type": "markdown",
      "metadata": {
        "id": "fohEJFfR3QiE"
      },
      "source": [
        "The next cell uses the `collect` operator to aggregate the posting location information from the multiple buckets/indices into a single dictionary. We know in this case that the posting locations info is relatively small so this is not going to crash our master node."
      ]
    },
    {
      "cell_type": "code",
      "execution_count": null,
      "metadata": {
        "id": "vxCMgAlRDIac"
      },
      "outputs": [],
      "source": [
        "# DO NOT RUN !!!!!!!\n",
        "\n",
        "# test partitioning for the different buckets (10 points)\n",
        "posting_locs_list = partition_postings_and_write(postings_filtered).collect()\n",
        "assert len(posting_locs_list) == 124\n",
        "assert len(list(Path('.').glob('*.bin'))) == 124\n",
        "pl_lens = [len(pl) for pl in posting_locs_list]\n",
        "assert np.max(pl_lens) == 141\n",
        "assert np.min(pl_lens) == 91\n",
        "assert int(np.median(pl_lens)) == 116"
      ]
    },
    {
      "cell_type": "markdown",
      "source": [
        "# partition posting lists and write out"
      ],
      "metadata": {
        "id": "h5kGyIzxojbN"
      }
    },
    {
      "cell_type": "code",
      "source": [
        "text_posting_locs_list = partition_postings_and_write(text_postings_filtered).collect()"
      ],
      "metadata": {
        "id": "KS2dqUOUotMu"
      },
      "execution_count": null,
      "outputs": []
    },
    {
      "cell_type": "code",
      "execution_count": null,
      "metadata": {
        "id": "C-h5dgtF-TeL"
      },
      "outputs": [],
      "source": [
        "# DO NOT RUN !!!!!!!\n",
        "\n",
        "# merge the posting locations into a single dict and run more tests (5 points)\n",
        "super_posting_locs = defaultdict(list)\n",
        "for posting_loc in posting_locs_list:\n",
        "  for k, v in posting_loc.items():\n",
        "    super_posting_locs[k].extend(v)\n",
        "\n",
        "assert super_posting_locs['try'][0][0][:3] == '105'\n",
        "assert super_posting_locs['political'][0][0][:2] == '83'\n",
        "assert 'hi' not in super_posting_locs\n",
        "assert len(super_posting_locs) == 14524"
      ]
    },
    {
      "cell_type": "markdown",
      "source": [
        "# text super postings locs"
      ],
      "metadata": {
        "id": "AdfWBuXMrG1x"
      }
    },
    {
      "cell_type": "code",
      "source": [
        "text_super_posting_locs = defaultdict(list)\n",
        "for posting_loc in text_posting_locs_list:\n",
        "  for k, v in posting_loc.items():\n",
        "    text_super_posting_locs[k].extend(v)"
      ],
      "metadata": {
        "id": "RRDawqGZrKkG"
      },
      "execution_count": null,
      "outputs": []
    },
    {
      "cell_type": "markdown",
      "metadata": {
        "id": "xBpxtFW7HeAT"
      },
      "source": [
        "Putting everything together (posting locations, df) and test that the resulting index is correct."
      ]
    },
    {
      "cell_type": "code",
      "execution_count": null,
      "metadata": {
        "id": "VKrew8cUAyTz",
        "colab": {
          "base_uri": "https://localhost:8080/",
          "height": 211
        },
        "collapsed": true,
        "outputId": "b30911f5-5774-47ac-fe8e-a811d54f759e"
      },
      "outputs": [
        {
          "output_type": "error",
          "ename": "NameError",
          "evalue": "name 'super_posting_locs' is not defined",
          "traceback": [
            "\u001b[0;31m---------------------------------------------------------------------------\u001b[0m",
            "\u001b[0;31mNameError\u001b[0m                                 Traceback (most recent call last)",
            "\u001b[0;32m<ipython-input-26-ad74d72bd074>\u001b[0m in \u001b[0;36m<cell line: 4>\u001b[0;34m()\u001b[0m\n\u001b[1;32m      2\u001b[0m \u001b[0minverted\u001b[0m \u001b[0;34m=\u001b[0m \u001b[0mInvertedIndex\u001b[0m\u001b[0;34m(\u001b[0m\u001b[0;34m)\u001b[0m\u001b[0;34m\u001b[0m\u001b[0;34m\u001b[0m\u001b[0m\n\u001b[1;32m      3\u001b[0m \u001b[0;31m# Adding the posting locations dictionary to the inverted index\u001b[0m\u001b[0;34m\u001b[0m\u001b[0;34m\u001b[0m\u001b[0m\n\u001b[0;32m----> 4\u001b[0;31m \u001b[0minverted\u001b[0m\u001b[0;34m.\u001b[0m\u001b[0mposting_locs\u001b[0m \u001b[0;34m=\u001b[0m \u001b[0msuper_posting_locs\u001b[0m\u001b[0;34m\u001b[0m\u001b[0;34m\u001b[0m\u001b[0m\n\u001b[0m\u001b[1;32m      5\u001b[0m \u001b[0;31m# Add the token - df dictionary to the inverted index\u001b[0m\u001b[0;34m\u001b[0m\u001b[0;34m\u001b[0m\u001b[0m\n\u001b[1;32m      6\u001b[0m \u001b[0minverted\u001b[0m\u001b[0;34m.\u001b[0m\u001b[0mdf\u001b[0m \u001b[0;34m=\u001b[0m \u001b[0mw2df_dict\u001b[0m\u001b[0;34m\u001b[0m\u001b[0;34m\u001b[0m\u001b[0m\n",
            "\u001b[0;31mNameError\u001b[0m: name 'super_posting_locs' is not defined"
          ]
        }
      ],
      "source": [
        "# DO NOT RUN !!!!!!!\n",
        "\n",
        "# Create inverted index instance\n",
        "inverted = InvertedIndex()\n",
        "# Adding the posting locations dictionary to the inverted index\n",
        "inverted.posting_locs = super_posting_locs\n",
        "# Add the token - df dictionary to the inverted index\n",
        "inverted.df = w2df_dict\n",
        "# write the global stats out\n",
        "inverted.write_index('.', 'index')"
      ]
    },
    {
      "cell_type": "markdown",
      "source": [
        "# putting it together for text"
      ],
      "metadata": {
        "id": "_yCG5dC7rvG8"
      }
    },
    {
      "cell_type": "code",
      "source": [
        "# Create inverted index instance\n",
        "text_inverted = InvertedIndex()\n",
        "# Adding the posting locations dictionary to the inverted index\n",
        "text_inverted.posting_locs = text_super_posting_locs\n",
        "# Add the token - df dictionary to the inverted index\n",
        "text_inverted.df = text_w2df_dict\n",
        "# write the global stats out\n",
        "# text_inverted.write_index('.', 'index')\n",
        "text_inverted.write_index('.', 'text')\n",
        "\n",
        "move_bin_files('text_index')"
      ],
      "metadata": {
        "id": "t9rWPDePr9yR"
      },
      "execution_count": null,
      "outputs": []
    },
    {
      "cell_type": "markdown",
      "source": [
        "# putting it together for title"
      ],
      "metadata": {
        "id": "48ZboGhBv-v-"
      }
    },
    {
      "cell_type": "code",
      "source": [
        "title_posting_locs_list = partition_postings_and_write(title_postings_filtered).collect()\n",
        "\n",
        "title_super_posting_locs = defaultdict(list)\n",
        "for posting_loc in title_posting_locs_list:\n",
        "  for k, v in posting_loc.items():\n",
        "    title_super_posting_locs[k].extend(v)\n",
        "\n",
        "# Create inverted index instance\n",
        "title_inverted = InvertedIndex()\n",
        "# Adding the posting locations dictionary to the inverted index\n",
        "title_inverted.posting_locs = title_super_posting_locs\n",
        "# Add the token - df dictionary to the inverted index\n",
        "title_inverted.df = title_w2df_dict\n",
        "# write the global stats out\n",
        "title_inverted.write_index('.', 'title')\n",
        "\n",
        "move_bin_files('title_index')"
      ],
      "metadata": {
        "id": "smUAy0fLwtyM"
      },
      "execution_count": null,
      "outputs": []
    },
    {
      "cell_type": "markdown",
      "source": [
        "# putting it together for anchor"
      ],
      "metadata": {
        "id": "TxKPAOU5xZyD"
      }
    },
    {
      "cell_type": "code",
      "source": [
        "anchor_posting_locs_list = partition_postings_and_write(anchor_postings_filtered).collect()\n",
        "\n",
        "anchor_super_posting_locs = defaultdict(list)\n",
        "for posting_loc in anchor_posting_locs_list:\n",
        "  for k, v in posting_loc.items():\n",
        "    anchor_super_posting_locs[k].extend(v)\n",
        "\n",
        "# Create inverted index instance\n",
        "anchor_inverted = InvertedIndex()\n",
        "# Adding the posting locations dictionary to the inverted index\n",
        "anchor_inverted.posting_locs = anchor_super_posting_locs\n",
        "# Add the token - df dictionary to the inverted index\n",
        "anchor_inverted.df = anchor_w2df_dict\n",
        "# write the global stats out\n",
        "anchor_inverted.write_index('.', 'anchor')\n",
        "\n",
        "move_bin_files('anchor_index')"
      ],
      "metadata": {
        "id": "0CYhD9TLxcG6"
      },
      "execution_count": null,
      "outputs": []
    },
    {
      "cell_type": "code",
      "execution_count": null,
      "metadata": {
        "id": "j2_qt2IPkxqz"
      },
      "outputs": [],
      "source": [
        "TUPLE_SIZE = 6\n",
        "TF_MASK = 2 ** 16 - 1 # Masking the 16 low bits of an integer\n",
        "from contextlib import closing\n",
        "\n",
        "def read_posting_list(inverted, w):\n",
        "  with closing(MultiFileReader()) as reader:\n",
        "    locs = inverted.posting_locs[w]\n",
        "    b = reader.read(locs, inverted.df[w] * TUPLE_SIZE)\n",
        "    posting_list = []\n",
        "    for i in range(inverted.df[w]):\n",
        "      doc_id = int.from_bytes(b[i*TUPLE_SIZE:i*TUPLE_SIZE+4], 'big')\n",
        "      tf = int.from_bytes(b[i*TUPLE_SIZE+4:(i+1)*TUPLE_SIZE], 'big')\n",
        "      posting_list.append((doc_id, tf))\n",
        "    return posting_list"
      ]
    },
    {
      "cell_type": "code",
      "execution_count": null,
      "metadata": {
        "id": "VF6gfVFSIzM6",
        "colab": {
          "base_uri": "https://localhost:8080/",
          "height": 193
        },
        "collapsed": true,
        "outputId": "7d74f2af-f6e5-4e97-e5dd-4d7dd97efaa7"
      },
      "outputs": [
        {
          "output_type": "error",
          "ename": "NameError",
          "evalue": "name 'inverted' is not defined",
          "traceback": [
            "\u001b[0;31m---------------------------------------------------------------------------\u001b[0m",
            "\u001b[0;31mNameError\u001b[0m                                 Traceback (most recent call last)",
            "\u001b[0;32m<ipython-input-30-c40eac8e743e>\u001b[0m in \u001b[0;36m<cell line: 2>\u001b[0;34m()\u001b[0m\n\u001b[1;32m      1\u001b[0m \u001b[0;31m## test the final index\u001b[0m\u001b[0;34m\u001b[0m\u001b[0;34m\u001b[0m\u001b[0m\n\u001b[0;32m----> 2\u001b[0;31m \u001b[0mpl\u001b[0m \u001b[0;34m=\u001b[0m \u001b[0mread_posting_list\u001b[0m\u001b[0;34m(\u001b[0m\u001b[0minverted\u001b[0m\u001b[0;34m,\u001b[0m \u001b[0;34m'clarity'\u001b[0m\u001b[0;34m)\u001b[0m\u001b[0;34m\u001b[0m\u001b[0;34m\u001b[0m\u001b[0m\n\u001b[0m\u001b[1;32m      3\u001b[0m \u001b[0;32massert\u001b[0m \u001b[0mpl\u001b[0m\u001b[0;34m[\u001b[0m\u001b[0;34m-\u001b[0m\u001b[0;36m3\u001b[0m\u001b[0;34m]\u001b[0m \u001b[0;34m==\u001b[0m \u001b[0;34m(\u001b[0m\u001b[0;36m2204\u001b[0m\u001b[0;34m,\u001b[0m \u001b[0;36m2\u001b[0m\u001b[0;34m)\u001b[0m\u001b[0;34m\u001b[0m\u001b[0;34m\u001b[0m\u001b[0m\n\u001b[1;32m      4\u001b[0m \u001b[0;32massert\u001b[0m \u001b[0mlen\u001b[0m\u001b[0;34m(\u001b[0m\u001b[0mpl\u001b[0m\u001b[0;34m)\u001b[0m \u001b[0;34m==\u001b[0m \u001b[0;36m18\u001b[0m\u001b[0;34m\u001b[0m\u001b[0;34m\u001b[0m\u001b[0m\n",
            "\u001b[0;31mNameError\u001b[0m: name 'inverted' is not defined"
          ]
        }
      ],
      "source": [
        "# DO NOT RUN !!!!!!!\n",
        "\n",
        "## test the final index\n",
        "pl = read_posting_list(inverted, 'clarity')\n",
        "assert pl[-3] == (2204, 2)\n",
        "assert len(pl) == 18"
      ]
    },
    {
      "cell_type": "markdown",
      "metadata": {
        "id": "I2oCcQwP5zS_"
      },
      "source": [
        "## PageRank"
      ]
    },
    {
      "cell_type": "markdown",
      "metadata": {
        "id": "U9gMGQIohFOz"
      },
      "source": [
        "In this section, your task is to compute PageRank for wiki articles using the anchor text we extracted from the MediaWiki markdown. Let's select the 'id' and 'anchor_text' fields into a new RDD:"
      ]
    },
    {
      "cell_type": "code",
      "execution_count": null,
      "metadata": {
        "id": "pUUdHGbCOr3C"
      },
      "outputs": [],
      "source": [
        "pages_links = spark.read.parquet(path).limit(1000).select(\"id\", \"anchor_text\").rdd"
      ]
    },
    {
      "cell_type": "markdown",
      "metadata": {
        "id": "IVhmHraRIHec"
      },
      "source": [
        "**YOUR TASK (20 POINTS):** Complete the implementation of `generate_graph`, which generates the graph of internal wikipedia links (wiki articles pointing to other wiki articles). Use PySpark to compute the vertices (pages) and edges (links) of the graph. Multiple links from page A to page B need to be represented by a single edge (edges are not weighted). You may use the built-in function `distinct` of the RDD object to identify distinct elements, but be mindful of its impact on computation time."
      ]
    },
    {
      "cell_type": "code",
      "execution_count": null,
      "metadata": {
        "id": "YFRogCnlHIGR"
      },
      "outputs": [],
      "source": [
        "def generate_graph(pages):\n",
        "  ''' Compute the directed graph generated by wiki links.\n",
        "  Parameters:\n",
        "  -----------\n",
        "    pages: RDD\n",
        "      An RDD where each row consists of one wikipedia articles with 'id' and\n",
        "      'anchor_text'.\n",
        "  Returns:\n",
        "  --------\n",
        "    edges: RDD\n",
        "      An RDD where each row represents an edge in the directed graph created by\n",
        "      the wikipedia links. The first entry should the source page id and the\n",
        "      second entry is the destination page id. No duplicates should be present.\n",
        "    vertices: RDD\n",
        "      An RDD where each row represents a vetrix (node) in the directed graph\n",
        "      created by the wikipedia links. No duplicates should be present.\n",
        "  '''\n",
        "  # YOUR CODE HERE\n",
        "  # raise NotImplementedError()\n",
        "\n",
        "  # edges = pages.flatMap(lambda x: [(x[0], anchor) for anchor in x[1]])\n",
        "  # edges = edges.mapValues(lambda x: (x[0],))\n",
        "  edges = pages.flatMap(lambda x: [(x[0], anchor[0]) for anchor in x[1]])\n",
        "  edges = edges.distinct()\n",
        "\n",
        "  # vertices = edges.flatMap(lambda x:  [(x[0],), (x[1],)])\n",
        "  # vertices = edges.flatMap(lambda x: [x[0], x[1][0]]).distinct()\n",
        "  vertices = edges.flatMap(lambda x: [x[0], x[1]]).distinct()\n",
        "  vertices = vertices.map(lambda x: Row(id=x))\n",
        "\n",
        "  # vertices = vertices.map(lambda x: Row(id=x))\n",
        "  # vertices = vertices.distinct()\n",
        "\n",
        "\n",
        "\n",
        "\n",
        "  return edges, vertices"
      ]
    },
    {
      "cell_type": "code",
      "execution_count": null,
      "metadata": {
        "id": "ajIiUP8CCY51"
      },
      "outputs": [],
      "source": [
        "# test graph construction efficiency (10 points)\n",
        "t_start = time()\n",
        "# construct the graph for a small sample of (1000) pages\n",
        "edges, vertices = generate_graph(pages_links)\n",
        "# time the actual execution\n",
        "v_cnt, e_cnt = vertices.count(), edges.count()\n",
        "graph_const_time = time() - t_start\n",
        "# test that the implementation is efficient (<20 seconds)\n",
        "assert graph_const_time < 20"
      ]
    },
    {
      "cell_type": "code",
      "execution_count": null,
      "metadata": {
        "id": "tb6ainuknU6z",
        "colab": {
          "base_uri": "https://localhost:8080/"
        },
        "outputId": "2212a5c0-eef8-4cf6-b201-e6b221f4773f"
      },
      "outputs": [
        {
          "output_type": "stream",
          "name": "stdout",
          "text": [
            "114966\n"
          ]
        }
      ],
      "source": [
        "# test that we get the right number of vertices (5 points)\n",
        "print(v_cnt)\n",
        "assert v_cnt == 114966"
      ]
    },
    {
      "cell_type": "code",
      "execution_count": null,
      "metadata": {
        "id": "ruKfLiFXnqcY",
        "colab": {
          "base_uri": "https://localhost:8080/"
        },
        "outputId": "79a0ad1d-00c8-4877-b5e4-77c0df01d741"
      },
      "outputs": [
        {
          "output_type": "stream",
          "name": "stdout",
          "text": [
            "183727\n"
          ]
        }
      ],
      "source": [
        "# test that we get the right number of edges (5 points)\n",
        "print(e_cnt)\n",
        "assert e_cnt == 183727"
      ]
    },
    {
      "cell_type": "markdown",
      "metadata": {
        "id": "yAx3CmIqOcLn"
      },
      "source": [
        "Let's compute PageRank in a distributed fashion (using PySpark's GraphFrame package) and show the top 20 pages."
      ]
    },
    {
      "cell_type": "code",
      "execution_count": null,
      "metadata": {
        "id": "XQl-tJSFNV_g",
        "colab": {
          "base_uri": "https://localhost:8080/"
        },
        "outputId": "f33a079d-663e-45a8-cdac-63a8cca81422"
      },
      "outputs": [
        {
          "output_type": "stream",
          "name": "stderr",
          "text": [
            "/usr/local/lib/python3.10/dist-packages/pyspark/sql/dataframe.py:168: UserWarning: DataFrame.sql_ctx is an internal property, and will be removed in future releases. Use DataFrame.sparkSession instead.\n",
            "  warnings.warn(\n",
            "/usr/local/lib/python3.10/dist-packages/pyspark/sql/dataframe.py:147: UserWarning: DataFrame constructor is internal. Do not directly use it.\n",
            "  warnings.warn(\"DataFrame constructor is internal. Do not directly use it.\")\n"
          ]
        },
        {
          "output_type": "stream",
          "name": "stdout",
          "text": [
            "+--------+------------------+\n",
            "|      id|          pagerank|\n",
            "+--------+------------------+\n",
            "|  606848|1.9768910954777374|\n",
            "|43432956|1.7183234055660317|\n",
            "|37404646| 1.561180019985396|\n",
            "|  148363| 1.531189053212204|\n",
            "|     308| 1.523973241896932|\n",
            "|     783|1.5205983727677175|\n",
            "|   39235|1.5113438223085562|\n",
            "|   30680| 1.506487061855029|\n",
            "| 3434750|1.5042432651671351|\n",
            "|   48518|1.5032093881505733|\n",
            "| 5843419| 1.475564533072746|\n",
            "|   25458|1.4651925575346503|\n",
            "|     854| 1.433614708798739|\n",
            "|   14532|1.4318560075868727|\n",
            "|   11887| 1.422942493084949|\n",
            "|   32927|1.4195131540605397|\n",
            "| 8034453| 1.414325748041313|\n",
            "|    1686|1.4005429901986137|\n",
            "|   25507|1.3695924013144563|\n",
            "|   61371|1.3682656561066355|\n",
            "+--------+------------------+\n",
            "only showing top 20 rows\n",
            "\n"
          ]
        }
      ],
      "source": [
        "edgesDF = edges.toDF(['src', 'dst']).repartition(4, 'src')\n",
        "verticesDF = vertices.toDF(['id']).repartition(4, 'id')\n",
        "g = GraphFrame(verticesDF, edgesDF)\n",
        "pr_results = g.pageRank(resetProbability=0.15, maxIter=10)\n",
        "pr = pr_results.vertices.select(\"id\", \"pagerank\")\n",
        "pr = pr.sort(col('pagerank').desc())\n",
        "pr.repartition(1).write.csv('pr', compression=\"gzip\")\n",
        "pr.show()"
      ]
    },
    {
      "cell_type": "markdown",
      "metadata": {
        "id": "x0iXbQIstzvW"
      },
      "source": [
        "**YOUR TASK (5 POINTS)**: Complete the implmentation of `get_top_pr_page_titles` to return the titles a few of the top pages as ranked by PageRank and printed above. To get the title for each page id listed above, navigate to the url https://en.wikipedia.org/?curid=wiki_id_here by replacing the `wiki_id_here` part with the page id. For example, if you navigate to https://en.wikipedia.org/?curid=25507 for the page with id 25507 you'd see that its title is 'Roman Empire'."
      ]
    },
    {
      "cell_type": "code",
      "execution_count": null,
      "metadata": {
        "id": "vhZVTSpnxQaj"
      },
      "outputs": [],
      "source": [
        "def get_top_pr_page_titles():\n",
        "  ''' Returns the title of the first, fourth, and fifth pages as ranked about\n",
        "      by PageRank.\n",
        "  Returns:\n",
        "  --------\n",
        "    list of three strings.\n",
        "  '''\n",
        "  # YOUR CODE HERE\n",
        "\n",
        "  # raise NotImplementedError()"
      ]
    },
    {
      "cell_type": "code",
      "execution_count": null,
      "metadata": {
        "id": "nli6ETKzyPn6"
      },
      "outputs": [],
      "source": [
        "assert [_hash(x.lower()) for x in get_top_pr_page_titles()] == \\\n",
        "  ['52bb7dbc02', '3e920ea944', '3d007b19ee']"
      ]
    },
    {
      "cell_type": "markdown",
      "metadata": {
        "id": "d4V85PGkP3We"
      },
      "source": [
        "Do the top ranked pages make sense to you? Why do you think these pages received such a high scores from PageRank?"
      ]
    },
    {
      "cell_type": "markdown",
      "metadata": {
        "id": "OkDnmqAur3Ph"
      },
      "source": [
        "# GCP\n",
        "\n",
        "The second part of the assignment involves running index creation in GCP and reporting results in this notebook. Follow [this](https://docs.google.com/document/d/1HTZVDMQ1gyeq8dlyzmomOkxjSo1Td76PsCGlFkQohps/edit?usp=sharing) step-by-step guide in order to set up your cluster environment on GCP so you can execute pyspark code on a cluster of machines."
      ]
    },
    {
      "cell_type": "markdown",
      "metadata": {
        "id": "Tq-ilXaFLFVh"
      },
      "source": [
        "The code to the GCP notebook is in the moodle under assignment 3. You will have to copy the code you completed here in the relevant sections.\n",
        "\n",
        "In the current notebook we used MapReduce to create the index for only one wiki dump. Using GCP, we will be able to create the index on the entire english wikipedia. The GCP part of this assignment will be the first time we will work with the entire corpus. You will need to follow the notebook, complete the code as you did here (the same code you completed in this notebook can be used in the GCP notebook).\n",
        "At the end of the GCP assignment you will have questions that you will need to answer - this are not the tests we used so far, so you should follow the instructions in the notebook."
      ]
    },
    {
      "cell_type": "markdown",
      "source": [
        "# BM25 class"
      ],
      "metadata": {
        "id": "n_S87DoD6ljF"
      }
    },
    {
      "cell_type": "code",
      "source": [
        "# Modify BM25 class to overcome DL - DL: fetches the document length of each document.\n",
        "\n",
        "import math\n",
        "from itertools import chain\n",
        "import time\n",
        "# When preprocessing the data have a dictionary of document length for each document saved in a variable called `DL`.\n",
        "class BM25_from_index:\n",
        "    \"\"\"\n",
        "    Best Match 25.\n",
        "    ----------\n",
        "    k1 : float, default 1.5\n",
        "\n",
        "    b : float, default 0.75\n",
        "\n",
        "    index: inverted index\n",
        "    \"\"\"\n",
        "\n",
        "    def __init__(self,index,k1=1.5, b=0.75):\n",
        "        self.b = b\n",
        "        self.k1 = k1\n",
        "        self.index = index\n",
        "        self.N = len(DL)\n",
        "        self.AVGDL = sum(DL.values())/self.N\n",
        "        self.words, self.pls = zip(*self.index.posting_lists_iter())\n",
        "\n",
        "    def calc_idf(self,list_of_tokens):\n",
        "        \"\"\"\n",
        "        This function calculate the idf values according to the BM25 idf formula for each term in the query.\n",
        "\n",
        "        Parameters:\n",
        "        -----------\n",
        "        query: list of token representing the query. For example: ['look', 'blue', 'sky']\n",
        "\n",
        "        Returns:\n",
        "        -----------\n",
        "        idf: dictionary of idf scores. As follows:\n",
        "                                                    key: term\n",
        "                                                    value: bm25 idf score\n",
        "        \"\"\"\n",
        "        idf = {}\n",
        "        for term in list_of_tokens:\n",
        "            if term in self.index.df.keys():\n",
        "                n_ti = self.index.df[term]\n",
        "                idf[term] = math.log(1 + (self.N - n_ti + 0.5) / (n_ti + 0.5))\n",
        "            else:\n",
        "                pass\n",
        "        return idf\n",
        "\n",
        "\n",
        "    def search(self, queries,N=3):\n",
        "        \"\"\"\n",
        "        This function calculate the bm25 score for given query and document.\n",
        "        We need to check only documents which are 'candidates' for a given query.\n",
        "        This function return a dictionary of scores as the following:\n",
        "                                                                    key: query_id\n",
        "                                                                    value: a ranked list of pairs (doc_id, score) in the length of N.\n",
        "\n",
        "        Parameters:\n",
        "        -----------\n",
        "        query: list of token representing the query. For example: ['look', 'blue', 'sky']\n",
        "        doc_id: integer, document id.\n",
        "\n",
        "        Returns:\n",
        "        -----------\n",
        "        score: float, bm25 score.\n",
        "        \"\"\"\n",
        "        # YOUR CODE HERE\n",
        "        query_scores = {} # init dict\n",
        "\n",
        "        for query_id, query_tokens in queries.items():\n",
        "            self.idf = self.calc_idf(query_tokens) # calc idf for current query\n",
        "\n",
        "            if not self.idf:\n",
        "                query_scores[query_id] = []  # no relevant documents\n",
        "                continue\n",
        "\n",
        "            # getting candidtaes\n",
        "            candidate_docs = set()\n",
        "            for term in query_tokens:\n",
        "                if term in self.index.df:\n",
        "                    posting_list = self.pls[self.words.index(term)]\n",
        "                    candidate_docs.update([doc_id for doc_id, _ in posting_list])\n",
        "\n",
        "            # calc common terms' data\n",
        "            common_terms_data = {}\n",
        "            for term in query_tokens:\n",
        "                if term in self.index.df:\n",
        "                    posting_list = self.pls[self.words.index(term)]\n",
        "                    common_terms_data[term] = dict(posting_list)\n",
        "\n",
        "            # calc scores for candidates\n",
        "            doc_scores = {}\n",
        "            for doc_id in candidate_docs:\n",
        "                score = 0.0\n",
        "                doc_len = DL[str(doc_id)]\n",
        "\n",
        "                for term in query_tokens:\n",
        "                    if term in common_terms_data and doc_id in common_terms_data[term]:\n",
        "                        freq = common_terms_data[term][doc_id]\n",
        "                        numerator = self.idf[term] * freq * (self.k1 + 1)\n",
        "                        denominator = freq + self.k1 * (1 - self.b + self.b * doc_len / self.AVGDL)\n",
        "                        score += (numerator / denominator)\n",
        "\n",
        "                doc_scores[doc_id] = score\n",
        "\n",
        "            sorted_scores = sorted(doc_scores.items(), key=lambda item: item[1], reverse=True)\n",
        "            top_n_docs = sorted_scores[:N]\n",
        "\n",
        "            query_scores[query_id] = top_n_docs\n",
        "\n",
        "        return query_scores\n",
        "\n",
        "    def _score(self, query, doc_id):\n",
        "        \"\"\"\n",
        "        This function calculate the bm25 score for given query and document.\n",
        "\n",
        "        Parameters:\n",
        "        -----------\n",
        "        query: list of token representing the query. For example: ['look', 'blue', 'sky']\n",
        "        doc_id: integer, document id.\n",
        "\n",
        "        Returns:\n",
        "        -----------\n",
        "        score: float, bm25 score.\n",
        "        \"\"\"\n",
        "        score = 0.0\n",
        "        doc_len = DL[str(doc_id)]\n",
        "\n",
        "        for term in query:\n",
        "            if term in self.index.term_total.keys():\n",
        "                term_frequencies = dict(self.pls[self.words.index(term)])\n",
        "                if doc_id in term_frequencies.keys():\n",
        "                    freq = term_frequencies[doc_id]\n",
        "                    numerator = self.idf[term] * freq * (self.k1 + 1)\n",
        "                    denominator = freq + self.k1 * (1 - self.b + self.b * doc_len / self.AVGDL)\n",
        "                    score += (numerator / denominator)\n",
        "        return score"
      ],
      "metadata": {
        "id": "SuyP5krc6rWk"
      },
      "execution_count": null,
      "outputs": []
    },
    {
      "cell_type": "markdown",
      "source": [
        "# read indices"
      ],
      "metadata": {
        "id": "uDQSb9VkFsOm"
      }
    },
    {
      "cell_type": "code",
      "source": [
        "idx_text = InvertedIndex.read_index('text_index', 'text')\n",
        "idx_title = InvertedIndex.read_index('title_index', 'title')\n",
        "idx_anchor = InvertedIndex.read_index('anchor_index', 'anchor')"
      ],
      "metadata": {
        "id": "pmKq30TOFud1"
      },
      "execution_count": null,
      "outputs": []
    }
  ],
  "metadata": {
    "colab": {
      "provenance": []
    },
    "kernelspec": {
      "display_name": "Python 3 (ipykernel)",
      "language": "python",
      "name": "python3"
    },
    "language_info": {
      "codemirror_mode": {
        "name": "ipython",
        "version": 3
      },
      "file_extension": ".py",
      "mimetype": "text/x-python",
      "name": "python",
      "nbconvert_exporter": "python",
      "pygments_lexer": "ipython3",
      "version": "3.9.20"
    }
  },
  "nbformat": 4,
  "nbformat_minor": 0
}