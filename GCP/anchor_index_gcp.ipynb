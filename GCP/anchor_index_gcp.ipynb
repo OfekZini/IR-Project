{
 "cells": [
  {
   "cell_type": "markdown",
   "id": "a00e032c",
   "metadata": {
    "id": "hWgiQS0zkWJ5"
   },
   "source": [
    "***Important*** DO NOT CLEAR THE OUTPUT OF THIS NOTEBOOK AFTER EXECUTION!!!"
   ]
  },
  {
   "cell_type": "code",
   "execution_count": 1,
   "id": "bf199e6a",
   "metadata": {
    "id": "32b3ec57",
    "nbgrader": {
     "grade": false,
     "grade_id": "cell-Setup",
     "locked": true,
     "schema_version": 3,
     "solution": false,
     "task": false
    },
    "outputId": "fc0e315d-21e9-411d-d69c-5b97e4e5d629"
   },
   "outputs": [
    {
     "name": "stdout",
     "output_type": "stream",
     "text": [
      "\u001b[33mWARNING: Running pip as the 'root' user can result in broken permissions and conflicting behaviour with the system package manager, possibly rendering your system unusable.It is recommended to use a virtual environment instead: https://pip.pypa.io/warnings/venv. Use the --root-user-action option if you know what you are doing and want to suppress this warning.\u001b[0m\u001b[33m\n",
      "\u001b[0m\u001b[33mWARNING: Running pip as the 'root' user can result in broken permissions and conflicting behaviour with the system package manager, possibly rendering your system unusable.It is recommended to use a virtual environment instead: https://pip.pypa.io/warnings/venv. Use the --root-user-action option if you know what you are doing and want to suppress this warning.\u001b[0m\u001b[33m\n",
      "\u001b[0m"
     ]
    }
   ],
   "source": [
    "!pip install -q google-cloud-storage==1.43.0\n",
    "!pip install -q graphframes"
   ]
  },
  {
   "cell_type": "code",
   "execution_count": 2,
   "id": "5ac36d3a",
   "metadata": {
    "id": "c0ccf76b",
    "nbgrader": {
     "grade": false,
     "grade_id": "cell-Worker_Count",
     "locked": true,
     "schema_version": 3,
     "solution": false,
     "task": false
    },
    "outputId": "cf88b954-f39a-412a-d87e-660833e735b6"
   },
   "outputs": [
    {
     "name": "stdout",
     "output_type": "stream",
     "text": [
      "NAME          PLATFORM  PRIMARY_WORKER_COUNT  SECONDARY_WORKER_COUNT  STATUS   ZONE           SCHEDULED_DELETE\r\n",
      "cluster-0016  GCE       2                                             RUNNING  us-central1-a\r\n"
     ]
    }
   ],
   "source": [
    "# if the following command generates an error, you probably didn't enable \n",
    "# the cluster security option \"Allow API access to all Google Cloud services\"\n",
    "# under Manage Security → Project Access when setting up the cluster\n",
    "!gcloud dataproc clusters list --region us-central1"
   ]
  },
  {
   "cell_type": "markdown",
   "id": "51cf86c5",
   "metadata": {
    "id": "01ec9fd3"
   },
   "source": [
    "# Imports & Setup"
   ]
  },
  {
   "cell_type": "code",
   "execution_count": 3,
   "id": "d8f56ecd",
   "metadata": {
    "id": "5609143b",
    "nbgrader": {
     "grade": false,
     "grade_id": "cell-Imports",
     "locked": true,
     "schema_version": 3,
     "solution": false,
     "task": false
    },
    "outputId": "a24aa24b-aa75-4823-83ca-1d7deef0f0de"
   },
   "outputs": [
    {
     "name": "stderr",
     "output_type": "stream",
     "text": [
      "[nltk_data] Downloading package stopwords to /root/nltk_data...\n",
      "[nltk_data]   Package stopwords is already up-to-date!\n"
     ]
    },
    {
     "data": {
      "text/plain": [
       "True"
      ]
     },
     "execution_count": 3,
     "metadata": {},
     "output_type": "execute_result"
    }
   ],
   "source": [
    "import pyspark\n",
    "import sys\n",
    "from collections import Counter, OrderedDict, defaultdict\n",
    "import itertools\n",
    "from itertools import islice, count, groupby\n",
    "import pandas as pd\n",
    "import os\n",
    "import re\n",
    "from operator import itemgetter\n",
    "import nltk\n",
    "from nltk.stem.porter import *\n",
    "from nltk.corpus import stopwords\n",
    "from time import time\n",
    "from pathlib import Path\n",
    "import pickle\n",
    "import pandas as pd\n",
    "from google.cloud import storage\n",
    "\n",
    "import hashlib\n",
    "def _hash(s):\n",
    "    return hashlib.blake2b(bytes(s, encoding='utf8'), digest_size=5).hexdigest()\n",
    "\n",
    "nltk.download('stopwords')"
   ]
  },
  {
   "cell_type": "code",
   "execution_count": 4,
   "id": "38a897f2",
   "metadata": {
    "id": "b10cc999",
    "nbgrader": {
     "grade": false,
     "grade_id": "cell-jar",
     "locked": true,
     "schema_version": 3,
     "solution": false,
     "task": false
    },
    "outputId": "8f93a7ec-71e0-49c1-fc81-9af385849a90"
   },
   "outputs": [
    {
     "name": "stdout",
     "output_type": "stream",
     "text": [
      "-rw-r--r-- 1 root root 247882 Jan 21 11:44 /usr/lib/spark/jars/graphframes-0.8.2-spark3.1-s_2.12.jar\r\n"
     ]
    }
   ],
   "source": [
    "# if nothing prints here you forgot to include the initialization script when starting the cluster\n",
    "!ls -l /usr/lib/spark/jars/graph*"
   ]
  },
  {
   "cell_type": "code",
   "execution_count": 5,
   "id": "47900073",
   "metadata": {
    "id": "d3f86f11",
    "nbgrader": {
     "grade": false,
     "grade_id": "cell-pyspark-import",
     "locked": true,
     "schema_version": 3,
     "solution": false,
     "task": false
    }
   },
   "outputs": [],
   "source": [
    "from pyspark.sql import *\n",
    "from pyspark.sql.functions import *\n",
    "from pyspark import SparkContext, SparkConf, SparkFiles\n",
    "from pyspark.sql import SQLContext\n",
    "from graphframes import *"
   ]
  },
  {
   "cell_type": "code",
   "execution_count": 6,
   "id": "72bed56b",
   "metadata": {
    "id": "5be6dc2a",
    "nbgrader": {
     "grade": false,
     "grade_id": "cell-spark-version",
     "locked": true,
     "schema_version": 3,
     "solution": false,
     "task": false
    },
    "outputId": "07b4e22b-a252-42fb-fe46-d9050e4e7ca8",
    "scrolled": true
   },
   "outputs": [
    {
     "data": {
      "text/html": [
       "\n",
       "            <div>\n",
       "                <p><b>SparkSession - hive</b></p>\n",
       "                \n",
       "        <div>\n",
       "            <p><b>SparkContext</b></p>\n",
       "\n",
       "            <p><a href=\"http://cluster-0016-m.c.ir-hw3-444616.internal:45399\">Spark UI</a></p>\n",
       "\n",
       "            <dl>\n",
       "              <dt>Version</dt>\n",
       "                <dd><code>v3.1.3</code></dd>\n",
       "              <dt>Master</dt>\n",
       "                <dd><code>yarn</code></dd>\n",
       "              <dt>AppName</dt>\n",
       "                <dd><code>PySparkShell</code></dd>\n",
       "            </dl>\n",
       "        </div>\n",
       "        \n",
       "            </div>\n",
       "        "
      ],
      "text/plain": [
       "<pyspark.sql.session.SparkSession at 0x7fc4b7547790>"
      ]
     },
     "execution_count": 6,
     "metadata": {},
     "output_type": "execute_result"
    }
   ],
   "source": [
    "spark"
   ]
  },
  {
   "cell_type": "code",
   "execution_count": 7,
   "id": "980e62a5",
   "metadata": {
    "id": "7adc1bf5",
    "nbgrader": {
     "grade": false,
     "grade_id": "cell-bucket_name",
     "locked": false,
     "schema_version": 3,
     "solution": true,
     "task": false
    }
   },
   "outputs": [],
   "source": [
    "# Put your bucket name below and make sure you can access it without an error\n",
    "bucket_name = 'hw3ir322' \n",
    "full_path = f\"gs://{bucket_name}/\"\n",
    "paths=[]\n",
    "\n",
    "client = storage.Client()\n",
    "blobs = client.list_blobs(bucket_name)\n",
    "for b in blobs:\n",
    "    if \"parquet\" in b.name:\n",
    "#         print(b.name)\n",
    "        paths.append(full_path+b.name)"
   ]
  },
  {
   "cell_type": "markdown",
   "id": "cac891c2",
   "metadata": {
    "id": "13ZX4ervQkku"
   },
   "source": [
    "***GCP setup is complete!*** If you got here without any errors you've earned 10 out of the 35 points of this part."
   ]
  },
  {
   "cell_type": "markdown",
   "id": "582c3f5e",
   "metadata": {
    "id": "c0b0f215"
   },
   "source": [
    "# Building an inverted index"
   ]
  },
  {
   "cell_type": "markdown",
   "id": "481f2044",
   "metadata": {
    "id": "02f81c72"
   },
   "source": [
    "Here, we read the entire corpus to an rdd, directly from Google Storage Bucket and use your code from Colab to construct an inverted index."
   ]
  },
  {
   "cell_type": "code",
   "execution_count": 8,
   "id": "e4c523e7",
   "metadata": {
    "id": "b1af29c9",
    "scrolled": false
   },
   "outputs": [
    {
     "name": "stderr",
     "output_type": "stream",
     "text": [
      "                                                                                \r"
     ]
    }
   ],
   "source": [
    "parquetFile = spark.read.parquet(*paths)\n",
    "doc_anchor_pairs = parquetFile.select(\"anchor_text\", \"id\").rdd"
   ]
  },
  {
   "cell_type": "markdown",
   "id": "0d7e2971",
   "metadata": {
    "id": "f6375562"
   },
   "source": [
    "We will count the number of pages to make sure we are looking at the entire corpus. The number of pages should be more than 6M"
   ]
  },
  {
   "cell_type": "code",
   "execution_count": 9,
   "id": "82881fbf",
   "metadata": {
    "id": "d89a7a9a"
   },
   "outputs": [
    {
     "name": "stderr",
     "output_type": "stream",
     "text": [
      "                                                                                \r"
     ]
    },
    {
     "data": {
      "text/plain": [
       "6348910"
      ]
     },
     "execution_count": 9,
     "metadata": {},
     "output_type": "execute_result"
    }
   ],
   "source": [
    "# Count number of wiki pages\n",
    "parquetFile.count()"
   ]
  },
  {
   "cell_type": "markdown",
   "id": "701811af",
   "metadata": {
    "id": "gaaIoFViXyTg"
   },
   "source": [
    "Let's import the inverted index module. Note that you need to use the staff-provided version called `inverted_index_gcp.py`, which contains helper functions to writing and reading the posting files similar to the Colab version, but with writing done to a Google Cloud Storage bucket."
   ]
  },
  {
   "cell_type": "code",
   "execution_count": null,
   "id": "2571fae4",
   "metadata": {},
   "outputs": [],
   "source": []
  },
  {
   "cell_type": "code",
   "execution_count": 10,
   "id": "121fe102",
   "metadata": {
    "id": "04371c88",
    "outputId": "327fe81b-80f4-4b3a-8894-e74720d92e35"
   },
   "outputs": [
    {
     "name": "stdout",
     "output_type": "stream",
     "text": [
      "inverted_index_gcp.py\r\n"
     ]
    }
   ],
   "source": [
    "# if nothing prints here you forgot to upload the file inverted_index_gcp.py to the home dir\n",
    "%cd -q /home/dataproc\n",
    "!ls inverted_index_gcp.py"
   ]
  },
  {
   "cell_type": "code",
   "execution_count": 11,
   "id": "57c101a8",
   "metadata": {
    "id": "2d3285d8",
    "scrolled": true
   },
   "outputs": [],
   "source": [
    "# adding our python module to the cluster\n",
    "sc.addFile(\"/home/dataproc/inverted_index_gcp.py\")\n",
    "sys.path.insert(0,SparkFiles.getRootDirectory())"
   ]
  },
  {
   "cell_type": "code",
   "execution_count": 12,
   "id": "c259c402",
   "metadata": {
    "id": "2477a5b9"
   },
   "outputs": [],
   "source": [
    "from inverted_index_gcp import InvertedIndex"
   ]
  },
  {
   "cell_type": "markdown",
   "id": "5540c727",
   "metadata": {
    "id": "72bcf46a"
   },
   "source": [
    "**YOUR TASK (10 POINTS)**: Use your implementation of `word_count`, `reduce_word_counts`, `calculate_df`, and `partition_postings_and_write` functions from Colab to build an inverted index for all of English Wikipedia in under 2 hours.\n",
    "\n",
    "A few notes: \n",
    "1. The number of corpus stopwords below is a bit bigger than the colab version since we are working on the whole corpus and not just on one file.\n",
    "2. You need to slightly modify your implementation of  `partition_postings_and_write` because the signature of `InvertedIndex.write_a_posting_list` has changed and now includes an additional argument called `bucket_name` for the target bucket. See the module for more details.\n",
    "3. You are not allowed to change any of the code not coming from Colab. "
   ]
  },
  {
   "cell_type": "code",
   "execution_count": 13,
   "id": "f3ad8fea",
   "metadata": {
    "id": "a4b6ee29",
    "nbgrader": {
     "grade": false,
     "grade_id": "cell-token2bucket",
     "locked": false,
     "schema_version": 3,
     "solution": true,
     "task": false
    }
   },
   "outputs": [],
   "source": [
    "english_stopwords = frozenset(stopwords.words('english'))\n",
    "corpus_stopwords = ['category', 'references', 'also”', 'links', 'extrenal',\n",
    "                 'first', 'see', 'new', 'two', 'list', 'may', 'one', 'district',\n",
    "                 'including', 'became', 'however', 'com', 'many', 'began',\n",
    "                 'make', 'made', 'part', 'would', 'people', 'second', 'also',\n",
    "                 'following', 'history', 'thumb', 'external']\n",
    "\n",
    "all_stopwords = english_stopwords.union(corpus_stopwords)\n",
    "RE_WORD = re.compile(r\"\"\"[\\#\\@\\w](['\\-]?\\w){2,24}\"\"\", re.UNICODE)\n",
    "stemmer = PorterStemmer()\n",
    "NUM_BUCKETS = 124\n",
    "def token2bucket_id(token):\n",
    "  return int(_hash(token),16) % NUM_BUCKETS\n",
    "\n",
    "# PLACE YOUR CODE HERE\n",
    "\n",
    "def partition_postings_and_write(postings, base_dir):\n",
    "  bucket_rdd = postings.map(lambda x: (token2bucket_id(x[0]), x)).groupByKey()\n",
    "\n",
    "  def write_bucket(b_w_pl):\n",
    "      bucket_id, word_posting_pairs = b_w_pl\n",
    "      return InvertedIndex.write_a_posting_list((bucket_id, list(word_posting_pairs)),base_dir,bucket_name)\n",
    "\n",
    "  posting_locs_list = bucket_rdd.map(write_bucket)\n",
    "\n",
    "  return posting_locs_list\n",
    "\n",
    "\n",
    "def reduce_word_counts(unsorted_pl):\n",
    "  ''' Returns a sorted posting list by wiki_id.\n",
    "  Parameters:\n",
    "  -----------\n",
    "    unsorted_pl: list of tuples\n",
    "      A list of (wiki_id, tf) tuples \n",
    "  Returns:\n",
    "  --------\n",
    "    list of tuples\n",
    "      A sorted posting list.\n",
    "  '''\n",
    "  # YOUR CODE HERE\n",
    "  return sorted(unsorted_pl, key = lambda x: x[0])\n",
    "\n",
    "def calculate_df(postings):\n",
    "  ''' Takes a posting list RDD and calculate the df for each token.\n",
    "  Parameters:\n",
    "  -----------\n",
    "    postings: RDD\n",
    "      An RDD where each element is a (token, posting_list) pair.\n",
    "  Returns:\n",
    "  --------\n",
    "    RDD\n",
    "      An RDD where each element is a (token, df) pair.\n",
    "  '''\n",
    "  # YOUR CODE HERE\n",
    "  return postings.map(lambda token: (token[0], len(token[1])))\n",
    "\n",
    "def tokenize(text):\n",
    "  stemmer = PorterStemmer()\n",
    "  tokens = [token.group() for token in RE_WORD.finditer(text.lower())]\n",
    "  stemmed = [stemmer.stem(token) for token in tokens if token not in all_stopwords]\n",
    "  return stemmed\n",
    "\n",
    "\n",
    "\n",
    "def stemmed_word_count(text, id):\n",
    "  tokens = tokenize(text)\n",
    "  token_counts = Counter(tokens)  # Calculate term frequencies efficiently\n",
    "  res_list = [\n",
    "        (token, (id, count))\n",
    "        for token, count in token_counts.items()\n",
    "        if token not in all_stopwords\n",
    "    ]\n",
    "  return res_list"
   ]
  },
  {
   "cell_type": "code",
   "execution_count": 14,
   "id": "7e239d89",
   "metadata": {},
   "outputs": [],
   "source": [
    "new_doc_anchor_pairs = doc_anchor_pairs.flatMap(lambda pair: [(p[1], p[0]) for p in pair[0]])"
   ]
  },
  {
   "cell_type": "code",
   "execution_count": 15,
   "id": "55c8764e",
   "metadata": {
    "id": "0b5d7296",
    "nbgrader": {
     "grade": false,
     "grade_id": "cell-index_construction",
     "locked": false,
     "schema_version": 3,
     "solution": true,
     "task": false
    }
   },
   "outputs": [],
   "source": [
    "# Apply the parse_anchor function to each element in doc_anchor_pairs and flatten the result\n",
    "new_pairs = doc_anchor_pairs.flatMap(lambda pair: [(p[1], p[0]) for p in pair[0]])\n",
    "\n",
    "# Apply the word_count function to each element of tmp_pairs and flatten the result\n",
    "word_counts_anchor = new_pairs.flatMap(lambda x: stemmed_word_count(x[0], x[1]))\n",
    "\n",
    "# Group the word counts by key and apply reduce_word_counts to the values\n",
    "posting_anchor = word_counts_anchor.groupByKey().mapValues(reduce_word_counts)\n",
    "\n",
    "def new_count(posting):\n",
    "    counts = Counter(p[0] for p in posting)\n",
    "    return list(counts.items())\n",
    "\n",
    "# Apply the group function to the values of each key in posting_anchor\n",
    "postings = posting_anchor.map(lambda x: (x[0], new_count(x[1])))"
   ]
  },
  {
   "cell_type": "code",
   "execution_count": null,
   "id": "b19d8c14",
   "metadata": {},
   "outputs": [
    {
     "name": "stderr",
     "output_type": "stream",
     "text": [
      "                                                                                \r"
     ]
    }
   ],
   "source": [
    "w2df = calculate_df(postings)\n",
    "w2df_dict = w2df.collectAsMap()"
   ]
  },
  {
   "cell_type": "code",
   "execution_count": 19,
   "id": "fe420e8d",
   "metadata": {},
   "outputs": [
    {
     "name": "stderr",
     "output_type": "stream",
     "text": [
      "                                                                                \r"
     ]
    }
   ],
   "source": [
    "# partition posting lists and write out\n",
    "_ = partition_postings_and_write(postings, \"anchor\").collect()"
   ]
  },
  {
   "cell_type": "code",
   "execution_count": 20,
   "id": "ab3296f4",
   "metadata": {
    "id": "Opl6eRNLM5Xv",
    "nbgrader": {
     "grade": true,
     "grade_id": "collect-posting",
     "locked": true,
     "points": 0,
     "schema_version": 3,
     "solution": false,
     "task": false
    }
   },
   "outputs": [],
   "source": [
    "# collect all posting lists locations into one super-set\n",
    "super_posting_locs = defaultdict(list)\n",
    "for blob in client.list_blobs(bucket_name, prefix='anchor'):\n",
    "  if not blob.name.endswith(\"pickle\"):\n",
    "    continue\n",
    "  with blob.open(\"rb\") as f:\n",
    "    posting_locs = pickle.load(f)\n",
    "    for k, v in posting_locs.items():\n",
    "      super_posting_locs[k].extend(v)"
   ]
  },
  {
   "cell_type": "markdown",
   "id": "f6f66e3a",
   "metadata": {
    "id": "VhAV0A6dNZWY"
   },
   "source": [
    "Putting it all together"
   ]
  },
  {
   "cell_type": "code",
   "execution_count": 21,
   "id": "a5d2cfb6",
   "metadata": {
    "id": "54vqT_0WNc3w"
   },
   "outputs": [
    {
     "name": "stdout",
     "output_type": "stream",
     "text": [
      "Copying file://index.pkl [Content-Type=application/octet-stream]...\n",
      "\\ [1 files][ 85.8 MiB/ 85.8 MiB]                                                \n",
      "Operation completed over 1 objects/85.8 MiB.                                     \n"
     ]
    }
   ],
   "source": [
    "# Create inverted index instance\n",
    "inverted = InvertedIndex()\n",
    "# Adding the posting locations dictionary to the inverted index\n",
    "inverted.posting_locs = super_posting_locs\n",
    "# Add the token - df dictionary to the inverted index\n",
    "inverted.df = w2df_dict\n",
    "# write the global stats out\n",
    "inverted.write_index('.', 'index')\n",
    "# upload to gs\n",
    "index_src = \"index.pkl\"\n",
    "index_dst = f'gs://{bucket_name}/anchor_stemmed/{index_src}'\n",
    "!gsutil cp $index_src $index_dst"
   ]
  },
  {
   "cell_type": "code",
   "execution_count": 22,
   "id": "8f880d59",
   "metadata": {
    "id": "msogGbJ3c8JF",
    "nbgrader": {
     "grade": false,
     "grade_id": "cell-index_dst_size",
     "locked": true,
     "schema_version": 3,
     "solution": false,
     "task": false
    }
   },
   "outputs": [
    {
     "name": "stdout",
     "output_type": "stream",
     "text": [
      " 85.85 MiB  2025-01-21T13:33:16Z  gs://hw3ir322/anchor_stemmed/index.pkl\r\n",
      "TOTAL: 1 objects, 90020092 bytes (85.85 MiB)\r\n"
     ]
    }
   ],
   "source": [
    "!gsutil ls -lh $index_dst"
   ]
  },
  {
   "cell_type": "code",
   "execution_count": null,
   "id": "3424b49e",
   "metadata": {},
   "outputs": [
    {
     "name": "stderr",
     "output_type": "stream",
     "text": [
      "25/01/21 14:23:49 INFO org.apache.spark.SparkEnv: Registering MapOutputTracker\n",
      "25/01/21 14:23:49 INFO org.apache.spark.SparkEnv: Registering BlockManagerMaster\n",
      "25/01/21 14:23:49 INFO org.apache.spark.SparkEnv: Registering BlockManagerMasterHeartbeat\n",
      "25/01/21 14:23:49 INFO org.apache.spark.SparkEnv: Registering OutputCommitCoordinator\n",
      "25/01/21 14:23:50 ERROR org.apache.spark.deploy.yarn.ApplicationMaster: Uncaught exception: \n",
      "org.apache.hadoop.yarn.exceptions.InvalidApplicationMasterRequestException: Application doesn't exist in cache appattempt_1737459814609_0004_000001\n",
      "\tat org.apache.hadoop.yarn.server.resourcemanager.ApplicationMasterService.throwApplicationDoesNotExistInCacheException(ApplicationMasterService.java:361)\n",
      "\tat org.apache.hadoop.yarn.server.resourcemanager.ApplicationMasterService.registerApplicationMaster(ApplicationMasterService.java:259)\n",
      "\tat org.apache.hadoop.yarn.api.impl.pb.service.ApplicationMasterProtocolPBServiceImpl.registerApplicationMaster(ApplicationMasterProtocolPBServiceImpl.java:90)\n",
      "\tat org.apache.hadoop.yarn.proto.ApplicationMasterProtocol$ApplicationMasterProtocolService$2.callBlockingMethod(ApplicationMasterProtocol.java:95)\n",
      "\tat org.apache.hadoop.ipc.ProtobufRpcEngine$Server$ProtoBufRpcInvoker.call(ProtobufRpcEngine.java:549)\n",
      "\tat org.apache.hadoop.ipc.ProtobufRpcEngine$Server$ProtoBufRpcInvoker.call(ProtobufRpcEngine.java:518)\n",
      "\tat org.apache.hadoop.ipc.RPC$Server.call(RPC.java:1086)\n",
      "\tat org.apache.hadoop.ipc.Server$RpcCall.run(Server.java:1035)\n",
      "\tat org.apache.hadoop.ipc.Server$RpcCall.run(Server.java:963)\n",
      "\tat java.security.AccessController.doPrivileged(Native Method)\n",
      "\tat javax.security.auth.Subject.doAs(Subject.java:422)\n",
      "\tat org.apache.hadoop.security.UserGroupInformation.doAs(UserGroupInformation.java:1762)\n",
      "\tat org.apache.hadoop.ipc.Server$Handler.run(Server.java:2960)\n",
      "\n",
      "\tat sun.reflect.NativeConstructorAccessorImpl.newInstance0(Native Method)\n",
      "\tat sun.reflect.NativeConstructorAccessorImpl.newInstance(NativeConstructorAccessorImpl.java:62)\n",
      "\tat sun.reflect.DelegatingConstructorAccessorImpl.newInstance(DelegatingConstructorAccessorImpl.java:45)\n",
      "\tat java.lang.reflect.Constructor.newInstance(Constructor.java:423)\n",
      "\tat org.apache.hadoop.yarn.ipc.RPCUtil.instantiateException(RPCUtil.java:53)\n",
      "\tat org.apache.hadoop.yarn.ipc.RPCUtil.instantiateYarnException(RPCUtil.java:75)\n",
      "\tat org.apache.hadoop.yarn.ipc.RPCUtil.unwrapAndThrowException(RPCUtil.java:116)\n",
      "\tat org.apache.hadoop.yarn.api.impl.pb.client.ApplicationMasterProtocolPBClientImpl.registerApplicationMaster(ApplicationMasterProtocolPBClientImpl.java:109)\n",
      "\tat sun.reflect.NativeMethodAccessorImpl.invoke0(Native Method)\n",
      "\tat sun.reflect.NativeMethodAccessorImpl.invoke(NativeMethodAccessorImpl.java:62)\n",
      "\tat sun.reflect.DelegatingMethodAccessorImpl.invoke(DelegatingMethodAccessorImpl.java:43)\n",
      "\tat java.lang.reflect.Method.invoke(Method.java:498)\n",
      "\tat org.apache.hadoop.io.retry.RetryInvocationHandler.invokeMethod(RetryInvocationHandler.java:433)\n",
      "\tat org.apache.hadoop.io.retry.RetryInvocationHandler$Call.invokeMethod(RetryInvocationHandler.java:166)\n",
      "\tat org.apache.hadoop.io.retry.RetryInvocationHandler$Call.invoke(RetryInvocationHandler.java:158)\n",
      "\tat org.apache.hadoop.io.retry.RetryInvocationHandler$Call.invokeOnce(RetryInvocationHandler.java:96)\n",
      "\tat org.apache.hadoop.io.retry.RetryInvocationHandler.invoke(RetryInvocationHandler.java:362)\n",
      "\tat com.sun.proxy.$Proxy23.registerApplicationMaster(Unknown Source)\n",
      "\tat org.apache.hadoop.yarn.client.api.impl.AMRMClientImpl.registerApplicationMaster(AMRMClientImpl.java:247)\n",
      "\tat org.apache.hadoop.yarn.client.api.impl.AMRMClientImpl.registerApplicationMaster(AMRMClientImpl.java:234)\n",
      "\tat org.apache.hadoop.yarn.client.api.impl.AMRMClientImpl.registerApplicationMaster(AMRMClientImpl.java:214)\n",
      "\tat org.apache.spark.deploy.yarn.YarnRMClient.register(YarnRMClient.scala:72)\n",
      "\tat org.apache.spark.deploy.yarn.ApplicationMaster.registerAM(ApplicationMaster.scala:432)\n",
      "\tat org.apache.spark.deploy.yarn.ApplicationMaster.runUnmanaged(ApplicationMaster.scala:310)\n",
      "\tat org.apache.spark.deploy.yarn.Client$$anon$3.run(Client.scala:1154)\n",
      "Caused by: org.apache.hadoop.ipc.RemoteException(org.apache.hadoop.yarn.exceptions.InvalidApplicationMasterRequestException): Application doesn't exist in cache appattempt_1737459814609_0004_000001\n",
      "\tat org.apache.hadoop.yarn.server.resourcemanager.ApplicationMasterService.throwApplicationDoesNotExistInCacheException(ApplicationMasterService.java:361)\n",
      "\tat org.apache.hadoop.yarn.server.resourcemanager.ApplicationMasterService.registerApplicationMaster(ApplicationMasterService.java:259)\n",
      "\tat org.apache.hadoop.yarn.api.impl.pb.service.ApplicationMasterProtocolPBServiceImpl.registerApplicationMaster(ApplicationMasterProtocolPBServiceImpl.java:90)\n",
      "\tat org.apache.hadoop.yarn.proto.ApplicationMasterProtocol$ApplicationMasterProtocolService$2.callBlockingMethod(ApplicationMasterProtocol.java:95)\n",
      "\tat org.apache.hadoop.ipc.ProtobufRpcEngine$Server$ProtoBufRpcInvoker.call(ProtobufRpcEngine.java:549)\n",
      "\tat org.apache.hadoop.ipc.ProtobufRpcEngine$Server$ProtoBufRpcInvoker.call(ProtobufRpcEngine.java:518)\n",
      "\tat org.apache.hadoop.ipc.RPC$Server.call(RPC.java:1086)\n",
      "\tat org.apache.hadoop.ipc.Server$RpcCall.run(Server.java:1035)\n",
      "\tat org.apache.hadoop.ipc.Server$RpcCall.run(Server.java:963)\n",
      "\tat java.security.AccessController.doPrivileged(Native Method)\n",
      "\tat javax.security.auth.Subject.doAs(Subject.java:422)\n",
      "\tat org.apache.hadoop.security.UserGroupInformation.doAs(UserGroupInformation.java:1762)\n",
      "\tat org.apache.hadoop.ipc.Server$Handler.run(Server.java:2960)\n",
      "\n",
      "\tat org.apache.hadoop.ipc.Client.getRpcResponse(Client.java:1611)\n",
      "\tat org.apache.hadoop.ipc.Client.call(Client.java:1557)\n",
      "\tat org.apache.hadoop.ipc.Client.call(Client.java:1454)\n",
      "\tat org.apache.hadoop.ipc.ProtobufRpcEngine$Invoker.invoke(ProtobufRpcEngine.java:231)\n",
      "\tat org.apache.hadoop.ipc.ProtobufRpcEngine$Invoker.invoke(ProtobufRpcEngine.java:118)\n",
      "\tat com.sun.proxy.$Proxy22.registerApplicationMaster(Unknown Source)\n",
      "\tat org.apache.hadoop.yarn.api.impl.pb.client.ApplicationMasterProtocolPBClientImpl.registerApplicationMaster(ApplicationMasterProtocolPBClientImpl.java:107)\n",
      "\t... 17 more\n"
     ]
    }
   ],
   "source": []
  },
  {
   "cell_type": "code",
   "execution_count": 19,
   "id": "5969da56",
   "metadata": {},
   "outputs": [
    {
     "name": "stdout",
     "output_type": "stream",
     "text": [
      "<SparkContext master=yarn appName=PySparkShell>\n",
      "<pyspark.sql.session.SparkSession object at 0x7fc5856e5790>\n"
     ]
    }
   ],
   "source": [
    "print(sc)  # Should not be None\n",
    "print(spark)  # Should not be None\n"
   ]
  },
  {
   "cell_type": "markdown",
   "id": "c709f24d",
   "metadata": {},
   "source": [
    "### currently not working"
   ]
  },
  {
   "cell_type": "code",
   "execution_count": 15,
   "id": "39bf2baa",
   "metadata": {},
   "outputs": [
    {
     "name": "stderr",
     "output_type": "stream",
     "text": [
      "                                                                                \r"
     ]
    },
    {
     "data": {
      "text/plain": [
       "[Row(anchor_text=[Row(id=1176764, text='Tactical Air Command'), Row(id=91416, text='Victoria County'), Row(id=136747, text='Victoria, Texas'), Row(id=23814944, text='USGS'), Row(id=185235, text='Air Force Base'), Row(id=32090, text='United States Air Force'), Row(id=29810, text='Texas'), Row(id=91416, text='Victoria County'), Row(id=136747, text='Victoria'), Row(id=32927, text='World War II'), Row(id=1176764, text='Tactical Air Command'), Row(id=325329, text='Cold War'), Row(id=136815, text='Georgetown'), Row(id=23869026, text='U.S. Army Air Corps'), Row(id=1875937, text='Brooks Field'), Row(id=53848, text='San Antonio'), Row(id=763002, text='AT-6'), Row(id=1484086, text='Guadalupe River'), Row(id=18717338, text='$'), Row(id=373962, text='War Department'), Row(id=1029642, text='flight officers'), Row(id=6120180, text='warrant officers'), Row(id=201930, text='second lieutenants'), Row(id=60098, text='Pearl Harbor'), Row(id=1468292, text='WACs'), Row(id=763002, text='AT-6'), Row(id=7211, text='P-40'), Row(id=1856667, text='Matagorda Island'), Row(id=15152886, text='Aloe\\xa0AAF'), Row(id=15456875, text='Curtiss JN-6H'), Row(id=1875937, text='Brooks Field'), Row(id=53848, text='San Antonio'), Row(id=16772, text='Korean War'), Row(id=3402989, text='Air Training Command'), Row(id=938411, text='T-28'), Row(id=359127, text='T-33'), Row(id=28118, text='Strategic Air Command'), Row(id=1176764, text='Tactical Air Command'), Row(id=4879797, text='Greenville AFB'), Row(id=11445694, text='Laredo AFB'), Row(id=359331, text='F-86F Sabre'), Row(id=3809275, text='Ninth Air Force'), Row(id=32611, text='Vietnam War'), Row(id=11103727, text='37th Tactical Fighter Wing'), Row(id=50418330, text='Phu Cat Air Base'), Row(id=635378, text='KB-50D Superfortress'), Row(id=229921, text='F-100C/D Super Sabre'), Row(id=464050, text='Nineteenth Air Force'), Row(id=287824, text='1958 Lebanon crisis'), Row(id=7515928, text='Iraq'), Row(id=19833621, text='450th Tactical Fighter Wing'), Row(id=24113, text='President'), Row(id=8182, text='Dwight D. Eisenhower'), Row(id=56080538, text='Seymour Johnson AFB'), Row(id=21650, text='North Carolina'), Row(id=54533, text='Lyndon B. Johnson'), Row(id=381546, text='Ralph Yarborough'), Row(id=6940711, text='Clark Thompson'), Row(id=128852, text='Minot AFB'), Row(id=21651, text='North Dakota'), Row(id=19833621, text='450th Bombardment Wing'), Row(id=18933037, text='B-52H'), Row(id=26470738, text='Gulf Coast Air Corps Training Center'), Row(id=3402989, text='Air Corps Flying Training Command (later Army Air Forces Flying Training Command, Army Air Forces Training Command)'), Row(id=19833621, text='450th Fighter-Bomber Wing (later 450th Fighter-Day Wing, 450th Tactical Fighter Wing)'), Row(id=22445776, text='450th Fighter-Bomber Group (later 450th Fighter-Day Group)'), Row(id=9397737, text='322d Fighter-Day Group'), Row(id=464050, text='Nineteenth Air Force'), Row(id=763002, text='AT-6 Texan'), Row(id=7211, text='P-40 Warhawk'), Row(id=359331, text='F-86 Sabre'), Row(id=229921, text='F-100 Super Sabre'), Row(id=424408, text='General Services Administration'), Row(id=15152886, text='Aloe Army Airfield'), Row(id=460511, text='C-54 Skymaster'), Row(id=2696255, text='Victoria Regional Airport'), Row(id=14298059, text='Civil Air Patrol'), Row(id=57636070, text='Texas World War II Army Airfields'), Row(id=42254836, text='77th Flying Training Wing (World War II)')], id=4045403),\n",
       " Row(anchor_text=[Row(id=77743, text='2006 Winter Olympics'), Row(id=19450529, text='Turin'), Row(id=14532, text='Italy'), Row(id=1971968, text='Indoor arena'), Row(id=34706358, text='Annibale'), Row(id=6901053, text='Gae Aulenti'), Row(id=29539388, text='Franco Levi'), Row(id=990886, text='lire'), Row(id=3921, text='Basketball'), Row(id=11152, text='Figure skating'), Row(id=40058, text='Short track'), Row(id=1971968, text='indoor arena'), Row(id=19450529, text='Turin'), Row(id=14532, text='Italy'), Row(id=40126791, text='River Po'), Row(id=29539388, text='Franco Levi'), Row(id=34706358, text='Annibale'), Row(id=2153809, text='seating capacity'), Row(id=3921, text='basketball'), Row(id=16907195, text='The Italian Job'), Row(id=4051586, text='Mini'), Row(id=41791109, text='Expo 61'), Row(id=50086097, text='Paolo Monti'), Row(id=41791109, text=\"Italia '61 Expo\"), Row(id=2977124, text='figure skating'), Row(id=3489797, text='short track speed skating'), Row(id=77743, text='2006 Winter Olympics'), Row(id=9472, text='euros'), Row(id=21759167, text='2010 World Figure Skating Championships'), Row(id=13570080, text='2008 ULEB Cup'), Row(id=16367674, text='Final Eight'), Row(id=7170257, text='EuroCup'), Row(id=17306260, text='2008–09 season'), Row(id=15615996, text='2005 European Figure Skating Championships'), Row(id=77743, text='2006 Winter Olympics'), Row(id=2977124, text='Figure Skating'), Row(id=3489797, text='Short Track Speed Skating'), Row(id=3458696, text='2007 Winter Universiade'), Row(id=11152, text='Figure Skating'), Row(id=40058, text='Short Track Speed Skating'), Row(id=12912726, text='2007–2008 Grand Prix of Figure Skating Final'), Row(id=19620384, text='2008 Rhythmic Gymnastics European Championships'), Row(id=21759167, text='2010 World Figure Skating Championships'), Row(id=52864186, text='2017 European Short Track Speed Skating Championships'), Row(id=61102282, text='2019 Grand Prix Figure Skating Final'), Row(id=59423036, text='List of indoor arenas in Italy')], id=4045413),\n",
       " Row(anchor_text=[Row(id=34028256, text='Joyce Barbour'), Row(id=1148963, text='Steffi Duna'), Row(id=33185231, text='Norah Howard'), Row(id=4629504, text='Doris Hare'), Row(id=16764285, text='Noël Coward'), Row(id=9897835, text='popular song'), Row(id=16764285, text='Noël Coward'), Row(id=776763, text='revue'), Row(id=22132292, text='Words and Music'), Row(id=34028256, text='Joyce Barbour'), Row(id=1148963, text='Steffi Duna'), Row(id=33185231, text='Norah Howard'), Row(id=4629504, text='Doris Hare'), Row(id=166278, text='Dinah Washington'), Row(id=503153, text=\"Levi's\"), Row(id=2004855, text='Tarsem Singh'), Row(id=5139737, text='matinee idol'), Row(id=16059966, text='New York production'), Row(id=83987, text='camp humorous'), Row(id=862471, text='effeminacy'), Row(id=147369, text='Myrna Loy'), Row(id=26410, text='conversion therapy'), Row(id=229504, text='Douglas Fairbanks Jr'), Row(id=581217, text='Tyrone Power'), Row(id=166278, text='Dinah Washington'), Row(id=15613, text='Jazz'), Row(id=165563, text='easy listening'), Row(id=88290, text='traditional pop'), Row(id=325909, text='Mercury'), Row(id=16764285, text='Noël Coward'), Row(id=205508, text='Quincy Jones'), Row(id=166278, text='Dinah Washington'), Row(id=205508, text='Quincy Jones'), Row(id=30282, text=' time'), Row(id=6886, text='Chicago'), Row(id=325909, text='Mercury label'), Row(id=954621, text='Roulette'), Row(id=503153, text=\"Levi's\"), Row(id=4537, text='Burt Lancaster'), Row(id=7078738, text='The Swimmer'), Row(id=370701, text='tie-in'), Row(id=3349146, text='UK singles chart'), Row(id=611805, text='Ray Noble'), Row(id=537017, text='Jack Hylton'), Row(id=13697322, text='Anona Winn'), Row(id=2789643, text='Elsie Carlisle'), Row(id=6225867, text='Maxine Sullivan'), Row(id=354525, text='Patti Page'), Row(id=13523385, text='The Waltz Queen'), Row(id=676082, text='Jessica Biel'), Row(id=16855103, text='Easy Virtue'), Row(id=1941141, text='Helen Forrest'), Row(id=22493479, text='Fallout: New Vegas'), Row(id=6944744, text='Belle Baker'), Row(id=7940785, text='Georgia Brown'), Row(id=1641899, text='Blossom Dearie'), Row(id=588889, text='Buddy DeFranco'), Row(id=167651, text='Marianne Faithfull'), Row(id=3192653, text='Frances Faye'), Row(id=1941141, text='Helen Forrest'), Row(id=2515979, text='Maria Friedman'), Row(id=143114, text='Jackie Gleason'), Row(id=577795, text='Gogi Grant'), Row(id=1774624, text='Glen Gray'), Row(id=153084, text='Joyce Grenfell'), Row(id=263994, text='Lena Horne'), Row(id=3244128, text='Greta Keller'), Row(id=488957, text='Eartha Kitt'), Row(id=514448, text='Cleo Laine'), Row(id=592843, text='Gertrude Lawrence'), Row(id=1557996, text='Amanda Lear'), Row(id=52021623, text='Let Me Entertain You'), Row(id=711497, text='Beatrice Lillie'), Row(id=1013175, text='Julie London'), Row(id=13450561, text='London by Night'), Row(id=2372289, text='Andrea Marcovicci'), Row(id=444716, text='Billy May'), Row(id=537880, text='Marian McPartland'), Row(id=29828392, text='At the Hickory House'), Row(id=2885585, text='Carmen McRae'), Row(id=56982, text=\"Anita O'Day\"), Row(id=199563, text='Esther Ofarim'), Row(id=43848, text='Cybill Shepherd'), Row(id=307715, text='Stan Getz'), Row(id=413457, text='Elaine Paige'), Row(id=22102070, text='Romance & the Stage'), Row(id=100301, text='Miss Piggy'), Row(id=735606, text='Tom Robinson'), Row(id=445332, text='Dinah Shore'), Row(id=1644840, text='Sheridan Smith'), Row(id=6928542, text='Jeri Southern'), Row(id=29894670, text=\"The Dream's on Jeri\"), Row(id=6225867, text='Maxine Sullivan'), Row(id=43684156, text='Cécile McLorin Salvant')], id=4045419),\n",
       " Row(anchor_text=[Row(id=1838386, text='Woodville-West Torrens'), Row(id=344696, text='SANFL'), Row(id=13575170, text='1993 National Draft'), Row(id=2403, text='Australian rules football'), Row(id=4732785, text='Australian Football League'), Row(id=24602, text='Port Adelaide'), Row(id=13007, text='Geelong'), Row(id=3393693, text='AFL Grand Final'), Row(id=8409938, text='1994'), Row(id=8289452, text='1995'), Row(id=34094, text='Footscray'), Row(id=7927936, text='1997'), Row(id=3109573, text='1999 season'), Row(id=30420200, text='Kalkee'), Row(id=19099867, text='Horsham district league'), Row(id=13519296, text='2009 West End Slowdown'), Row(id=1966532, text='Horsham')], id=4045426),\n",
       " Row(anchor_text=[Row(id=1511716, text='Aditya Chola'), Row(id=4073635, text='Gandaraditya'), Row(id=4073635, text='Gandaraditya'), Row(id=4089339, text='Arikulakesari'), Row(id=3118873, text='Chola kingdom'), Row(id=14533, text='India'), Row(id=975385, text='Pandya'), Row(id=975385, text='Pandya'), Row(id=186095, text='Madurai'), Row(id=26750, text='Sri Lanka'), Row(id=563915, text='Vellore'), Row(id=981122, text='Mahavamsa'), Row(id=23661668, text='Rohana'), Row(id=312477, text='Nellore'), Row(id=34321980, text='Battle of Takkolam'), Row(id=6892837, text='Krishna III'), Row(id=10092636, text='copper-plate inscriptions'), Row(id=1306955, text='Chidambaram'), Row(id=18540632, text='Siva'), Row(id=186160, text='Tiruchirappalli'), Row(id=4089339, text='Arikulakesari'), Row(id=4073635, text='Gandaraditya'), Row(id=62809437, text='Chera Perumals'), Row(id=59853685, text='Chera princesses'), Row(id=29545274, text='Rajaditya'), Row(id=19334491, text='Vishnu'), Row(id=29545274, text='Rajaditya'), Row(id=4073635, text='Gandaraditya'), Row(id=5811697, text='Tiruvorriyur'), Row(id=51530520, text='Thondaimandalam'), Row(id=4089339, text='Arinjaya'), Row(id=5811697, text='Tiruvorriyur'), Row(id=29545274, text='Rajaditya'), Row(id=34321980, text='Battle of Takkolam'), Row(id=3118873, text='Chola'), Row(id=1511716, text='Aditya I'), Row(id=4073635, text='Gandaraditya')], id=4045432),\n",
       " Row(anchor_text=[Row(id=4665376, text='Arundel & Shoreham'), Row(id=1798003, text='Arundel & South Downs'), Row(id=1829780, text='Bognor Regis & Littlehampton'), Row(id=49699, text='Sussex'), Row(id=142267, text='Arundel'), Row(id=12261613, text='West Sussex'), Row(id=1784582, text='parliamentary constituency'), Row(id=407950, text='Kingdom of England'), Row(id=158019, text='Kingdom of Great Britain'), Row(id=31717, text='United Kingdom'), Row(id=142267, text='Arundel'), Row(id=1784582, text='borough constituency'), Row(id=547757, text='Reform Act 1867'), Row(id=45777, text='Great Reform Act'), Row(id=350522, text='Bognor Regis'), Row(id=349110, text='Boundary Commission'), Row(id=1798003, text='Arundel & South Downs'), Row(id=1829780, text='Bognor Regis & Littlehampton'), Row(id=47883402, text='William Chapman'), Row(id=36189511, text='Richard Sackville'), Row(id=36189526, text='Thomas Prestall'), Row(id=36189553, text='Sir Nicholas Pelham'), Row(id=35807346, text='Thomas Carpenter'), Row(id=36189587, text='Thomas Palmer'), Row(id=36189606, text='Thomas Morley'), Row(id=36189587, text='Sir Thomas Palmer'), Row(id=19645385, text='Thomas Gawdy'), Row(id=27864349, text='Sir Thomas Holcroft'), Row(id=36479187, text='Sir Thomas Stradling'), Row(id=36189885, text='John Burnet'), Row(id=51350067, text='Richard Bowyer'), Row(id=29303801, text='Sir Henry Paget'), Row(id=30107194, text='William Damsell'), Row(id=42579592, text='Edward Stradling'), Row(id=4698041, text='Sir Francis Knollys'), Row(id=14493133, text='Thomas Heneage'), Row(id=23663464, text='Sir John St Leger'), Row(id=15932445, text='William Aubrey'), Row(id=36199184, text='Thomas Browne'), Row(id=27698273, text='Michael Heneage'), Row(id=30816817, text='Thomas Fanshawe'), Row(id=36199334, text='Richard Browne'), Row(id=30816817, text='Thomas Fanshawe'), Row(id=36199406, text='Robert Buxton'), Row(id=30816817, text='Thomas Fanshawe'), Row(id=31034409, text='Thomas Palmer'), Row(id=18148910, text='Sir Owen Hopton'), Row(id=30816817, text='Thomas Fanshawe'), Row(id=30816817, text='Thomas Fanshawe'), Row(id=143328, text='Richard Baker'), Row(id=32923294, text='William Essex'), Row(id=31034409, text='Thomas Palmer'), Row(id=36199522, text='Thomas Baker'), Row(id=34291492, text='Sir Henry Spiller'), Row(id=1799721, text='Lionel Cranfield'), Row(id=2289427, text='Sir Richard Weston'), Row(id=34291492, text='Sir Henry Spiller'), Row(id=34291492, text='Sir Henry Spiller'), Row(id=33603091, text='Sir George Chaworth'), Row(id=34291492, text='Sir Henry Spiller'), Row(id=29461995, text='John Alford'), Row(id=8528841, text='Henry Lord Maltravers'), Row(id=212350, text='April 1640'), Row(id=31049712, text='Henry Garton'), Row(id=69093, text='Parliamentarian'), Row(id=16327413, text='Henry Goring'), Row(id=18065, text='November 1640'), Row(id=31049712, text='Henry Garton'), Row(id=69093, text='Parliamentarian'), Row(id=34016043, text='Sir Edward Alford'), Row(id=484563, text='Royalist'), Row(id=1479439, text='John Downes'), Row(id=69093, text='Parliamentarian'), Row(id=209542, text=\"Pride's Purge\"), Row(id=213058, text='Barebones Parliament'), Row(id=1800290, text='1654'), Row(id=33411105, text='Anthony Shirley'), Row(id=1800290, text='First'), Row(id=1800845, text='Second'), Row(id=1800845, text='1656'), Row(id=16035833, text='Sir John Trevor'), Row(id=1804490, text='January 1659'), Row(id=13868311, text='Richard Marriot'), Row(id=209553, text='May 1659'), Row(id=1479439, text='John Downes'), Row(id=539225, text='The Earl of Orrery'), Row(id=5086785, text='The Viscount Falkland'), Row(id=935771, text='John Trevor'), Row(id=31481092, text='The Lord Aungier of Longford'), Row(id=42593724, text='William Garway'), Row(id=28277059, text='James Butler'), Row(id=28277059, text='James Butler'), Row(id=25574915, text='Lord Walden'), Row(id=25574915, text='Lord Walden'), Row(id=24510735, text='Edmund Dummer'), Row(id=24510735, text='Edmund Dummer'), Row(id=24510735, text='Edmund Dummer'), Row(id=27484865, text='James Butler'), Row(id=60774987, text='Sir Henry Peachey, Bt'), Row(id=407457, text='The Viscount Shannon'), Row(id=7376780, text='Viscount Lumley'), Row(id=60051450, text='The Earl of Thomond'), Row(id=2424606, text='Viscount Lumley'), Row(id=43729, text='Whig'), Row(id=7376379, text='General Henry Lumley'), Row(id=16557062, text='Joseph Micklethwaite'), Row(id=18583956, text='Thomas Lumley'), Row(id=59049897, text='Sir John Shelley, Bt'), Row(id=1882742, text='The Viscount Gage'), Row(id=59799850, text='John Lumley'), Row(id=60138322, text='Garton Orme'), Row(id=36446972, text='James Lumley'), Row(id=16037017, text='Sir George Colebrooke, Bt'), Row(id=34228324, text='Thomas Griffin'), Row(id=42931414, text='John Bristow'), Row(id=51134666, text='John Stewart'), Row(id=56154200, text='Thomas Brand'), Row(id=56154724, text='George Newnham'), Row(id=43729, text='Whig'), Row(id=428227, text='Tory'), Row(id=1923792, text='Earl of Surrey'), Row(id=43729, text='Whig'), Row(id=43729, text='Whig'), Row(id=26721380, text='Sir George Thomas, Bt'), Row(id=428227, text='Tory'), Row(id=25598254, text='Henry Howard'), Row(id=43729, text='Whig'), Row(id=20929023, text='Sir Thomas Gascoigne, Bt'), Row(id=43729, text='Whig'), Row(id=3906931, text='Nisbet Balfour'), Row(id=23095957, text='Viscount Andover'), Row(id=43729, text='Whig'), Row(id=36199604, text='John Atkins'), Row(id=428227, text='Tory'), Row(id=37841903, text='Sir Arthur Piggott'), Row(id=43729, text='Whig'), Row(id=43729, text='Whig'), Row(id=3782691, text='The Lord Lecale'), Row(id=43729, text='Whig'), Row(id=43729, text='Whig'), Row(id=25598254, text='Henry Molyneux-Howard'), Row(id=43729, text='Whig'), Row(id=705489, text='Sir Samuel Romilly'), Row(id=43729, text='Whig'), Row(id=25598254, text='Lord Henry Howard-Molyneux-Howard'), Row(id=43729, text='Whig'), Row(id=37841903, text='Sir Arthur Piggott'), Row(id=43729, text='Whig'), Row(id=428227, text='Tory'), Row(id=17947423, text='Viscount Bury'), Row(id=43729, text='Whig'), Row(id=6374113, text='Thomas Read Kemp'), Row(id=43729, text='Whig'), Row(id=36363731, text='Edward Lombe'), Row(id=43729, text='Whig'), Row(id=36199604, text='John Atkins'), Row(id=428227, text='Tory'), Row(id=4883326, text='Lord Dudley Stuart'), Row(id=43729, text='Whig'), Row(id=446887, text='1832'), Row(id=4883326, text='Lord Dudley Stuart'), Row(id=43729, text='Whig'), Row(id=3190097, text='Google Books'), Row(id=33958348, text='British Newspaper Archive'), Row(id=1372929, text='Henry Fitzalan-Howard, Earl of Arundel'), Row(id=43729, text='Whig'), Row(id=8466023, text=\"Dod's Parliamentary Companion\"), Row(id=3190097, text='Google Books'), Row(id=579838, text='Edward Strutt'), Row(id=43729, text='Whig'), Row(id=803136, text='Routledge'), Row(id=155482, text='Abingdon'), Row(id=48518, text='Oxford University Press'), Row(id=22308, text='Oxford'), Row(id=33958348, text='British Newspaper Archive'), Row(id=4123879, text='Edward Fitzalan-Howard'), Row(id=43729, text='Whig'), Row(id=33958348, text='British Newspaper Archive'), Row(id=4482, text='Liberal'), Row(id=446827, text='1868'), Row(id=269663, text='Feb 1974'), Row(id=4244308, text='Michael Marshall'), Row(id=32113, text='Conservative'), Row(id=35519, text='1997'), Row(id=1798003, text='Arundel and South Downs'), Row(id=1829780, text='Bognor Regis and Littlehampton'), Row(id=2731395, text='General election 1830'), Row(id=4883326, text='Dudley Stuart'), Row(id=36199604, text='John Atkins'), Row(id=2731358, text='General election 1831'), Row(id=36199604, text='John Atkins'), Row(id=4883326, text='Dudley Stuart'), Row(id=29731769, text='Godfrey Webster'), Row(id=446887, text='General election 1832'), Row(id=4883326, text='Dudley Stuart'), Row(id=446882, text='General election 1835'), Row(id=4883326, text='Dudley Stuart'), Row(id=446879, text='General election 1837'), Row(id=1372929, text='Henry Fitzalan-Howard'), Row(id=4883326, text='Dudley Stuart'), Row(id=446875, text='General election 1841'), Row(id=1372929, text='Henry Fitzalan-Howard'), Row(id=446873, text='General election 1847'), Row(id=1372929, text='Henry Fitzalan-Howard'), Row(id=1028129, text='resignation'), Row(id=1697074, text='Ecclesiastical Titles Act 1851'), Row(id=579838, text='Edward Strutt'), Row(id=446862, text='General election 1852'), Row(id=4123879, text='Edward Fitzalan-Howard'), Row(id=446859, text='General election 1857'), Row(id=4123879, text='Edward Fitzalan-Howard'), Row(id=446839, text='General election 1859'), Row(id=4123879, text='Edward Fitzalan-Howard'), Row(id=446837, text='General election 1865'), Row(id=4123879, text='Edward Fitzalan-Howard'), Row(id=269663, text='General election February 1974'), Row(id=4244308, text='Robert Marshall'), Row(id=2142842, text='Ben Pimlott'), Row(id=269689, text='General election October 1974'), Row(id=4244308, text='Robert Marshall'), Row(id=73211, text='General election 1979'), Row(id=4244308, text='Robert Marshall'), Row(id=80330, text='General election 1983'), Row(id=33439201, text='Electoral Calculus'), Row(id=4244308, text='Robert Marshall'), Row(id=204066, text='General election 1987'), Row(id=33439201, text='Electoral Calculus'), Row(id=4244308, text='Robert Marshall'), Row(id=87184, text='General election 1992'), Row(id=33439201, text='Electoral Calculus'), Row(id=4244308, text='Robert Marshall'), Row(id=2050018, text='List of Parliamentary constituencies in West Sussex')], id=4045456),\n",
       " Row(anchor_text=[Row(id=4860, text='Berkeley, California'), Row(id=25200461, text='Santa Clara County, California'), Row(id=53446, text='San Jose, California'), Row(id=39766702, text='activist'), Row(id=31922, text='University of California, Berkeley'), Row(id=554992, text='high school'), Row(id=18951490, text='football'), Row(id=1178015, text='Monta Vista High School'), Row(id=108151, text='Cupertino'), Row(id=5407, text='California'), Row(id=666057, text='The Oakland Tribune'), Row(id=14354225, text='southside'), Row(id=317328, text='dormitories'), Row(id=26052047, text='lewd'), Row(id=666057, text='Oakland Tribune'), Row(id=336595, text='Playgirl'), Row(id=171019, text='1994'), Row(id=1530085, text='PCU'), Row(id=31922, text='University of California, Berkeley'), Row(id=4860, text='Berkeley'), Row(id=319442, text='San Francisco Chronicle'), Row(id=273319, text='Los Angeles Times'), Row(id=15601, text='judo'), Row(id=19356, text='mental illness'), Row(id=8028959, text='halfway house'), Row(id=19394651, text='homelessness'), Row(id=319442, text='San Francisco Chronicle'), Row(id=310234, text='battery'), Row(id=1466, text='assault'), Row(id=25200461, text='Santa Clara County'), Row(id=21573918, text='Santa Clara Valley Medical Center'), Row(id=532547, text=\"People's Park\"), Row(id=3119067, text='Berkeley Daily Planet'), Row(id=319442, text='San Francisco Chronicle'), Row(id=4034550, text='Clothes free organizations'), Row(id=18841893, text='Public nudity'), Row(id=2647874, text='Stephen Gough'), Row(id=1965416, text='The New York Times Magazine')], id=4045466),\n",
       " Row(anchor_text=[Row(id=32706, text='Vancouver'), Row(id=3392, text='British Columbia'), Row(id=5303524, text='PNE Agrodome'), Row(id=768469, text='Pacific Coliseum'), Row(id=754072, text='General Motors Place'), Row(id=1448914, text='inline hockey'), Row(id=32706, text='Vancouver'), Row(id=3392, text='British Columbia'), Row(id=661713, text='Roller Hockey International'), Row(id=718964, text='Tiger Williams'), Row(id=5303524, text='PNE Agrodome'), Row(id=768469, text='Pacific Coliseum'), Row(id=754072, text='General Motors Place'), Row(id=12863215, text=\"Calgary Rad'z\"), Row(id=7345111, text='Anaheim Bullfrogs'), Row(id=12863215, text=\"Calgary Rad'z\"), Row(id=7342927, text='Jose Charbonneau'), Row(id=21809, text='NHL'), Row(id=73133, text='Vancouver Canucks'), Row(id=102226, text='The Washington Post'), Row(id=718964, text='Tiger Williams'), Row(id=21809, text='National Hockey League'), Row(id=5303524, text='PNE Agrodome'), Row(id=12863215, text=\"Calgary Rad'z\"), Row(id=13846843, text='Los Angeles Blades'), Row(id=1106837, text='The Buffalo News'), Row(id=768469, text='Pacific Coliseum'), Row(id=5303524, text='PNE Agrodome'), Row(id=11035209, text='Oakland Skates'), Row(id=319442, text='San Francisco Chronicle'), Row(id=8476841, text='San Jose Rhinos'), Row(id=768469, text='Pacific Coliseum'), Row(id=73133, text='Vancouver Canucks'), Row(id=754072, text='General Motors Place'), Row(id=7345111, text='Anaheim Bullfrogs'), Row(id=319442, text='San Francisco Chronicle')], id=4045471),\n",
       " Row(anchor_text=[Row(id=2260539, text='Ross Andru'), Row(id=618921, text='Dick Giordano'), Row(id=508521, text='Gloster Javelin'), Row(id=9105, text='DC Comics'), Row(id=3630402, text='Sensation Comics'), Row(id=111582, text='Wonder Woman'), Row(id=18949461, text='fictional'), Row(id=9105, text='DC Comics'), Row(id=43076, text='superhero'), Row(id=111582, text='Wonder Woman'), Row(id=97546, text='William Moulton Marston'), Row(id=19283335, text=' Depression Era'), Row(id=3630402, text='Sensation Comics'), Row(id=1008932, text='Dorling Kindersley'), Row(id=75813, text='Crisis on Infinite Earths'), Row(id=98279, text='Silver Age of comic books'), Row(id=2220713, text='Paradise Island'), Row(id=4826985, text='Etta Candy'), Row(id=1028797, text='Steve Trevor'), Row(id=263158, text='gremlin'), Row(id=75813, text='Post-Crisis'), Row(id=294237, text='DC Universe'), Row(id=75920, text='John Byrne'), Row(id=1164, text='artificial intelligence'), Row(id=2866484, text='Hippolyta'), Row(id=4400953, text='Gateway City'), Row(id=2220713, text='Themyscira'), Row(id=3639137, text='Imperiex War'), Row(id=634686, text='Greg Rucka'), Row(id=45960, text='cloaking device'), Row(id=1410257, text='Wonder Woman live-action series'), Row(id=32927, text='World War II'), Row(id=37653, text='CBS'), Row(id=45167756, text='Supergirl'), Row(id=54441773, text='Welcome to Earth'), Row(id=24113, text='President of the United States'), Row(id=682290, text='Lynda Carter'), Row(id=2530135, text='Supergirl'), Row(id=301420, text='Super Friends'), Row(id=304665, text='Aquaman'), Row(id=537983, text='Wonder Twins'), Row(id=8675313, text='Challenge of the Super Friends'), Row(id=3007169, text='golden lasso'), Row(id=979090, text='Justice League Unlimited'), Row(id=1773558, text='Bruce Timm'), Row(id=24353804, text='Justice League: Crisis on Two Earths'), Row(id=16757649, text='Batman: The Brave and the Bold'), Row(id=36152594, text='Teen Titans Go!'), Row(id=49270542, text='Justice League Action'), Row(id=56699241, text='Harley Quinn'), Row(id=2220713, text='Themyscira'), Row(id=57494649, text='Scooby-Doo and Guess Who?'), Row(id=943574, text='Scooby-Doo'), Row(id=593, text='animated film'), Row(id=18305011, text='Wonder Woman'), Row(id=1028797, text='Steve Trevor'), Row(id=10929, text='fighter plane'), Row(id=24353804, text='Justice League: Crisis on Two Earths'), Row(id=1446164, text='Owlman'), Row(id=416866, text='Batman'), Row(id=7334530, text='Justice League'), Row(id=706853, text='Crime Syndicate'), Row(id=45960, text='cloaking device'), Row(id=14119255, text='Green Lantern'), Row(id=1018479, text='Hal Jordan'), Row(id=38137524, text='Lego Batman: The Movie – DC Super Heroes Unite'), Row(id=37864037, text='The Lego Movie'), Row(id=298705, text='Batman'), Row(id=60754166, text='Wonder Woman: Bloodlines'), Row(id=1048693, text='active camouflage'), Row(id=4826985, text='Etta Candy'), Row(id=1028797, text=\"Steve Trevor's\"), Row(id=54426188, text='Wonder Woman 1984'), Row(id=202894, text='F-111 Aardvark'), Row(id=168682, text='Panavia Tornado F3'), Row(id=46363717, text='Lego Dimensions'), Row(id=57560706, text='Lego DC Super-Villains'), Row(id=2655089, text='SpongeBob SquarePants'), Row(id=416866, text='Batman'), Row(id=914145, text='Batmobile'), Row(id=187586, text='Family Guy'), Row(id=27578692, text='Total Drama'), Row(id=47577199, text='DC Super Hero Girls'), Row(id=3743208, text='The Delineator')], id=4045479),\n",
       " Row(anchor_text=[Row(id=592899, text='specialty channel'), Row(id=10379156, text='home shopping'), Row(id=23841152, text='sales pitch'), Row(id=303043, text='infomercial'), Row(id=1495704, text='Lowell \"Bud\" Paxson'), Row(id=2145294, text='Roy Speer'), Row(id=533649, text='Home Shopping Network'), Row(id=460182, text='QVC'), Row(id=1118379, text='online shopping'), Row(id=41118947, text='Zulily'), Row(id=173070, text='The Wall Street Journal')], id=4045516)]"
      ]
     },
     "execution_count": 15,
     "metadata": {},
     "output_type": "execute_result"
    }
   ],
   "source": [
    "doc_anchor_pairs.take(10)"
   ]
  },
  {
   "cell_type": "code",
   "execution_count": null,
   "id": "e74aa1be",
   "metadata": {},
   "outputs": [],
   "source": [
    "even_id_pair = doc_anchor_pairs.filter(lambda x: x[0] % 2 == 0)\n",
    "uneven_id_pair = doc_anchor_pairs.filter(lambda x: x[0] % 2 != 0)"
   ]
  },
  {
   "cell_type": "code",
   "execution_count": 23,
   "id": "2c497843",
   "metadata": {},
   "outputs": [
    {
     "name": "stdout",
     "output_type": "stream",
     "text": [
      "<class 'pyspark.rdd.PipelinedRDD'>\n"
     ]
    }
   ],
   "source": [
    "anchor_doc_lengths_dict = {}\n",
    "\n",
    "def len_tokens(id, text):\n",
    "  og_tokens = [token.group() for token in RE_WORD.finditer(text.lower())]\n",
    "  tokens = [x for x in og_tokens if x not in all_stopwords]\n",
    "  return (id, len(tokens))\n",
    "\n",
    "# Apply the function to our RDD\n",
    "\n",
    "anchor_len_pairs = new_pairs.map(lambda x: len_tokens(x[1], x[0]))\n",
    "\n",
    "print(type(anchor_len_pairs))\n",
    "\n",
    "anchor_doc_lengths_dict = anchor_len_pairs.collect()\n",
    "\n",
    "# saving the dict as pickle file on the cluster\n",
    "with open('anchor_doc_lengths.pickle', 'wb') as f:\n",
    "    pickle.dump(anchor_doc_lengths_dict, f)\n",
    "\n",
    "src = \"text_doc_lengths.pickle\"\n",
    "dest = f'gs://{bucket_name}/anchor_stemmed/{src}'\n",
    "\n",
    "!gsutil cp $src $dest"
   ]
  },
  {
   "cell_type": "code",
   "execution_count": 32,
   "id": "97523506",
   "metadata": {},
   "outputs": [
    {
     "ename": "AttributeError",
     "evalue": "'SparkSession' object has no attribute 'driver'",
     "output_type": "error",
     "traceback": [
      "\u001b[0;31m---------------------------------------------------------------------------\u001b[0m",
      "\u001b[0;31mAttributeError\u001b[0m                            Traceback (most recent call last)",
      "Cell \u001b[0;32mIn[32], line 1\u001b[0m\n\u001b[0;32m----> 1\u001b[0m \u001b[38;5;28mprint\u001b[39m(\u001b[43mspark\u001b[49m\u001b[38;5;241;43m.\u001b[39;49m\u001b[43mdriver\u001b[49m\u001b[38;5;241m.\u001b[39mmaxResultSize)\n",
      "\u001b[0;31mAttributeError\u001b[0m: 'SparkSession' object has no attribute 'driver'"
     ]
    }
   ],
   "source": []
  },
  {
   "cell_type": "code",
   "execution_count": null,
   "id": "892f5c5b",
   "metadata": {},
   "outputs": [],
   "source": []
  }
 ],
 "metadata": {
  "celltoolbar": "Create Assignment",
  "colab": {
   "collapsed_sections": [],
   "name": "assignment3_gcp.ipynb",
   "provenance": [],
   "toc_visible": true
  },
  "kernelspec": {
   "display_name": "PySpark",
   "language": "python",
   "name": "pyspark"
  },
  "language_info": {
   "codemirror_mode": {
    "name": "ipython",
    "version": 3
   },
   "file_extension": ".py",
   "mimetype": "text/x-python",
   "name": "python",
   "nbconvert_exporter": "python",
   "pygments_lexer": "ipython3",
   "version": "3.8.15"
  }
 },
 "nbformat": 4,
 "nbformat_minor": 5
}
