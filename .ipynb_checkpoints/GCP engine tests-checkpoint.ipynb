{
 "cells": [
  {
   "cell_type": "code",
   "execution_count": 1,
   "id": "1c85646e",
   "metadata": {},
   "outputs": [
    {
     "name": "stderr",
     "output_type": "stream",
     "text": [
      "[nltk_data] Downloading package stopwords to\n",
      "[nltk_data]     /Users/ofekzini/nltk_data...\n",
      "[nltk_data]   Package stopwords is already up-to-date!\n"
     ]
    },
    {
     "data": {
      "text/plain": [
       "True"
      ]
     },
     "execution_count": 1,
     "metadata": {},
     "output_type": "execute_result"
    }
   ],
   "source": [
    "# download nltk stopwords\n",
    "import nltk\n",
    "nltk.download('stopwords')"
   ]
  },
  {
   "cell_type": "code",
   "execution_count": 25,
   "id": "1f464991",
   "metadata": {},
   "outputs": [],
   "source": [
    "import json\n",
    "\n",
    "with open('queries_train.json', 'rt') as f:\n",
    "  queries = json.load(f)"
   ]
  },
  {
   "cell_type": "code",
   "execution_count": 27,
   "id": "65238ffa",
   "metadata": {},
   "outputs": [],
   "source": [
    "def average_precision(true_list, predicted_list, k=40):\n",
    "    true_set = frozenset(true_list)\n",
    "    predicted_list = predicted_list[:k]\n",
    "    precisions = []\n",
    "    for i,doc_id in enumerate(predicted_list):\n",
    "        if doc_id in true_set:\n",
    "            prec = (len(precisions)+1) / (i+1)\n",
    "            precisions.append(prec)\n",
    "    if len(precisions) == 0:\n",
    "        return 0.0\n",
    "    return round(sum(precisions)/len(precisions),3)"
   ]
  },
  {
   "cell_type": "code",
   "execution_count": 139,
   "id": "d922f2b9",
   "metadata": {},
   "outputs": [
    {
     "name": "stdout",
     "output_type": "stream",
     "text": [
      "p5: 1.0, f1_30: 0.182\n",
      "p5: 1.0, f1_30: 0.333\n",
      "p5: 1.0, f1_30: 0.75\n",
      "p5: 0.0, f1_30: 0.625\n"
     ]
    }
   ],
   "source": [
    "def precision_at_k(true_list, predicted_list, k):\n",
    "    true_set = frozenset(true_list)\n",
    "    predicted_list = predicted_list[:k]\n",
    "    if len(predicted_list) == 0:\n",
    "        return 0.0\n",
    "    return round(len([1 for doc_id in predicted_list if doc_id in true_set]) / len(predicted_list), 3)\n",
    "def recall_at_k(true_list, predicted_list, k):\n",
    "    true_set = frozenset(true_list)\n",
    "    predicted_list = predicted_list[:k]\n",
    "    if len(true_set) < 1:\n",
    "        return 1.0\n",
    "    return round(len([1 for doc_id in predicted_list if doc_id in true_set]) / len(true_set), 3)\n",
    "def f1_at_k(true_list, predicted_list, k):\n",
    "    p = precision_at_k(true_list, predicted_list, k)\n",
    "    r = recall_at_k(true_list, predicted_list, k)\n",
    "    if p == 0.0 or r == 0.0:\n",
    "        return 0.0\n",
    "    return round(2.0 / (1.0/p + 1.0/r), 3)\n",
    "def results_quality(true_list, predicted_list):\n",
    "    p5 = precision_at_k(true_list, predicted_list, 5)\n",
    "    f1_30 = f1_at_k(true_list, predicted_list, 30)\n",
    "    print(f\"p5: {p5}, f1_30: {f1_30}\")\n",
    "    if p5 == 0.0 or f1_30 == 0.0:\n",
    "        return 0.0\n",
    "    return round(2.0 / (1.0/p5 + 1.0/f1_30), 3)\n",
    "\n",
    "assert precision_at_k(range(10), [1,2,3] , 2) == 1.0\n",
    "assert recall_at_k(   range(10), [10,5,3], 2) == 0.1\n",
    "assert precision_at_k(range(10), []      , 2) == 0.0\n",
    "assert precision_at_k([],        [1,2,3],  5) == 0.0\n",
    "assert recall_at_k(   [],        [10,5,3], 2) == 1.0\n",
    "assert recall_at_k(   range(10), [],       2) == 0.0\n",
    "assert f1_at_k(       [],        [1,2,3],  5) == 0.0\n",
    "assert f1_at_k(       range(10), [],       2) == 0.0\n",
    "assert f1_at_k(       range(10), [0,1,2],  2) == 0.333\n",
    "assert f1_at_k(       range(50), range(5), 30) == 0.182\n",
    "assert f1_at_k(       range(50), range(10), 30) == 0.333\n",
    "assert f1_at_k(       range(50), range(30), 30) == 0.75\n",
    "assert results_quality(range(50), range(5))  == 0.308\n",
    "assert results_quality(range(50), range(10)) == 0.5\n",
    "assert results_quality(range(50), range(30)) == 0.857\n",
    "assert results_quality(range(50), [-1]*5 + list(range(5,30))) == 0.0"
   ]
  },
  {
   "cell_type": "code",
   "execution_count": 179,
   "id": "4ab2d381",
   "metadata": {},
   "outputs": [
    {
     "name": "stdout",
     "output_type": "stream",
     "text": [
      "Human Genome Project DNA mapping\n",
      "p5: 0.8, f1_30: 0.351\n",
      "Italian pasta varieties and recipes\n",
      "p5: 0.2, f1_30: 0.052\n",
      "Street food around the world\n",
      "p5: 0.4, f1_30: 0.052\n",
      "Surrealism art Salvador Dalí\n",
      "p5: 0.8, f1_30: 0.225\n",
      "Mediterranean diet health benefits\n",
      "p5: 0.4, f1_30: 0.182\n",
      "Civil Rights Movement 1960s protests\n",
      "p5: 0.2, f1_30: 0.184\n",
      "Manhattan Project atomic bomb\n",
      "p5: 0.8, f1_30: 0.192\n",
      "Cheese types and production\n",
      "p5: 0.4, f1_30: 0.384\n",
      "Anime history Japan Studio Ghibli\n",
      "p5: 0.6, f1_30: 0.081\n",
      "Berlin Wall fall reunification\n",
      "p5: 0.4, f1_30: 0.051\n",
      "Sushi origins Japan\n",
      "p5: 0.2, f1_30: 0.107\n",
      "World War I causes consequences\n",
      "p5: 0.4, f1_30: 0.104\n",
      "Higgs Boson discovery physics\n",
      "p5: 0.8, f1_30: 0.205\n",
      "Golden Age of Hollywood films\n",
      "p5: 0.4, f1_30: 0.079\n",
      "Byzantine Empire Constantinople history\n",
      "p5: 1.0, f1_30: 0.421\n",
      "Turing Machine early computing\n",
      "p5: 0.6, f1_30: 0.231\n",
      "Theory of Relativity Einstein\n",
      "p5: 0.6, f1_30: 0.289\n",
      "Mobile phone technology evolution\n",
      "p5: 0.2, f1_30: 0.156\n",
      "History of chocolate production\n",
      "p5: 0.2, f1_30: 0.159\n",
      "Apollo 11 moon landing 1969\n",
      "p5: 0.2, f1_30: 0.133\n",
      "Gothic architecture medieval cathedrals\n",
      "p5: 1.0, f1_30: 0.459\n",
      "Russian Revolution 1917 Bolsheviks\n",
      "p5: 0.8, f1_30: 0.263\n",
      "Academy Awards history Oscars\n",
      "p5: 1.0, f1_30: 0.594\n",
      "Fermentation food preservation techniques\n",
      "p5: 0.8, f1_30: 0.152\n",
      "History of pizza Italian cuisine\n",
      "p5: 1.0, f1_30: 0.368\n",
      "French cuisine traditional dishes\n",
      "p5: 0.4, f1_30: 0.156\n",
      "Endangered species conservation efforts\n",
      "p5: 0.6, f1_30: 0.202\n",
      "Greek mythology Western culture\n",
      "p5: 0.6, f1_30: 0.158\n",
      "Cold War proxy conflicts\n",
      "p5: 1.0, f1_30: 0.24\n",
      "Nelson Mandela apartheid biography\n",
      "p5: 0.4, f1_30: 0.162\n"
     ]
    }
   ],
   "source": [
    "import requests\n",
    "from time import time\n",
    "# In GCP the public URL for your engine should look like this:\n",
    "# url = 'http://35.232.59.3:8080'\n",
    "# In colab, we are going to send HTTP requests to localhost (127.0.0.1)\n",
    "# and direct them to port where the server is listening (5000).\n",
    "url = 'http://34.59.160.208:8080'\n",
    "\n",
    "# rq = None\n",
    "qs_res = []\n",
    "for q, true_wids in queries.items():\n",
    "  duration, ap = None, None\n",
    "  t_start = time()\n",
    "  try:\n",
    "    res = requests.get(url + '/search', {'query': q}, timeout=35)\n",
    "#     print(res.status_code)\n",
    "    duration = time() - t_start\n",
    "    print(q)\n",
    "    if res.status_code == 200:\n",
    "      pred_wids, _ = zip(*res.json())\n",
    "      # print(pred_wids)\n",
    "      rq = results_quality(true_wids, pred_wids)\n",
    "  except:\n",
    "    pass\n",
    "\n",
    "  qs_res.append((q, duration, rq))"
   ]
  },
  {
   "cell_type": "code",
   "execution_count": 181,
   "id": "0f34b5bd",
   "metadata": {},
   "outputs": [
    {
     "name": "stdout",
     "output_type": "stream",
     "text": [
      "[('Human Genome Project DNA mapping', 2.030164957046509, 0.488), ('Italian pasta varieties and recipes', 1.7171778678894043, 0.083), ('Street food around the world', 2.29827618598938, 0.092), ('Surrealism art Salvador Dalí', 1.619668960571289, 0.351), ('Mediterranean diet health benefits', 1.4149131774902344, 0.25), ('Civil Rights Movement 1960s protests', 2.558100938796997, 0.192), ('Manhattan Project atomic bomb', 1.3605151176452637, 0.31), ('Cheese types and production', 1.279928207397461, 0.392), ('Anime history Japan Studio Ghibli', 1.8945810794830322, 0.143), ('Berlin Wall fall reunification', 1.6761679649353027, 0.09), ('Sushi origins Japan', 1.2482388019561768, 0.139), ('World War I causes consequences', 2.7752058506011963, 0.165), ('Higgs Boson discovery physics', 1.5175349712371826, 0.326), ('Golden Age of Hollywood films', 4.081387042999268, 0.132), ('Byzantine Empire Constantinople history', 1.028980016708374, 0.593), ('Turing Machine early computing', 1.9519999027252197, 0.334), ('Theory of Relativity Einstein', 1.1423730850219727, 0.39), ('Mobile phone technology evolution', 1.5689332485198975, 0.175), ('History of chocolate production', 1.0794949531555176, 0.177), ('Apollo 11 moon landing 1969', 1.7152230739593506, 0.16), ('Gothic architecture medieval cathedrals', 1.3546597957611084, 0.629), ('Russian Revolution 1917 Bolsheviks', 1.5593910217285156, 0.396), ('Academy Awards history Oscars', 2.2771549224853516, 0.745), ('Fermentation food preservation techniques', 1.3349361419677734, 0.255), ('History of pizza Italian cuisine', 1.2984411716461182, 0.538), ('French cuisine traditional dishes', 1.9299511909484863, 0.224), ('Endangered species conservation efforts', 1.6534740924835205, 0.302), ('Greek mythology Western culture', 3.44028902053833, 0.25), ('Cold War proxy conflicts', 1.7876358032226562, 0.387), ('Nelson Mandela apartheid biography', 1.3222053050994873, 0.231)]\n"
     ]
    }
   ],
   "source": [
    "print(qs_res)"
   ]
  },
  {
   "cell_type": "code",
   "execution_count": 183,
   "id": "3a18a822",
   "metadata": {},
   "outputs": [],
   "source": [
    "import pandas as pd\n",
    "from datetime import datetime\n",
    "import os\n",
    "text_weight = 1.8\n",
    "title_weight = 0.8\n",
    "pr_weight = 0.2\n",
    "pv_weight = 0.5\n",
    "\n",
    "\n",
    "anchor_weight =0\n",
    "\n",
    "run_desc = f\"NO anchor BMtitle k=1.5, b = 0.4, text_weight, c200 = {text_weight}, title_weight ={title_weight}, anchor_weight = {anchor_weight},pr_weight = {pr_weight},pv_weight = {pv_weight}\"\n",
    "# Add timestamp column\n",
    "timestamped_qs_res = [(q, duration, rq, datetime.now().strftime('%Y-%m-%d %H:%M:%S'),run_desc) for q, duration, rq in qs_res]\n",
    "\n",
    "# Convert results to a DataFrame (same as before)\n",
    "results_df = pd.DataFrame(timestamped_qs_res, columns=['Query', 'Duration', 'Results Quality', 'Timestamp','type'])\n",
    "\n",
    "# File path\n",
    "file_path = r'query_results_v2.csv'\n",
    "\n",
    "# Check if the file exists\n",
    "if os.path.exists(file_path):\n",
    "    # Append to existing file\n",
    "    results_df.to_csv(file_path, mode='a', header=False, index=False)\n",
    "else:\n",
    "    # Create a new file with header\n",
    "    results_df.to_csv(file_path, mode='w', header=True, index=False)"
   ]
  },
  {
   "cell_type": "code",
   "execution_count": null,
   "id": "674ce2b7",
   "metadata": {},
   "outputs": [],
   "source": []
  }
 ],
 "metadata": {
  "kernelspec": {
   "display_name": "Python [conda env:anaconda3]",
   "language": "python",
   "name": "conda-env-anaconda3-py"
  },
  "language_info": {
   "codemirror_mode": {
    "name": "ipython",
    "version": 3
   },
   "file_extension": ".py",
   "mimetype": "text/x-python",
   "name": "python",
   "nbconvert_exporter": "python",
   "pygments_lexer": "ipython3",
   "version": "3.9.21"
  }
 },
 "nbformat": 4,
 "nbformat_minor": 5
}
