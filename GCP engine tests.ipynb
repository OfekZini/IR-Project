{
 "cells": [
  {
   "cell_type": "code",
   "execution_count": 1,
   "id": "1c85646e",
   "metadata": {},
   "outputs": [
    {
     "name": "stderr",
     "output_type": "stream",
     "text": [
      "[nltk_data] Downloading package stopwords to\n",
      "[nltk_data]     /Users/ofekzini/nltk_data...\n",
      "[nltk_data]   Package stopwords is already up-to-date!\n"
     ]
    },
    {
     "data": {
      "text/plain": [
       "True"
      ]
     },
     "execution_count": 1,
     "metadata": {},
     "output_type": "execute_result"
    }
   ],
   "source": [
    "# download nltk stopwords\n",
    "import nltk\n",
    "nltk.download('stopwords')"
   ]
  },
  {
   "cell_type": "code",
   "execution_count": 2,
   "id": "1f464991",
   "metadata": {},
   "outputs": [],
   "source": [
    "import json\n",
    "\n",
    "with open('queries_train.json', 'rt') as f:\n",
    "  queries = json.load(f)"
   ]
  },
  {
   "cell_type": "code",
   "execution_count": 3,
   "id": "65238ffa",
   "metadata": {},
   "outputs": [],
   "source": [
    "def average_precision(true_list, predicted_list, k=40):\n",
    "    true_set = frozenset(true_list)\n",
    "    predicted_list = predicted_list[:k]\n",
    "    precisions = []\n",
    "    for i,doc_id in enumerate(predicted_list):\n",
    "        if doc_id in true_set:\n",
    "            prec = (len(precisions)+1) / (i+1)\n",
    "            precisions.append(prec)\n",
    "    if len(precisions) == 0:\n",
    "        return 0.0\n",
    "    return round(sum(precisions)/len(precisions),3)"
   ]
  },
  {
   "cell_type": "code",
   "execution_count": 7,
   "id": "d922f2b9",
   "metadata": {},
   "outputs": [
    {
     "name": "stdout",
     "output_type": "stream",
     "text": [
      "p5: 1.0, f1_30: 0.182\n",
      "p5: 1.0, f1_30: 0.333\n",
      "p5: 1.0, f1_30: 0.75\n",
      "p5: 0.0, f1_30: 0.625\n"
     ]
    }
   ],
   "source": [
    "def precision_at_k(true_list, predicted_list, k):\n",
    "    true_set = frozenset(true_list)\n",
    "    predicted_list = predicted_list[:k]\n",
    "    if len(predicted_list) == 0:\n",
    "        return 0.0\n",
    "    return round(len([1 for doc_id in predicted_list if doc_id in true_set]) / len(predicted_list), 3)\n",
    "def recall_at_k(true_list, predicted_list, k):\n",
    "    true_set = frozenset(true_list)\n",
    "    predicted_list = predicted_list[:k]\n",
    "    if len(true_set) < 1:\n",
    "        return 1.0\n",
    "    return round(len([1 for doc_id in predicted_list if doc_id in true_set]) / len(true_set), 3)\n",
    "def f1_at_k(true_list, predicted_list, k):\n",
    "    p = precision_at_k(true_list, predicted_list, k)\n",
    "    r = recall_at_k(true_list, predicted_list, k)\n",
    "    if p == 0.0 or r == 0.0:\n",
    "        return 0.0\n",
    "    return round(2.0 / (1.0/p + 1.0/r), 3)\n",
    "def results_quality(true_list, predicted_list):\n",
    "    p5 = precision_at_k(true_list, predicted_list, 5)\n",
    "    f1_30 = f1_at_k(true_list, predicted_list, 30)\n",
    "    print(f\"p5: {p5}, f1_30: {f1_30}\")\n",
    "    if p5 == 0.0 or f1_30 == 0.0:\n",
    "        return 0.0\n",
    "    return round(2.0 / (1.0/p5 + 1.0/f1_30), 3)\n",
    "\n",
    "assert precision_at_k(range(10), [1,2,3] , 2) == 1.0\n",
    "assert recall_at_k(   range(10), [10,5,3], 2) == 0.1\n",
    "assert precision_at_k(range(10), []      , 2) == 0.0\n",
    "assert precision_at_k([],        [1,2,3],  5) == 0.0\n",
    "assert recall_at_k(   [],        [10,5,3], 2) == 1.0\n",
    "assert recall_at_k(   range(10), [],       2) == 0.0\n",
    "assert f1_at_k(       [],        [1,2,3],  5) == 0.0\n",
    "assert f1_at_k(       range(10), [],       2) == 0.0\n",
    "assert f1_at_k(       range(10), [0,1,2],  2) == 0.333\n",
    "assert f1_at_k(       range(50), range(5), 30) == 0.182\n",
    "assert f1_at_k(       range(50), range(10), 30) == 0.333\n",
    "assert f1_at_k(       range(50), range(30), 30) == 0.75\n",
    "assert results_quality(range(50), range(5))  == 0.308\n",
    "assert results_quality(range(50), range(10)) == 0.5\n",
    "assert results_quality(range(50), range(30)) == 0.857\n",
    "assert results_quality(range(50), [-1]*5 + list(range(5,30))) == 0.0"
   ]
  },
  {
   "cell_type": "code",
   "execution_count": 39,
   "id": "4ab2d381",
   "metadata": {},
   "outputs": [
    {
     "name": "stdout",
     "output_type": "stream",
     "text": [
      "Human Genome Project DNA mapping 0.8219282627105713\n",
      "p5: 0.8, f1_30: 0.325\n",
      "Italian pasta varieties and recipes 0.5421628952026367\n",
      "p5: 0.2, f1_30: 0.052\n",
      "Street food around the world 1.427846908569336\n",
      "p5: 0.4, f1_30: 0.052\n",
      "Surrealism art Salvador Dalí 0.8005690574645996\n",
      "p5: 0.6, f1_30: 0.254\n",
      "Mediterranean diet health benefits 0.540184736251831\n",
      "p5: 0.4, f1_30: 0.182\n",
      "Civil Rights Movement 1960s protests 1.0609159469604492\n",
      "p5: 0.4, f1_30: 0.237\n",
      "Manhattan Project atomic bomb 0.5182738304138184\n",
      "p5: 0.6, f1_30: 0.192\n",
      "Cheese types and production 0.6086208820343018\n",
      "p5: 0.4, f1_30: 0.384\n",
      "Anime history Japan Studio Ghibli 0.9432470798492432\n",
      "p5: 0.6, f1_30: 0.108\n",
      "Berlin Wall fall reunification 0.9701828956604004\n",
      "p5: 0.4, f1_30: 0.051\n",
      "Sushi origins Japan 0.6398468017578125\n",
      "p5: 0.2, f1_30: 0.107\n",
      "World War I causes consequences 1.7602272033691406\n",
      "p5: 0.6, f1_30: 0.104\n",
      "Higgs Boson discovery physics 0.474484920501709\n",
      "p5: 0.8, f1_30: 0.205\n",
      "Golden Age of Hollywood films 1.634272813796997\n",
      "p5: 0.2, f1_30: 0.158\n",
      "Byzantine Empire Constantinople history 0.6039600372314453\n",
      "p5: 0.8, f1_30: 0.395\n",
      "Turing Machine early computing 0.6744890213012695\n",
      "p5: 0.6, f1_30: 0.205\n",
      "Theory of Relativity Einstein 0.4476292133331299\n",
      "p5: 0.6, f1_30: 0.263\n",
      "Mobile phone technology evolution 0.5932521820068359\n",
      "p5: 0.2, f1_30: 0.182\n",
      "History of chocolate production 0.5596368312835693\n",
      "p5: 0.2, f1_30: 0.159\n",
      "Apollo 11 moon landing 1969 0.6916301250457764\n",
      "p5: 0.6, f1_30: 0.133\n",
      "Gothic architecture medieval cathedrals 0.49579811096191406\n",
      "p5: 1.0, f1_30: 0.514\n",
      "Russian Revolution 1917 Bolsheviks 0.5869600772857666\n",
      "p5: 0.8, f1_30: 0.237\n",
      "Academy Awards history Oscars 1.414025068283081\n",
      "p5: 1.0, f1_30: 0.567\n",
      "Fermentation food preservation techniques 0.46941709518432617\n",
      "p5: 1.0, f1_30: 0.152\n",
      "History of pizza Italian cuisine 0.47736597061157227\n",
      "p5: 1.0, f1_30: 0.395\n",
      "French cuisine traditional dishes 0.6858022212982178\n",
      "p5: 0.4, f1_30: 0.156\n",
      "Endangered species conservation efforts 0.7495870590209961\n",
      "p5: 0.4, f1_30: 0.177\n",
      "Greek mythology Western culture 0.7966930866241455\n",
      "p5: 0.6, f1_30: 0.158\n",
      "Cold War proxy conflicts 0.9854731559753418\n",
      "p5: 1.0, f1_30: 0.24\n",
      "Nelson Mandela apartheid biography 0.44654202461242676\n",
      "p5: 0.4, f1_30: 0.162\n"
     ]
    }
   ],
   "source": [
    "import requests\n",
    "from time import time\n",
    "# In GCP the public URL for your engine should look like this:\n",
    "# url = 'http://35.232.59.3:8080'\n",
    "# In colab, we are going to send HTTP requests to localhost (127.0.0.1)\n",
    "# and direct them to port where the server is listening (5000).\n",
    "url = 'http://34.55.107.240:8080/'\n",
    "\n",
    "# rq = None\n",
    "qs_res = []\n",
    "for q, true_wids in queries.items():\n",
    "  duration, ap = None, None\n",
    "  t_start = time()\n",
    "  try:\n",
    "    res = requests.get(url + '/search', {'query': q}, timeout=35)\n",
    "#     print(res.status_code)\n",
    "    duration = time() - t_start\n",
    "    print(q,duration)\n",
    "    if res.status_code == 200:\n",
    "      pred_wids, _ = zip(*res.json())\n",
    "      # print(pred_wids)\n",
    "      rq = results_quality(true_wids, pred_wids)\n",
    "  except:\n",
    "    pass\n",
    "\n",
    "  qs_res.append((q, duration, rq))"
   ]
  },
  {
   "cell_type": "code",
   "execution_count": 21,
   "id": "0f34b5bd",
   "metadata": {},
   "outputs": [
    {
     "name": "stdout",
     "output_type": "stream",
     "text": [
      "[('Human Genome Project DNA mapping', 0.770442008972168, 0.462), ('Italian pasta varieties and recipes', 0.5342898368835449, 0.083), ('Street food around the world', 1.3803160190582275, 0.092), ('Surrealism art Salvador Dalí', 0.7809967994689941, 0.357), ('Mediterranean diet health benefits', 0.5196847915649414, 0.25), ('Civil Rights Movement 1960s protests', 1.0460641384124756, 0.298), ('Manhattan Project atomic bomb', 0.5146729946136475, 0.291), ('Cheese types and production', 0.6116318702697754, 0.392), ('Anime history Japan Studio Ghibli', 0.9329349994659424, 0.183), ('Berlin Wall fall reunification', 0.7096719741821289, 0.09), ('Sushi origins Japan', 0.6157078742980957, 0.139), ('World War I causes consequences', 1.7206196784973145, 0.177), ('Higgs Boson discovery physics', 0.45946216583251953, 0.326), ('Golden Age of Hollywood films', 1.3232111930847168, 0.177), ('Byzantine Empire Constantinople history', 0.5052528381347656, 0.529), ('Turing Machine early computing', 0.712536096572876, 0.306), ('Theory of Relativity Einstein', 0.6559028625488281, 0.366), ('Mobile phone technology evolution', 0.593264102935791, 0.191), ('History of chocolate production', 0.5598249435424805, 0.177), ('Apollo 11 moon landing 1969', 0.7429120540618896, 0.218), ('Gothic architecture medieval cathedrals', 0.5140080451965332, 0.679), ('Russian Revolution 1917 Bolsheviks', 0.5804140567779541, 0.366), ('Academy Awards history Oscars', 1.41383695602417, 0.724), ('Fermentation food preservation techniques', 0.4698159694671631, 0.264), ('History of pizza Italian cuisine', 0.47899293899536133, 0.566), ('French cuisine traditional dishes', 0.6731259822845459, 0.224), ('Endangered species conservation efforts', 0.7174010276794434, 0.245), ('Greek mythology Western culture', 0.7907497882843018, 0.25), ('Cold War proxy conflicts', 0.9882807731628418, 0.387), ('Nelson Mandela apartheid biography', 0.4331967830657959, 0.231)]\n"
     ]
    }
   ],
   "source": [
    "print(qs_res)"
   ]
  },
  {
   "cell_type": "code",
   "execution_count": 23,
   "id": "3a18a822",
   "metadata": {},
   "outputs": [],
   "source": [
    "import pandas as pd\n",
    "from datetime import datetime\n",
    "import os\n",
    "text_weight = 1.9\n",
    "title_weight = 1.1\n",
    "pr_weight = 0.5\n",
    "pv_weight = 0.6\n",
    "\n",
    "\n",
    "anchor_weight =0\n",
    "\n",
    "run_desc = f\"back to dict, text weight = {text_weight}, title_weight ={title_weight}, anchor_weight = {anchor_weight},pr_weight = {pr_weight},pv_weight = {pv_weight}\"\n",
    "# Add timestamp column\n",
    "timestamped_qs_res = [(q, duration, rq, datetime.now().strftime('%Y-%m-%d %H:%M:%S'),run_desc) for q, duration, rq in qs_res]\n",
    "\n",
    "# Convert results to a DataFrame (same as before)\n",
    "results_df = pd.DataFrame(timestamped_qs_res, columns=['Query', 'Duration', 'Results Quality', 'Timestamp','type'])\n",
    "\n",
    "# File path\n",
    "file_path = r'query_results_local.csv'\n",
    "\n",
    "# Check if the file exists\n",
    "if os.path.exists(file_path):\n",
    "    # Append to existing file\n",
    "    results_df.to_csv(file_path, mode='a', header=False, index=False)\n",
    "else:\n",
    "    # Create a new file with header\n",
    "    results_df.to_csv(file_path, mode='w', header=True, index=False)"
   ]
  },
  {
   "cell_type": "code",
   "execution_count": 49,
   "id": "ed874775-6c9c-4f01-b526-887daafe0caa",
   "metadata": {},
   "outputs": [
    {
     "name": "stdout",
     "output_type": "stream",
     "text": [
      "Status Code: 200\n",
      "Response JSON: [3.087233908126274e-05, 0.0009814650341033986, 1.9507241383342223e-05]\n"
     ]
    }
   ],
   "source": [
    "res = requests.post(f'{url}/get_pagerank', json=[40434533,13834,16258840])\n",
    "\n",
    "# Check the status code to see if the request was successful\n",
    "print(f\"Status Code: {res.status_code}\")\n",
    "\n",
    "# Print the response body (content)\n",
    "try:\n",
    "    print(\"Response JSON:\", res.json())  # Attempt to parse JSON response\n",
    "except ValueError:\n",
    "    print(\"Response Text:\", res.text) "
   ]
  },
  {
   "cell_type": "code",
   "execution_count": 215,
   "id": "674ce2b7",
   "metadata": {},
   "outputs": [
    {
     "data": {
      "image/png": "[encoded data removed]",
      "text/plain": [
       "<Figure size 640x480 with 1 Axes>"
      ]
     },
     "metadata": {},
     "output_type": "display_data"
    }
   ],
   "source": [
    "import matplotlib.pyplot as plt\n",
    "import numpy as np\n",
    "\n",
    "metrics = ['Average Precision', 'Recall@10', 'F1@10', 'Precision@10', 'Results Quality']\n",
    "averages = [0.238, 0.042, 0.068, 0.187, 0.111]\n",
    "min_values = [0.0, 0.0, 0.0, 0.0, 0.0]\n",
    "max_values = [0.683, 0.128, 0.211, 0.600, 0.453]\n",
    "\n",
    "x = np.arange(len(metrics))  # the label locations\n",
    "width = 0.25  # the width of the bars\n",
    "\n",
    "fig, ax = plt.subplots()\n",
    "rects1 = ax.bar(x - width, min_values, width, label='Min')\n",
    "rects2 = ax.bar(x, averages, width, label='Average')\n",
    "rects3 = ax.bar(x + width, max_values, width, label='Max')\n",
    "\n",
    "# Add some text for labels, title and custom x-axis tick labels, etc.\n",
    "ax.set_ylabel('Scores')\n",
    "ax.set_title('Test 1 search_body')\n",
    "ax.set_xticks(x)\n",
    "ax.set_xticklabels(metrics)\n",
    "ax.legend()\n",
    "\n",
    "fig.tight_layout()\n",
    "\n",
    "plt.xticks(rotation=45)\n",
    "plt.show()"
   ]
  },
  {
   "cell_type": "code",
   "execution_count": null,
   "id": "61cd8908-4b08-4988-8cf5-f12fefe3b7a9",
   "metadata": {},
   "outputs": [],
   "source": []
  }
 ],
 "metadata": {
  "kernelspec": {
   "display_name": "Python [conda env:anaconda3]",
   "language": "python",
   "name": "conda-env-anaconda3-py"
  },
  "language_info": {
   "codemirror_mode": {
    "name": "ipython",
    "version": 3
   },
   "file_extension": ".py",
   "mimetype": "text/x-python",
   "name": "python",
   "nbconvert_exporter": "python",
   "pygments_lexer": "ipython3",
   "version": "3.9.21"
  }
 },
 "nbformat": 4,
 "nbformat_minor": 5
}
