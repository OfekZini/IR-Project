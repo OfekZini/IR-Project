{
 "cells": [
  {
   "cell_type": "markdown",
   "metadata": {
    "id": "ByCSu-FhG5v7"
   },
   "source": [
    "# Assignment 3: MapReduce & Web Graph"
   ]
  },
  {
   "cell_type": "markdown",
   "metadata": {
    "id": "-e3cxxyFG_XW"
   },
   "source": [
    "## General guidelines\n",
    "\n",
    "This notebook contains considerable amount of code to help you complete this assignment. Your task is to implement any missing parts of the code and answer any questions (if exist) within this notebook. This will require understanding the existing code, may require reading about packages being used, reading additional resources, and maybe even going over your notes from class :😱\n",
    "\n",
    "**Evaluation and auto-grading**: Your submissions will be evaluated using both automatic and manual grading. Code parts for implementation are marked with a comment `# YOUR CODE HERE`, and usually followed by cell(s) containing automatic tests that evaluate the correctness of your answer. Staff will allow your notebook to **execute from start to finish for no more than 90 seconds**, then manually assess your submission. Any automatic tests that did not run due to your notebook timing out **will automatically receive 0 points**. The execution time excludes initial data download, which will already exist in the testing environment. The staff reserves the right to **modify any grade provided by the auto-grader** as well as to **execute additional tests not provided to you**. It is also important to note that **auto-graded cells only result in full or no credit**. In other words, you must pass all tests implemented in a test cell in order to get the credit for it, and passing some, but not all, of the tests in a test cell will not earn you any points for that cell.\n",
    "\n",
    "**Submission**: Upload a zip file **with your ID as the file name** containing the colab notebook and the GCP notebook to the assignment on Moodle. The names of the files should be  in the format:  012345678_colab.ipynb and 012345678_gcp.ipynb."
   ]
  },
  {
   "cell_type": "markdown",
   "metadata": {
    "id": "fscYA3wkHCLk"
   },
   "source": [
    "# Tasks\n",
    "\n",
    "In this assignment, we are going to use MapReduce in pySpark to scale up index creation. **The assignment consists of two parts, one in Google Colab and one in GCP**. In the first part (Colab), we will learn how to use MapReduce in PySpark, create an inverted index, and calculate PageRank. In the second part, we will use GCP to scale up index creation for the entire English Wikipedia.\n",
    "\n",
    "You will learn how to work with PySpark, write MapReduce code that executes on a cluster of machines, and experience the power of parallel processing. **All tasks must be completed through the use of PySpark's MapReduce**.\n",
    "\n",
    "To save you (and us) time, both in this assignment and in the final project, we are providing you with preprocessed files for the entire English wikipedia dump. Preprocessing was done, similar to Assignment #2, to extract article information from the XML, then remove the WikiMedia markup. The complete preprocessing code for one wiki dump can be seen [here](https://colab.research.google.com/drive/1xXc0YPU4BVd8CAjVNgICimW_d-Z7wryu?usp=sharing).\n",
    "\n",
    "\n",
    "**By the end of this assignment, you will have:**\n",
    "\n",
    "In Colab (65 Points)\n",
    "\n",
    "1. (20 Points) Processed articles' body to produce posting lists (using PySpark and MapReduce).\n",
    "2. (5 Points) Calculated document frequency (DF) in a  distributed fashion.\n",
    "3. (20 Points) Partitioned the posting lists and wrote them to disk in parallel.\n",
    "4. (20 Points) Constructed the links graph and calculated PageRank on it.\n",
    "All of these will be based on a small subset of articles from one wiki dump file.\n",
    "\n",
    "In GCP (35 Points):\n",
    "\n",
    "1. (10 Points) Successfully started a Dataproc cluster, setup cloud storage bucket, and properly initialized cluster nodes.\n",
    "2. (10 Points) Created an inverted index for all of English Wikipedia.\n",
    "3. (10 Points) Successfully computed PageRank for the entire English Wikipedia.\n",
    "4. (5 Points) Reporting: size of the data, size of index, time it took to build the index, time it took to compute PageRank, and the $ amount of credits it consumed.\n",
    "\n",
    "Bonus (10 points) if you implement PageRank in pure PySpark, i.e. without using the GraphFrames package, AND manage to complete 10 iterations of your algorithm on the entire English Wikipedia in less than an hour.\n",
    "\n",
    "\n",
    "\n",
    "\n",
    "\n"
   ]
  },
  {
   "cell_type": "markdown",
   "metadata": {
    "id": "J0P4W63JvrT5"
   },
   "source": [
    "# Setup"
   ]
  },
  {
   "cell_type": "markdown",
   "metadata": {
    "id": "59yMYAN1x3oh"
   },
   "source": [
    "## General imports\n",
    "\n",
    "The `inverted_index_colab` import requires the `inverted_index_colab.py` file. You should upload the file and then run this cell."
   ]
  },
  {
   "cell_type": "code",
   "execution_count": 1,
   "metadata": {
    "colab": {
     "base_uri": "https://localhost:8080/"
    },
    "id": "byNgReCYsmA9",
    "outputId": "7863d081-ad53-46dc-f6b1-a75ee3471bd7"
   },
   "outputs": [
    {
     "output_type": "stream",
     "name": "stderr",
     "text": [
      "[nltk_data] Downloading package stopwords to /root/nltk_data...\n",
      "[nltk_data]   Unzipping corpora/stopwords.zip.\n"
     ]
    }
   ],
   "source": [
    "import sys\n",
    "# from collections import Counter, OrderedDict\n",
    "from collections import Counter, OrderedDict, defaultdict\n",
    "import itertools\n",
    "from itertools import islice, count, groupby\n",
    "import pandas as pd\n",
    "import os\n",
    "import re\n",
    "from operator import itemgetter\n",
    "import nltk\n",
    "from nltk.stem.porter import *\n",
    "from nltk.corpus import stopwords\n",
    "from time import time\n",
    "from timeit import timeit\n",
    "from pathlib import Path\n",
    "import pickle\n",
    "import pandas as pd\n",
    "import numpy as np\n",
    "from google.cloud import storage\n",
    "\n",
    "import hashlib\n",
    "def _hash(s):\n",
    "    return hashlib.blake2b(bytes(s, encoding='utf8'), digest_size=5).hexdigest()\n",
    "\n",
    "nltk.download('stopwords')\n",
    "\n",
    "from inverted_index_colab import *"
   ]
  },
  {
   "cell_type": "markdown",
   "metadata": {
    "id": "KRjOVgLBrfCs"
   },
   "source": [
    "## Installing, importing, and initializing PySpark\n"
   ]
  },
  {
   "cell_type": "markdown",
   "metadata": {
    "id": "GORmjMdasns1"
   },
   "source": [
    "The following code installs PySpark and its dependencies in Colab. In addition, we install GraphFrames, which is a PySpark package for dealing with graphs in a distributed fashion. Colab notebooks run on a single machine so we will work in local mode, i.e. there is no cluster of machines and both the master and worker processes run on a single machine. This will help us debug and iron out the code we will use in the second half of this assignment on an actual cluster mode in GCP.\n",
    "\n",
    "The installation in the next cell should take about 1 minute in a fresh environment. Don't worry about going  over the 90 seconds limit for the assignment because in our testing enviroment all of these requirements will already be met."
   ]
  },
  {
   "cell_type": "code",
   "execution_count": 2,
   "metadata": {
    "colab": {
     "base_uri": "https://localhost:8080/"
    },
    "id": "kw33QgujFQez",
    "outputId": "04fa97ab-29c0-4139-e946-e4c74f68812f"
   },
   "outputs": [
    {
     "output_type": "stream",
     "name": "stdout",
     "text": [
      "The following additional packages will be installed:\n",
      "  libxtst6 openjdk-8-jre-headless\n",
      "Suggested packages:\n",
      "  openjdk-8-demo openjdk-8-source libnss-mdns fonts-dejavu-extra fonts-nanum fonts-ipafont-gothic\n",
      "  fonts-ipafont-mincho fonts-wqy-microhei fonts-wqy-zenhei fonts-indic\n",
      "The following NEW packages will be installed:\n",
      "  libxtst6 openjdk-8-jdk-headless openjdk-8-jre-headless\n",
      "0 upgraded, 3 newly installed, 0 to remove and 49 not upgraded.\n",
      "Need to get 39.7 MB of archives.\n",
      "After this operation, 144 MB of additional disk space will be used.\n",
      "Selecting previously unselected package libxtst6:amd64.\n",
      "(Reading database ... 123632 files and directories currently installed.)\n",
      "Preparing to unpack .../libxtst6_2%3a1.2.3-1build4_amd64.deb ...\n",
      "Unpacking libxtst6:amd64 (2:1.2.3-1build4) ...\n",
      "Selecting previously unselected package openjdk-8-jre-headless:amd64.\n",
      "Preparing to unpack .../openjdk-8-jre-headless_8u432-ga~us1-0ubuntu2~22.04_amd64.deb ...\n",
      "Unpacking openjdk-8-jre-headless:amd64 (8u432-ga~us1-0ubuntu2~22.04) ...\n",
      "Selecting previously unselected package openjdk-8-jdk-headless:amd64.\n",
      "Preparing to unpack .../openjdk-8-jdk-headless_8u432-ga~us1-0ubuntu2~22.04_amd64.deb ...\n",
      "Unpacking openjdk-8-jdk-headless:amd64 (8u432-ga~us1-0ubuntu2~22.04) ...\n",
      "Setting up libxtst6:amd64 (2:1.2.3-1build4) ...\n",
      "Setting up openjdk-8-jre-headless:amd64 (8u432-ga~us1-0ubuntu2~22.04) ...\n",
      "update-alternatives: using /usr/lib/jvm/java-8-openjdk-amd64/jre/bin/orbd to provide /usr/bin/orbd (orbd) in auto mode\n",
      "update-alternatives: using /usr/lib/jvm/java-8-openjdk-amd64/jre/bin/servertool to provide /usr/bin/servertool (servertool) in auto mode\n",
      "update-alternatives: using /usr/lib/jvm/java-8-openjdk-amd64/jre/bin/tnameserv to provide /usr/bin/tnameserv (tnameserv) in auto mode\n",
      "Setting up openjdk-8-jdk-headless:amd64 (8u432-ga~us1-0ubuntu2~22.04) ...\n",
      "update-alternatives: using /usr/lib/jvm/java-8-openjdk-amd64/bin/clhsdb to provide /usr/bin/clhsdb (clhsdb) in auto mode\n",
      "update-alternatives: using /usr/lib/jvm/java-8-openjdk-amd64/bin/extcheck to provide /usr/bin/extcheck (extcheck) in auto mode\n",
      "update-alternatives: using /usr/lib/jvm/java-8-openjdk-amd64/bin/hsdb to provide /usr/bin/hsdb (hsdb) in auto mode\n",
      "update-alternatives: using /usr/lib/jvm/java-8-openjdk-amd64/bin/idlj to provide /usr/bin/idlj (idlj) in auto mode\n",
      "update-alternatives: using /usr/lib/jvm/java-8-openjdk-amd64/bin/javah to provide /usr/bin/javah (javah) in auto mode\n",
      "update-alternatives: using /usr/lib/jvm/java-8-openjdk-amd64/bin/jhat to provide /usr/bin/jhat (jhat) in auto mode\n",
      "update-alternatives: using /usr/lib/jvm/java-8-openjdk-amd64/bin/jsadebugd to provide /usr/bin/jsadebugd (jsadebugd) in auto mode\n",
      "update-alternatives: using /usr/lib/jvm/java-8-openjdk-amd64/bin/native2ascii to provide /usr/bin/native2ascii (native2ascii) in auto mode\n",
      "update-alternatives: using /usr/lib/jvm/java-8-openjdk-amd64/bin/schemagen to provide /usr/bin/schemagen (schemagen) in auto mode\n",
      "update-alternatives: using /usr/lib/jvm/java-8-openjdk-amd64/bin/wsgen to provide /usr/bin/wsgen (wsgen) in auto mode\n",
      "update-alternatives: using /usr/lib/jvm/java-8-openjdk-amd64/bin/wsimport to provide /usr/bin/wsimport (wsimport) in auto mode\n",
      "update-alternatives: using /usr/lib/jvm/java-8-openjdk-amd64/bin/xjc to provide /usr/bin/xjc (xjc) in auto mode\n",
      "Processing triggers for libc-bin (2.35-0ubuntu3.4) ...\n",
      "/sbin/ldconfig.real: /usr/local/lib/libtbbbind.so.3 is not a symbolic link\n",
      "\n",
      "/sbin/ldconfig.real: /usr/local/lib/libtbbmalloc.so.2 is not a symbolic link\n",
      "\n",
      "/sbin/ldconfig.real: /usr/local/lib/libtbbbind_2_0.so.3 is not a symbolic link\n",
      "\n",
      "/sbin/ldconfig.real: /usr/local/lib/libumf.so.0 is not a symbolic link\n",
      "\n",
      "/sbin/ldconfig.real: /usr/local/lib/libhwloc.so.15 is not a symbolic link\n",
      "\n",
      "/sbin/ldconfig.real: /usr/local/lib/libur_adapter_opencl.so.0 is not a symbolic link\n",
      "\n",
      "/sbin/ldconfig.real: /usr/local/lib/libur_adapter_level_zero.so.0 is not a symbolic link\n",
      "\n",
      "/sbin/ldconfig.real: /usr/local/lib/libtcm.so.1 is not a symbolic link\n",
      "\n",
      "/sbin/ldconfig.real: /usr/local/lib/libtbbmalloc_proxy.so.2 is not a symbolic link\n",
      "\n",
      "/sbin/ldconfig.real: /usr/local/lib/libtbb.so.12 is not a symbolic link\n",
      "\n",
      "/sbin/ldconfig.real: /usr/local/lib/libur_loader.so.0 is not a symbolic link\n",
      "\n",
      "/sbin/ldconfig.real: /usr/local/lib/libtcm_debug.so.1 is not a symbolic link\n",
      "\n",
      "/sbin/ldconfig.real: /usr/local/lib/libtbbbind_2_5.so.3 is not a symbolic link\n",
      "\n",
      "\u001B[2K   \u001B[90m━━━━━━━━━━━━━━━━━━━━━━━━━━━━━━━━━━━━━━━━\u001B[0m \u001B[32m154.7/154.7 kB\u001B[0m \u001B[31m3.0 MB/s\u001B[0m eta \u001B[36m0:00:00\u001B[0m\n",
      "\u001B[?25h--2025-01-11 14:12:20--  https://repos.spark-packages.org/graphframes/graphframes/0.8.2-spark3.2-s_2.12/graphframes-0.8.2-spark3.2-s_2.12.jar\n",
      "Resolving repos.spark-packages.org (repos.spark-packages.org)... 13.35.166.93, 13.35.166.111, 13.35.166.78, ...\n",
      "Connecting to repos.spark-packages.org (repos.spark-packages.org)|13.35.166.93|:443... connected.\n",
      "HTTP request sent, awaiting response... 200 OK\n",
      "Length: 247880 (242K) [binary/octet-stream]\n",
      "Saving to: ‘/usr/local/lib/python3.7/dist-packages/pyspark/jars/graphframes-0.8.2-spark3.2-s_2.12.jar’\n",
      "\n",
      "graphframes-0.8.2-s 100%[===================>] 242.07K   590KB/s    in 0.4s    \n",
      "\n",
      "2025-01-11 14:12:21 (590 KB/s) - ‘/usr/local/lib/python3.7/dist-packages/pyspark/jars/graphframes-0.8.2-spark3.2-s_2.12.jar’ saved [247880/247880]\n",
      "\n"
     ]
    }
   ],
   "source": [
    "# These will already be installed in the testing environment so disregard the\n",
    "# amount of time (~1 minute) it takes to install.\n",
    "!pip install -q pyspark\n",
    "!pip install -U -q PyDrive\n",
    "!apt install openjdk-8-jdk-headless -qq\n",
    "!pip install -q graphframes\n",
    "import os\n",
    "os.environ[\"JAVA_HOME\"] = \"/usr/lib/jvm/java-8-openjdk-amd64\"\n",
    "graphframes_jar = 'https://repos.spark-packages.org/graphframes/graphframes/0.8.2-spark3.2-s_2.12/graphframes-0.8.2-spark3.2-s_2.12.jar'\n",
    "spark_jars = '/usr/local/lib/python3.7/dist-packages/pyspark/jars'\n",
    "!wget -N -P $spark_jars $graphframes_jar"
   ]
  },
  {
   "cell_type": "code",
   "execution_count": 3,
   "metadata": {
    "id": "BkEErqJnsXyy"
   },
   "outputs": [],
   "source": [
    "import pyspark\n",
    "from pyspark.sql import *\n",
    "from pyspark.sql.functions import *\n",
    "from pyspark import SparkContext, SparkConf\n",
    "from pyspark.sql import SQLContext\n",
    "from pyspark.ml.feature import Tokenizer, RegexTokenizer\n",
    "from graphframes import *"
   ]
  },
  {
   "cell_type": "code",
   "execution_count": 4,
   "metadata": {
    "id": "OgiSewKAsgKd"
   },
   "outputs": [],
   "source": [
    "# Initializing spark context\n",
    "# create a spark context and session\n",
    "conf = SparkConf().set(\"spark.ui.port\", \"4050\")\n",
    "conf.set(\"spark.jars.packages\", \"graphframes:graphframes:0.8.2-spark3.2-s_2.12\")\n",
    "sc = pyspark.SparkContext(conf=conf)\n",
    "sc.addPyFile(str(Path(spark_jars) / Path(graphframes_jar).name))\n",
    "spark = SparkSession.builder.getOrCreate()"
   ]
  },
  {
   "cell_type": "markdown",
   "metadata": {
    "id": "A9fjw2J-s87v"
   },
   "source": [
    "You can easily check the current version and get the link of the web interface. In the Spark UI, you can monitor the progress of your job and debug the performance bottlenecks (if your Colab is running with a **local runtime**)."
   ]
  },
  {
   "cell_type": "code",
   "execution_count": 5,
   "metadata": {
    "colab": {
     "base_uri": "https://localhost:8080/",
     "height": 219
    },
    "id": "PUyhQAlBs8qL",
    "outputId": "9e134402-684a-4c2d-e884-97b37ec56ca6"
   },
   "outputs": [
    {
     "output_type": "execute_result",
     "data": {
      "text/plain": [
       "<pyspark.sql.session.SparkSession at 0x7e777d1eac80>"
      ],
      "text/html": [
       "\n",
       "            <div>\n",
       "                <p><b>SparkSession - in-memory</b></p>\n",
       "                \n",
       "        <div>\n",
       "            <p><b>SparkContext</b></p>\n",
       "\n",
       "            <p><a href=\"http://ef062538b541:4050\">Spark UI</a></p>\n",
       "\n",
       "            <dl>\n",
       "              <dt>Version</dt>\n",
       "                <dd><code>v3.5.4</code></dd>\n",
       "              <dt>Master</dt>\n",
       "                <dd><code>local[*]</code></dd>\n",
       "              <dt>AppName</dt>\n",
       "                <dd><code>pyspark-shell</code></dd>\n",
       "            </dl>\n",
       "        </div>\n",
       "        \n",
       "            </div>\n",
       "        "
      ]
     },
     "metadata": {},
     "execution_count": 5
    }
   ],
   "source": [
    "spark"
   ]
  },
  {
   "cell_type": "markdown",
   "metadata": {
    "id": "19EG5AvVru1J"
   },
   "source": [
    "## Copy some wiki data"
   ]
  },
  {
   "cell_type": "markdown",
   "metadata": {
    "id": "ofyAoTHttjHE"
   },
   "source": [
    "As mentioned above, all wiki dumps were preprocessed and placed in a shared google storage bucket. To access the files in Colab, you will first have to authenticate with google storage, and then copy the data to your local environment.\n",
    "\n",
    "**IMPORTANT NOTE**\n",
    "\n",
    "Before you start working with the wiki data, you first have to go over the\n",
    "\"Working with GCP.pdf\" Provided to you under the gcp folder in the same zip file as this folder. In that pdf you will redeem your credits for the GCP and create your instance. You have to do this procedure because the files will be mounted to you through GCP process. Important: Ensure you have completed the **Google Storage** section of the PDF document before continuing with the next steps.\n",
    "Notice that you have to change the project_id and data_bucket_name variables in the second cell below.\n",
    "\n",
    "In GCP, the storage will already be mounted on the cluster machines and we will show you how to access it.\n"
   ]
  },
  {
   "cell_type": "code",
   "execution_count": 6,
   "metadata": {
    "id": "DkdjBm5DOVWX"
   },
   "outputs": [],
   "source": [
    "# Authenticate your user\n",
    "# The authentication should be done with the email connected to your GCP account\n",
    "from google.colab import auth\n",
    "import signal\n",
    "\n",
    "AUTH_TIMEOUT = 100\n",
    "\n",
    "def handler(signum, frame):\n",
    "  raise Exception(\"Authentication timeout!\")\n",
    "\n",
    "try:\n",
    "  signal.signal(signal.SIGALRM, handler)\n",
    "  signal.alarm(AUTH_TIMEOUT)\n",
    "  auth.authenticate_user()\n",
    "  signal.alarm(0)\n",
    "except:\n",
    "  pass"
   ]
  },
  {
   "cell_type": "markdown",
   "metadata": {
    "id": "ioYqHQaPtyKj"
   },
   "source": [
    "Run this cell and follow the authorization link that appears. The link will take you to Google Cloud Platform (GCP) where you'll need to:\n",
    "\n",
    "Sign in to your Google account\n",
    "Copy the verification code provided\n",
    "Return here to paste the code when prompted"
   ]
  },
  {
   "cell_type": "code",
   "execution_count": 7,
   "metadata": {
    "colab": {
     "base_uri": "https://localhost:8080/"
    },
    "id": "thuBAQZU5YWO",
    "outputId": "c280a700-124c-43d0-b9bb-ea0d6ed8030d"
   },
   "outputs": [
    {
     "output_type": "stream",
     "name": "stdout",
     "text": [
      "\n",
      "You are running on a Google Compute Engine virtual machine.\n",
      "It is recommended that you use service accounts for authentication.\n",
      "\n",
      "You can run:\n",
      "\n",
      "  $ gcloud config set account `ACCOUNT`\n",
      "\n",
      "to switch accounts if necessary.\n",
      "\n",
      "Your credentials may be visible to others with access to this\n",
      "virtual machine. Are you sure you want to authenticate with\n",
      "your personal account?\n",
      "\n",
      "Do you want to continue (Y/n)?  y\n",
      "\n",
      "Go to the following link in your browser, and complete the sign-in prompts:\n",
      "\n",
      "    https://accounts.google.com/o/oauth2/auth?response_type=code&client_id=32555940559.apps.googleusercontent.com&redirect_uri=https%3A%2F%2Fsdk.cloud.google.com%2Fauthcode.html&scope=openid+https%3A%2F%2Fwww.googleapis.com%2Fauth%2Fuserinfo.email+https%3A%2F%2Fwww.googleapis.com%2Fauth%2Fcloud-platform+https%3A%2F%2Fwww.googleapis.com%2Fauth%2Fappengine.admin+https%3A%2F%2Fwww.googleapis.com%2Fauth%2Fsqlservice.login+https%3A%2F%2Fwww.googleapis.com%2Fauth%2Fcompute+https%3A%2F%2Fwww.googleapis.com%2Fauth%2Faccounts.reauth&state=xyPKtwVzMGcCNmmRFKPGPJs7Z5SPp0&prompt=consent&token_usage=remote&access_type=offline&code_challenge=sJxBnUlEADCKfCQUxFox6KBqKE2iP8rdDujXYQg2n1o&code_challenge_method=S256\n",
      "\n",
      "Once finished, enter the verification code provided in your browser: 4/0AanRRrsLGXjVZoRVARn9k4xc1qZna3MpvBwD3COHps5IU_f4it-Yz9-p6dxVJEhjbmuKsg\n",
      "\n",
      "You are now logged in as [shhara@post.bgu.ac.il].\n",
      "Your current project is [None].  You can change this setting by running:\n",
      "  $ gcloud config set project PROJECT_ID\n",
      "Updated property [core/project].\n",
      "Copying gs://314616475/multistream1_preprocessed.parquet...\n",
      "==> NOTE: You are downloading one or more large file(s), which would\n",
      "run significantly faster if you enabled sliced object downloads. This\n",
      "feature is enabled by default but requires that compiled crcmod be\n",
      "installed (see \"gsutil help crcmod\").\n",
      "\n",
      "/ [1 files][316.7 MiB/316.7 MiB]   21.7 MiB/s                                   \n",
      "Operation completed over 1 objects/316.7 MiB.                                    \n"
     ]
    }
   ],
   "source": [
    "import os\n",
    "from pathlib import Path\n",
    "from google.colab import auth\n",
    "from google.cloud import storage\n",
    "\n",
    "# Alternative authentication method\n",
    "!gcloud auth login\n",
    "\n",
    "# Set your project and bucket info\n",
    "project_id = 'hw2-project-444515'\n",
    "data_bucket_name = '314616475'\n",
    "\n",
    "# Configure project\n",
    "!gcloud config set project {project_id}\n",
    "\n",
    "# Create directory and copy file directly\n",
    "try:\n",
    "    if os.environ[\"wikidata_preprocessed\"] is not None:\n",
    "        pass\n",
    "except:\n",
    "    !mkdir -p wikidumps\n",
    "    !gsutil -u {project_id} cp gs://{data_bucket_name}/multistream1_preprocessed.parquet \"wikidumps/\""
   ]
  },
  {
   "cell_type": "markdown",
   "source": [
    "# Creating local folders"
   ],
   "metadata": {
    "id": "gor0gdZVd58x"
   }
  },
  {
   "cell_type": "code",
   "source": [
    "import os\n",
    "import shutil\n",
    "\n",
    "!mkdir -p text_index\n",
    "!mkdir -p title_index\n",
    "!mkdir -p anchor_index\n",
    "\n",
    "def move_bin_files(folder_name):\n",
    "    \"\"\"\n",
    "    Moves all files ending with '.bin' in the current directory\n",
    "    to the specified folder.\n",
    "\n",
    "    Args:\n",
    "        folder_name (str): The name of the destination folder.\n",
    "    \"\"\"\n",
    "    for filename in os.listdir():\n",
    "        if filename.endswith(\".bin\") or filename.endswith(\".pkl\"):\n",
    "            source_path = os.path.abspath(filename)\n",
    "            destination_path = os.path.join(folder_name, filename)\n",
    "\n",
    "            try:\n",
    "                shutil.move(source_path, destination_path)\n",
    "            except Exception as e:\n",
    "                print(f\"Error moving '{filename}': {e}\")\n"
   ],
   "metadata": {
    "id": "CQ_wvoqYeCBm"
   },
   "execution_count": 8,
   "outputs": []
  },
  {
   "cell_type": "markdown",
   "metadata": {
    "id": "_GU4djg6yizh"
   },
   "source": [
    "# Processing wikipedia"
   ]
  },
  {
   "cell_type": "markdown",
   "metadata": {
    "id": "uF9ywiIC-sAX"
   },
   "source": [
    "Now that we completed the setup and have some data in our local environment, we are ready to process it using PySpark."
   ]
  },
  {
   "cell_type": "markdown",
   "metadata": {
    "id": "tkEUicVTzDZd"
   },
   "source": [
    "## A 2-minute intro to PySpark"
   ]
  },
  {
   "cell_type": "markdown",
   "metadata": {
    "id": "6GVQMbCtzWI2"
   },
   "source": [
    "One of the fundamental data structures in spark is a **Resillient Distributed Dataset (RDD)**. It is an immutable distributed collections of objects that are partitioned across machines, and thus making parallel processing natural and easy. RDD's support two types of operations: *transformations* (e.g. selecting a subset of fields from each element or projecting each element from A->B), and *actions* (e.g. save to disk or `collect` elements into the master node's memory). Watch out for `collect` operations that send too much data to the master node, it will crash without a trace because of running out of memory.\n",
    "\n",
    "Spark employs **lazy-evaluation** (like many of us...), meaning that it accumulates things we ask it to do into an execution plan, but doesn't do any calculation until a result is actually needed. When a result is needed? when we save something to disk, ask spark to show the data, or use other actions. But make no mistakes, Spark is not a slacker. It employs lazy-evaluation because it allows optimizations that wouldn't be possible otherwise and it often saves users from unnecessary data reads, tranfers across machines, and other costly operations. As we will see in a bit, the RDD data structure lends itself to simple and efficient MapReduce operations."
   ]
  },
  {
   "cell_type": "markdown",
   "metadata": {
    "id": "5aQwbFGxPb4D"
   },
   "source": [
    "Let's look at our data before transforming it to RDD."
   ]
  },
  {
   "cell_type": "code",
   "execution_count": 9,
   "metadata": {
    "id": "nmMTFnPaaqRQ",
    "colab": {
     "base_uri": "https://localhost:8080/"
    },
    "outputId": "a5913ded-073a-4e05-d122-84ec8dc03392"
   },
   "outputs": [
    {
     "output_type": "stream",
     "name": "stdout",
     "text": [
      "+---+--------------------+--------------------+--------------------+\n",
      "| id|               title|                text|         anchor_text|\n",
      "+---+--------------------+--------------------+--------------------+\n",
      "| 12|           Anarchism|'''Anarchism''' i...|[{23040, politica...|\n",
      "| 25|              Autism|'''Autism''' is a...|[{492271, Clinica...|\n",
      "| 39|              Albedo|thumb|upright=1.3...|[{679294, diffuse...|\n",
      "|290|                   A|'''A''', or '''a'...|[{290, See below}...|\n",
      "|303|             Alabama|'''Alabama''' () ...|[{351590, Yellowh...|\n",
      "|305|            Achilles|thumb|260px|Ancie...|[{1076007, potter...|\n",
      "|307|     Abraham Lincoln|'''Abraham Lincol...|[{1827174, Alexan...|\n",
      "|308|           Aristotle|'''Aristotle''' (...|[{1389981, bust},...|\n",
      "|309|An American in Paris|'''''An American ...|[{13066, George G...|\n",
      "|316|Academy Award for...|The '''Academy Aw...|[{39842, Academy ...|\n",
      "|324|      Academy Awards|The '''Academy Aw...|[{649481, film in...|\n",
      "|330|             Actrius|'''''Actresses'''...|[{5282, Catalan},...|\n",
      "|332|     Animalia (book)|'''''Animalia''''...|[{2511084, Graeme...|\n",
      "|334|International Ato...|'''International ...|[{25453985, atomi...|\n",
      "|336|            Altruism|thumb|Giving alms...|[{657573, alms}, ...|\n",
      "|339|            Ayn Rand|'''Alice O'Connor...|[{24320051, St. P...|\n",
      "|340|        Alain Connes|'''Alain Connes''...|[{1201522, Dragui...|\n",
      "|344|          Allan Dwan|'''Allan Dwan''' ...|[{64646, Toronto}...|\n",
      "|358|             Algeria|'''Algeria''', of...|[{803, Arabic}, {...|\n",
      "|359|List of Atlas Shr...|This is a list of...|[{339, Ayn Rand},...|\n",
      "+---+--------------------+--------------------+--------------------+\n",
      "only showing top 20 rows\n",
      "\n"
     ]
    }
   ],
   "source": [
    "from pathlib import Path\n",
    "import os\n",
    "\n",
    "try:\n",
    "    if os.environ[\"wikidata_preprocessed\"] is not None:\n",
    "      path = os.environ[\"wikidata_preprocessed\"]+\"/wikidumps/*\"\n",
    "except:\n",
    "      path = \"wikidumps/*\"\n",
    "\n",
    "parquetFile = spark.read.parquet(path)\n",
    "parquetFile.show()"
   ]
  },
  {
   "cell_type": "markdown",
   "source": [
    "# Making pairs for title, text and anchor text"
   ],
   "metadata": {
    "id": "cdvIjZLBfcWS"
   }
  },
  {
   "cell_type": "code",
   "execution_count": 10,
   "metadata": {
    "id": "KMcsrc8RO9kn"
   },
   "outputs": [],
   "source": [
    "# take the 'text' and 'id' or the first 1000 rows and create an RDD from it\n",
    "doc_text_pairs = parquetFile.limit(1000).select(\"text\", \"id\").rdd\n",
    "doc_title_pairs = parquetFile.limit(1000).select(\"title\", \"id\").rdd\n",
    "doc_anchor_pairs = parquetFile.limit(1000).select(\"anchor_text\", \"id\").rdd"
   ]
  },
  {
   "cell_type": "markdown",
   "metadata": {
    "id": "__g69rcETm4w"
   },
   "source": [
    "## Word counts"
   ]
  },
  {
   "cell_type": "markdown",
   "metadata": {
    "id": "-zUibXvjWb6Q"
   },
   "source": [
    "### Term frequency"
   ]
  },
  {
   "cell_type": "markdown",
   "metadata": {
    "id": "UrBuHUHmA5pP"
   },
   "source": [
    "**YOUR TASK (10 POINTS):** Complete the implementation of `word_count`, which calculates the term-frequency (tf) for each word in a single document.  map function. The functions gets the text and the wiki id, calculates the tf and returns list of tuples in the form of (token, (wiki_id, tf))."
   ]
  },
  {
   "cell_type": "code",
   "execution_count": 11,
   "metadata": {
    "id": "9GmPedzexLyt"
   },
   "outputs": [],
   "source": [
    "english_stopwords = frozenset(stopwords.words('english'))\n",
    "corpus_stopwords = ['category', 'references', 'also', 'links', 'extenal', 'see', 'thumb']\n",
    "RE_WORD = re.compile(r\"\"\"[\\#\\@\\w](['\\-]?\\w){2,24}\"\"\", re.UNICODE)\n",
    "\n",
    "all_stopwords = english_stopwords.union(corpus_stopwords)\n",
    "\n",
    "def word_count(text, id):\n",
    "  ''' Count the frequency of each word in `text` (tf) that is not included in\n",
    "  `all_stopwords` and return entries that will go into our posting lists.\n",
    "  Parameters:\n",
    "  -----------\n",
    "    text: str\n",
    "      Text of one document\n",
    "    id: int\n",
    "      Document id\n",
    "  Returns:\n",
    "  --------\n",
    "    List of tuples\n",
    "      A list of (token, (doc_id, tf)) pairs\n",
    "      for example: [(\"Anarchism\", (12, 5)), ...]\n",
    "  '''\n",
    "  # tokens = [token.group() for token in RE_WORD.finditer(text.lower())]\n",
    "  # # YOUR CODE HERE\n",
    "  # res_list = []\n",
    "  # for token in tokens:\n",
    "  #   if token not in all_stopwords:\n",
    "  #     if (token, (id, tokens.count(token))) not in res_list:\n",
    "  #       res_list.append((token, (id, tokens.count(token))))\n",
    "  # return res_list\n",
    "\n",
    "  tokens = [token.group() for token in RE_WORD.finditer(text.lower())]\n",
    "  token_counts = Counter(tokens)  # Calculate term frequencies efficiently\n",
    "  res_list = [\n",
    "        (token, (id, count))\n",
    "        for token, count in token_counts.items()\n",
    "        if token not in all_stopwords\n",
    "    ]\n",
    "  return res_list\n",
    "  # raise NotImplementedError()"
   ]
  },
  {
   "cell_type": "code",
   "source": [
    "def tokenize(text):\n",
    "  english_stopwords = frozenset(stopwords.words('english'))\n",
    "  corpus_stopwords = ['category', 'references', 'also', 'links', 'extenal', 'see', 'thumb']\n",
    "  RE_WORD = re.compile(r\"\"\"[\\#\\@\\w](['\\-]?\\w){2,24}\"\"\", re.UNICODE)\n",
    "\n",
    "  all_stopwords = english_stopwords.union(corpus_stopwords)\n",
    "  stemmer = PorterStemmer()\n",
    "  tokens = [token.group() for token in RE_WORD.finditer(text.lower())]\n",
    "  stemmed = [stemmer.stem(token) for token in tokens if token not in all_stopwords]\n",
    "  return stemmed"
   ],
   "metadata": {
    "id": "wPxc8mqB5KCp"
   },
   "execution_count": 12,
   "outputs": []
  },
  {
   "cell_type": "code",
   "source": [
    "def stemmed_word_count(text, id):\n",
    "  ''' Count the frequency of each word in `text` (tf) that is not included in\n",
    "  `all_stopwords` and return entries that will go into our posting lists.\n",
    "  Parameters:\n",
    "  -----------\n",
    "    text: str\n",
    "      Text of one document\n",
    "    id: int\n",
    "      Document id\n",
    "  Returns:\n",
    "  --------\n",
    "    List of tuples\n",
    "      A list of (token, (doc_id, tf)) pairs\n",
    "      for example: [(\"Anarchism\", (12, 5)), ...]\n",
    "  '''\n",
    "  tokens = tokenize(text)\n",
    "  token_counts = Counter(tokens)  # Calculate term frequencies efficiently\n",
    "  res_list = [\n",
    "        (token, (id, count))\n",
    "        for token, count in token_counts.items()\n",
    "        if token not in all_stopwords\n",
    "    ]\n",
    "  return res_list"
   ],
   "metadata": {
    "id": "aDaw1zgY5td3"
   },
   "execution_count": 13,
   "outputs": []
  },
  {
   "cell_type": "code",
   "source": [
    "text_doc_lengths_dict = {}\n",
    "title_doc_lengths_dict = {}\n",
    "\n",
    "def len_tokens(text, id):\n",
    "  tokens = [token.group() for token in RE_WORD.finditer(text.lower())]\n",
    "  tokens = [x for x in tokens if x not in all_stopwords]\n",
    "  return (id, len(tokens))\n",
    "\n",
    "# Apply the function to your RDD\n",
    "text_len_pairs = doc_text_pairs.map(lambda x: len_tokens(x[0], x[1]))\n",
    "text_doc_lengths_dict = text_len_pairs.collectAsMap()\n",
    "\n",
    "title_len_pairs = doc_title_pairs.map(lambda x: len_tokens(x[0], x[1]))\n",
    "title_doc_lengths_dict = title_len_pairs.collectAsMap()"
   ],
   "metadata": {
    "id": "vtwbQkkGmB13"
   },
   "execution_count": 17,
   "outputs": []
  },
  {
   "cell_type": "code",
   "source": [
    "print(text_doc_lengths_dict)\n",
    "print(title_doc_lengths_dict)"
   ],
   "metadata": {
    "colab": {
     "base_uri": "https://localhost:8080/"
    },
    "id": "h8BwGfJuuqJv",
    "outputId": "31fe9cf6-ac36-420d-b369-3bf8fc77f02a"
   },
   "execution_count": 18,
   "outputs": [
    {
     "output_type": "stream",
     "name": "stdout",
     "text": [
      "{12: 4179, 25: 4270, 39: 1868, 290: 1034, 303: 8281, 305: 4386, 307: 8137, 308: 6177, 309: 1043, 316: 4632, 324: 4456, 330: 251, 332: 237, 334: 694, 336: 3888, 339: 4274, 340: 305, 344: 818, 358: 6744, 359: 2613, 569: 4274, 572: 639, 573: 4985, 579: 442, 580: 465, 586: 3451, 590: 196, 593: 3709, 594: 10157, 595: 5471, 597: 2332, 599: 3238, 600: 5228, 612: 752, 615: 918, 620: 3823, 621: 7070, 624: 7261, 627: 4850, 628: 2543, 630: 376, 632: 637, 633: 3059, 634: 2816, 639: 4067, 640: 1970, 642: 147, 643: 614, 649: 565, 651: 1137, 653: 2945, 655: 2226, 656: 3128, 657: 4628, 659: 1027, 661: 132, 662: 6816, 663: 4536, 664: 2854, 665: 1543, 666: 9421, 670: 2811, 673: 985, 674: 3756, 675: 408, 676: 3377, 677: 2160, 678: 277, 679: 583, 680: 1790, 681: 1056, 682: 1475, 683: 418, 689: 4584, 690: 2961, 691: 3825, 694: 39, 698: 5089, 700: 7464, 701: 6012, 704: 1125, 705: 702, 706: 1840, 708: 233, 709: 1290, 710: 1500, 711: 2773, 713: 1682, 717: 6386, 728: 648, 734: 1645, 736: 7304, 737: 8274, 738: 9229, 740: 1749, 742: 73, 746: 7708, 748: 2200, 751: 2481, 752: 5390, 764: 309, 765: 4417, 766: 194, 771: 11383, 772: 449, 775: 6124, 777: 372, 779: 74, 780: 1087, 782: 2268, 783: 7886, 784: 820, 785: 1773, 786: 2853, 787: 457, 788: 212, 789: 497, 791: 4285, 794: 212, 795: 590, 798: 2134, 799: 1564, 800: 3129, 801: 23, 802: 5762, 803: 8828, 808: 7435, 809: 354, 824: 3444, 825: 1150, 840: 3008, 841: 2736, 842: 2639, 843: 2796, 844: 7723, 846: 331, 848: 6732, 849: 3047, 851: 1352, 852: 6258, 854: 3125, 856: 12175, 857: 1541, 859: 324, 863: 10437, 864: 5886, 868: 922, 869: 1102, 872: 6573, 874: 7339, 875: 233, 876: 1021, 877: 1118, 878: 2037, 880: 8969, 881: 1119, 885: 156, 887: 2246, 888: 2688, 890: 2275, 892: 260, 894: 1982, 896: 1715, 897: 4704, 898: 2606, 899: 1756, 900: 3047, 901: 2868, 902: 4865, 903: 1220, 904: 4865, 905: 771, 909: 2471, 910: 96, 911: 321, 914: 1330, 915: 522, 921: 343, 922: 2919, 924: 2017, 925: 339, 928: 2038, 929: 476, 930: 1498, 931: 4397, 933: 268, 951: 2227, 953: 309, 954: 4553, 956: 1862, 957: 898, 958: 2753, 960: 1105, 966: 132, 967: 1419, 969: 1947, 974: 3237, 980: 2266, 981: 5949, 983: 3194, 984: 5696, 986: 2165, 988: 494, 991: 1255, 993: 273, 994: 104, 1000: 3936, 1002: 1865, 1004: 2195, 1005: 1765, 1006: 2114, 1008: 3369, 1009: 3100, 1010: 3071, 1011: 2857, 1012: 2957, 1013: 3041, 1014: 1654, 1016: 2149, 1017: 5609, 1018: 572, 1019: 2659, 1020: 2103, 1021: 341, 1022: 3360, 1023: 4769, 1027: 2835, 1028: 4863, 1029: 3916, 1030: 2608, 1032: 1140, 1036: 460, 1038: 7510, 1043: 84, 1046: 115, 1049: 456, 1051: 1913, 1055: 1467, 1057: 832, 1058: 1390, 1063: 1309, 1064: 2630, 1069: 1011, 1070: 479, 1072: 293, 1074: 263, 1078: 11221, 1081: 2316, 1082: 885, 1087: 3476, 1088: 3572, 1091: 569, 1092: 1956, 1093: 784, 1094: 6244, 1096: 965, 1097: 3025, 1098: 6147, 1110: 415, 1111: 288, 1112: 395, 1129: 2761, 1130: 4688, 1132: 4961, 1134: 1317, 1135: 1583, 1136: 86, 1140: 2377, 1141: 11019, 1143: 2290, 1144: 1317, 1146: 1730, 1148: 6760, 1152: 2166, 1154: 3061, 1155: 402, 1158: 640, 1160: 608, 1162: 3578, 1164: 5224, 1166: 970, 1167: 2070, 1168: 2558, 1169: 248, 1170: 1594, 1171: 1820, 1174: 5167, 1175: 2774, 1176: 140, 1177: 6501, 1178: 5732, 1181: 873, 1182: 4651, 1183: 1633, 1184: 89, 1187: 3145, 1192: 708, 1193: 2489, 1194: 129, 1196: 2590, 1197: 153, 1198: 1914, 1200: 514, 1201: 3118, 1202: 541, 1203: 4751, 1206: 4293, 1207: 3193, 1208: 4482, 1209: 2102, 1210: 2140, 1212: 568, 1213: 1379, 1214: 7756, 1216: 7213, 1217: 2157, 1223: 279, 1227: 704, 1234: 317, 1235: 1750, 1239: 7577, 1241: 1540, 1242: 2704, 1247: 1174, 1252: 2886, 1254: 3643, 1256: 3148, 1259: 2929, 1260: 2011, 1261: 2636, 1264: 1133, 1267: 1204, 1270: 3600, 1271: 1565, 1273: 8320, 1274: 1298, 1279: 908, 1285: 1094, 1286: 925, 1288: 2697, 1291: 1912, 1293: 865, 1298: 2742, 1300: 1970, 1301: 706, 1303: 473, 1304: 222, 1305: 1222, 1306: 2750, 1307: 1367, 1309: 520, 1313: 750, 1315: 2110, 1316: 2526, 1317: 2436, 1322: 1256, 1324: 807, 1325: 2315, 1327: 1138, 1331: 482, 1332: 2791, 1333: 3199, 1334: 3261, 1335: 870, 1336: 433, 1338: 4335, 1344: 1542, 1346: 3378, 1347: 4911, 1348: 4481, 1349: 1043, 1354: 2579, 1356: 95, 1358: 3579, 1359: 636, 1360: 915, 1361: 1948, 1362: 329, 1363: 941, 1365: 5211, 1366: 1112, 1367: 2672, 1368: 4103, 1369: 650, 1370: 4289, 1371: 297, 1372: 2601, 1373: 299, 1374: 752, 1376: 2069, 1380: 614, 1383: 1327, 1384: 3278, 1386: 497, 1387: 1677, 1389: 893, 1391: 106, 1392: 173, 1394: 923, 1395: 3986, 1397: 4977, 1400: 1444, 1404: 258, 1408: 2042, 1409: 374, 1412: 1705, 1416: 2978, 1417: 2048, 1418: 1729, 1419: 2112, 1422: 897, 1423: 3059, 1425: 2714, 1428: 2273, 1433: 518, 1435: 636, 1436: 3209, 1437: 2254, 1438: 1767, 1439: 57, 1440: 1605, 1441: 1295, 1442: 3554, 1445: 1752, 1446: 3895, 1448: 3086, 1449: 1185, 1451: 3648, 1453: 1614, 1456: 2086, 1460: 980, 1461: 7119, 1466: 2735, 1478: 182, 1482: 821, 1484: 273, 1485: 859, 1486: 2312, 1488: 835, 1490: 3046, 1491: 3124, 1494: 6144, 1495: 3848, 1496: 2563, 1497: 2953, 1499: 2770, 1500: 458, 1501: 63, 1504: 255, 1505: 109, 1506: 141, 1507: 72, 1508: 329, 1509: 548, 1513: 573, 1514: 1193, 1519: 3110, 1520: 4347, 1523: 817, 1525: 3957, 1526: 1277, 1527: 1526, 1528: 488, 1529: 1911, 1530: 5889, 1536: 308, 1537: 6478, 1538: 67, 1540: 1979, 1541: 2574, 1542: 1918, 1543: 311, 1544: 2210, 1545: 1124, 1546: 1793, 1547: 33, 1548: 880, 1549: 518, 1550: 2346, 1551: 86, 1552: 239, 1553: 173, 1556: 2362, 1557: 3021, 1558: 2989, 1559: 221, 1560: 2344, 1563: 310, 1564: 220, 1565: 135, 1566: 3353, 1567: 417, 1568: 954, 1569: 547, 1570: 2584, 1571: 549, 1573: 2334, 1575: 3622, 1576: 3463, 1577: 1610, 1578: 211, 1579: 650, 1580: 319, 1581: 1280, 1583: 1975, 1585: 217, 1586: 709, 1587: 596, 1588: 145, 1589: 422, 1592: 3172, 1593: 531, 1594: 687, 1595: 717, 1596: 878, 1597: 28, 1599: 1038, 1600: 1789, 1601: 2107, 1602: 101, 1603: 74, 1604: 72, 1605: 168, 1606: 1202, 1607: 28, 1608: 15, 1612: 102, 1613: 2060, 1614: 648, 1615: 372, 1616: 844, 1617: 1038, 1620: 1020, 1623: 10407, 1624: 7985, 1625: 4422, 1627: 6477, 1628: 3245, 1629: 2960, 1633: 1876, 1634: 4877, 1635: 1832, 1637: 124, 1638: 54, 1639: 2867, 1640: 6311, 1642: 841, 1643: 168, 1644: 3395, 1645: 4008, 1647: 369, 1649: 3637, 1650: 841, 1652: 554, 1653: 2364, 1654: 113, 1655: 514, 1656: 366, 1657: 1493, 1658: 325, 1659: 586, 1660: 667, 1661: 737, 1662: 396, 1663: 44, 1664: 422, 1669: 146, 1676: 1255, 1677: 2175, 1679: 1396, 1680: 726, 1683: 238, 1684: 488, 1685: 791, 1686: 999, 1687: 862, 1688: 1013, 1689: 59, 1690: 597, 1691: 49, 1692: 34, 1694: 22, 1695: 3207, 1696: 17, 1697: 868, 1698: 593, 1700: 193, 1701: 3797, 1702: 216, 1710: 2045, 1711: 2919, 1714: 99, 1715: 3679, 1716: 399, 1717: 563, 1718: 529, 1719: 3124, 1722: 1329, 1723: 595, 1724: 594, 1726: 485, 1727: 1355, 1728: 358, 1729: 142, 1730: 408, 1732: 595, 1734: 704, 1735: 5101, 1737: 1017, 1738: 260, 1740: 113, 1742: 22, 1743: 23, 1746: 465, 1747: 361, 1748: 907, 1749: 440, 1750: 2178, 1751: 220, 1752: 683, 1754: 169, 1755: 2931, 1756: 1709, 1758: 542, 1759: 1327, 1760: 915, 1761: 669, 1762: 1202, 1763: 101, 1764: 156, 1765: 186, 1767: 1076, 1770: 5389, 1773: 3118, 1774: 2933, 1776: 1949, 1777: 2746, 1778: 1299, 1779: 148, 1781: 2900, 1786: 984, 1787: 3305, 1788: 106, 1789: 901, 1790: 1393, 1791: 3774, 1793: 2807, 1794: 2850, 1797: 1378, 1799: 130, 1800: 1831, 1802: 1259, 1805: 4094, 1806: 7122, 1807: 396, 1810: 207, 1812: 3992, 1814: 4829, 1822: 4066, 1825: 741, 1826: 1858, 1827: 3024, 1828: 4033, 1832: 481, 1834: 1231, 1835: 673, 1837: 1254, 1839: 859, 1840: 534, 1841: 4795, 1842: 2340, 1844: 3265, 1845: 5164, 1847: 930, 1851: 562, 1853: 581, 1854: 2442, 1857: 3247, 1859: 7565, 1862: 3185, 1864: 1854, 1866: 380, 1869: 1160, 1870: 192, 1871: 1320, 1872: 1610, 1873: 256, 1874: 1044, 1875: 602, 1878: 505, 1879: 405, 1880: 212, 1881: 7269, 1884: 2596, 1887: 191, 1890: 3481, 1893: 1211, 1894: 168, 1896: 654, 1897: 3345, 1902: 3159, 1905: 1157, 1908: 299, 1909: 1998, 1910: 2032, 1911: 681, 1912: 907, 1913: 36, 1914: 4898, 1915: 1129, 1916: 425, 1919: 47, 1920: 423, 1921: 8384, 1923: 941, 1924: 561, 1925: 2477, 1926: 1011, 1927: 974, 1928: 65, 1930: 6277, 1931: 154, 1933: 941, 1934: 1335, 1935: 73, 1937: 2592, 1938: 5846, 1939: 989, 1940: 261, 1941: 334, 1942: 5735, 1943: 2446, 1944: 3898, 1946: 855, 1947: 43, 1948: 1592, 1949: 341, 1950: 11194, 1955: 2219, 1957: 1655, 1960: 205, 1962: 2271, 1963: 1724, 1965: 4894, 1966: 1488, 1967: 3532, 1968: 3889, 1969: 4798, 1970: 4856, 1971: 2736, 1973: 9737, 1974: 2754, 1975: 2525, 1979: 3127, 1980: 4945, 1985: 155, 1986: 668, 1988: 1596, 1990: 3404, 1991: 23, 1994: 238, 1997: 3262, 1998: 8945, 2003: 967, 2004: 221, 2006: 7667, 2007: 4132, 2009: 3115, 2011: 5993, 2014: 235, 2015: 1048, 2017: 1933, 2018: 1643, 2019: 956, 2020: 742, 2021: 451, 2023: 2905, 2024: 621, 2025: 500, 2027: 724, 2028: 82, 2029: 2458, 2030: 6548, 2032: 1799, 2037: 1525, 2038: 209, 2039: 1623, 2041: 1717, 2042: 2989, 2047: 2808, 2049: 964, 2052: 1650, 2053: 1770, 2061: 2519, 2062: 2675, 2063: 647, 2064: 1687, 2065: 4043, 2067: 3950, 2070: 2878, 2075: 2802, 2076: 1974, 2077: 882, 2078: 5268, 2080: 1294, 2082: 1064, 2083: 1076, 2084: 2030, 2085: 9645, 2086: 306, 2087: 490, 2088: 4084, 2089: 1189, 2093: 196, 2099: 376, 2100: 1628, 2101: 3289, 2102: 2070, 2103: 4144, 2104: 769, 2106: 509, 2108: 994, 2110: 690, 2112: 1386, 2113: 886, 2114: 2584, 2115: 3166, 2116: 3848, 2117: 2120, 2118: 2091, 2120: 254, 2122: 4082, 2123: 94, 2125: 222, 2126: 2956, 2127: 70, 2129: 1307, 2130: 3438, 2134: 2584, 2136: 967, 2137: 1624, 2138: 73, 2139: 178, 2140: 7030, 2141: 4829, 2142: 863, 2144: 5722, 2147: 2035, 2148: 5033, 2151: 518, 2152: 2374, 2154: 8395, 2161: 332, 2162: 4158, 2163: 283, 2166: 939, 2167: 1403, 2170: 220, 2171: 943, 2174: 4648, 2175: 11615, 2176: 6066, 2178: 4141, 2179: 1078, 2180: 1834, 2185: 7914, 2186: 1068, 2187: 2617, 2192: 2531, 2193: 702, 2194: 5876, 2195: 2258, 2196: 2047, 2197: 2749, 2198: 480, 2201: 881, 2202: 1546, 2204: 3100, 2207: 1166, 2208: 2110, 2209: 54, 2210: 4096, 2215: 3498, 2216: 5455, 2217: 3622, 2218: 1714, 2219: 5269, 2221: 1854, 2222: 2528, 2224: 2895, 2226: 1399, 2230: 1459, 2233: 1313, 2234: 2053, 2235: 231, 2236: 1992, 2237: 1220, 2238: 846, 2241: 4241, 2244: 728, 2245: 726, 2246: 5095, 2250: 1435, 2251: 664, 2257: 5720, 2268: 964, 2273: 5712, 2274: 2974, 2275: 1818, 2279: 3015, 2282: 1159, 2284: 792, 2286: 2637, 2287: 1449, 2288: 927, 2289: 2735, 2296: 2443, 2299: 1200, 2303: 5720, 2304: 393, 2308: 6021, 2310: 3136, 2313: 591, 2314: 1993, 2315: 3371, 2316: 1237, 2319: 15, 2321: 4147, 2322: 549, 2323: 843, 2326: 2684, 2328: 2553, 2329: 111, 2330: 448, 2331: 118, 2332: 439, 2333: 841, 2335: 706, 2338: 2163, 2339: 985, 2340: 305, 2341: 2329, 2343: 1096, 2345: 1581, 2346: 607, 2348: 2524, 2349: 2110, 2357: 4987, 2358: 4738, 2360: 343, 2362: 4306, 2363: 960, 2369: 4445, 2371: 1697, 2372: 228, 2376: 1675, 2377: 4404, 2380: 2845, 2381: 140, 2382: 6104, 2383: 763, 2384: 772, 2386: 3283, 2388: 4240, 2389: 320, 2391: 780, 2392: 1329, 2393: 4788, 2395: 2924, 2396: 2352, 2397: 3533, 2398: 830, 2400: 5210, 2402: 3228, 2403: 4060, 2405: 1309, 2406: 1454, 2408: 1775, 2411: 3212, 2414: 1535, 2416: 1736, 2417: 2098, 2418: 2888, 2421: 18, 2422: 2826, 2425: 5634, 2427: 781, 2428: 3449, 2429: 104, 2431: 1499, 2433: 1748, 2439: 2124, 2440: 1266, 2441: 396, 2443: 1020, 2444: 2297, 2447: 3052, 2448: 479, 2452: 182, 2457: 3830}\n",
      "{12: 1, 25: 1, 39: 1, 290: 0, 303: 1, 305: 1, 307: 2, 308: 1, 309: 2, 316: 5, 324: 2, 330: 1, 332: 2, 334: 3, 336: 1, 339: 2, 340: 2, 344: 2, 358: 1, 359: 4, 569: 1, 572: 2, 573: 1, 579: 1, 580: 1, 586: 1, 590: 2, 593: 1, 594: 1, 595: 2, 597: 2, 599: 2, 600: 1, 612: 2, 615: 3, 620: 2, 621: 1, 624: 1, 627: 1, 628: 2, 630: 1, 632: 2, 633: 1, 634: 2, 639: 1, 640: 4, 642: 2, 643: 2, 649: 1, 651: 2, 653: 2, 655: 1, 656: 1, 657: 1, 659: 4, 661: 2, 662: 1, 663: 1, 664: 1, 665: 2, 666: 2, 670: 1, 673: 2, 674: 1, 675: 2, 676: 2, 677: 1, 678: 1, 679: 2, 680: 1, 681: 1, 682: 1, 683: 1, 689: 1, 690: 1, 691: 2, 694: 3, 698: 2, 700: 2, 701: 1, 704: 2, 705: 2, 706: 2, 708: 2, 709: 3, 710: 3, 711: 3, 713: 2, 717: 1, 728: 2, 734: 1, 736: 2, 737: 1, 738: 1, 740: 1, 742: 2, 746: 1, 748: 2, 751: 1, 752: 1, 764: 1, 765: 1, 766: 2, 771: 3, 772: 1, 775: 1, 777: 2, 779: 1, 780: 2, 782: 1, 783: 2, 784: 2, 785: 3, 786: 1, 787: 1, 788: 1, 789: 1, 791: 1, 794: 1, 795: 1, 798: 2, 799: 2, 800: 1, 801: 1, 802: 1, 803: 1, 808: 2, 809: 1, 824: 2, 825: 2, 840: 2, 841: 1, 842: 2, 843: 3, 844: 1, 846: 2, 848: 1, 849: 1, 851: 2, 852: 3, 854: 1, 856: 2, 857: 1, 859: 2, 863: 3, 864: 2, 868: 2, 869: 3, 872: 2, 874: 2, 875: 2, 876: 3, 877: 1, 878: 1, 880: 1, 881: 1, 885: 1, 887: 1, 888: 2, 890: 2, 892: 3, 894: 1, 896: 1, 897: 1, 898: 1, 899: 1, 900: 1, 901: 1, 902: 1, 903: 2, 904: 1, 905: 2, 909: 2, 910: 2, 911: 1, 914: 1, 915: 2, 921: 1, 922: 1, 924: 1, 925: 2, 928: 1, 929: 1, 930: 2, 931: 2, 933: 0, 951: 2, 953: 1, 954: 2, 956: 1, 957: 1, 958: 1, 960: 2, 966: 2, 967: 3, 969: 1, 974: 2, 980: 2, 981: 1, 983: 2, 984: 2, 986: 1, 988: 2, 991: 2, 993: 2, 994: 1, 1000: 2, 1002: 2, 1004: 1, 1005: 1, 1006: 1, 1008: 1, 1009: 1, 1010: 1, 1011: 1, 1012: 1, 1013: 1, 1014: 1, 1016: 2, 1017: 2, 1018: 3, 1019: 1, 1020: 2, 1021: 2, 1022: 2, 1023: 1, 1027: 1, 1028: 1, 1029: 2, 1030: 2, 1032: 1, 1036: 2, 1038: 1, 1043: 2, 1046: 1, 1049: 1, 1051: 2, 1055: 2, 1057: 2, 1058: 2, 1063: 3, 1064: 1, 1069: 3, 1070: 3, 1072: 3, 1074: 5, 1078: 1, 1081: 2, 1082: 2, 1087: 3, 1088: 3, 1091: 2, 1092: 2, 1093: 2, 1094: 2, 1096: 2, 1097: 3, 1098: 3, 1110: 3, 1111: 3, 1112: 3, 1129: 1, 1130: 1, 1132: 1, 1134: 1, 1135: 2, 1136: 3, 1140: 2, 1141: 2, 1143: 1, 1144: 1, 1146: 2, 1148: 1, 1152: 2, 1154: 1, 1155: 2, 1158: 2, 1160: 1, 1162: 1, 1164: 2, 1166: 4, 1167: 2, 1168: 1, 1169: 1, 1170: 1, 1171: 1, 1174: 1, 1175: 1, 1176: 2, 1177: 2, 1178: 1, 1181: 1, 1182: 1, 1183: 4, 1184: 2, 1187: 1, 1192: 2, 1193: 1, 1194: 1, 1196: 1, 1197: 1, 1198: 1, 1200: 2, 1201: 3, 1202: 1, 1203: 2, 1206: 2, 1207: 2, 1208: 2, 1209: 1, 1210: 2, 1212: 1, 1213: 1, 1214: 1, 1216: 1, 1217: 1, 1223: 2, 1227: 3, 1234: 2, 1235: 3, 1239: 1, 1241: 2, 1242: 3, 1247: 2, 1252: 1, 1254: 1, 1256: 2, 1259: 1, 1260: 3, 1261: 1, 1264: 1, 1267: 2, 1270: 2, 1271: 2, 1273: 1, 1274: 2, 1279: 2, 1285: 2, 1286: 3, 1288: 1, 1291: 3, 1293: 2, 1298: 2, 1300: 1, 1301: 1, 1303: 2, 1304: 1, 1305: 1, 1306: 1, 1307: 3, 1309: 1, 1313: 2, 1315: 1, 1316: 2, 1317: 1, 1322: 2, 1324: 2, 1325: 2, 1327: 1, 1331: 2, 1332: 1, 1333: 1, 1334: 1, 1335: 2, 1336: 3, 1338: 4, 1344: 1, 1346: 1, 1347: 1, 1348: 1, 1349: 3, 1354: 1, 1356: 1, 1358: 1, 1359: 2, 1360: 1, 1361: 1, 1362: 2, 1363: 2, 1365: 1, 1366: 1, 1367: 1, 1368: 2, 1369: 1, 1370: 1, 1371: 1, 1372: 1, 1373: 1, 1374: 1, 1376: 1, 1380: 1, 1383: 1, 1384: 3, 1386: 1, 1387: 1, 1389: 1, 1391: 2, 1392: 1, 1394: 1, 1395: 2, 1397: 1, 1400: 2, 1404: 0, 1408: 1, 1409: 1, 1412: 1, 1416: 1, 1417: 1, 1418: 2, 1419: 2, 1422: 1, 1423: 1, 1425: 2, 1428: 1, 1433: 1, 1435: 3, 1436: 1, 1437: 1, 1438: 1, 1439: 1, 1440: 2, 1441: 2, 1442: 1, 1445: 3, 1446: 1, 1448: 1, 1449: 2, 1451: 3, 1453: 1, 1456: 1, 1460: 1, 1461: 2, 1466: 1, 1478: 1, 1482: 2, 1484: 2, 1485: 2, 1486: 1, 1488: 2, 1490: 1, 1491: 1, 1494: 3, 1495: 3, 1496: 1, 1497: 1, 1499: 1, 1500: 4, 1501: 2, 1504: 1, 1505: 1, 1506: 1, 1507: 2, 1508: 4, 1509: 2, 1513: 2, 1514: 3, 1519: 1, 1520: 1, 1523: 1, 1525: 1, 1526: 1, 1527: 1, 1528: 1, 1529: 2, 1530: 2, 1536: 1, 1537: 1, 1538: 1, 1540: 1, 1541: 1, 1542: 1, 1543: 2, 1544: 1, 1545: 2, 1546: 3, 1547: 1, 1548: 2, 1549: 1, 1550: 1, 1551: 1, 1552: 2, 1553: 2, 1556: 2, 1557: 2, 1558: 3, 1559: 1, 1560: 3, 1563: 2, 1564: 1, 1565: 1, 1566: 2, 1567: 2, 1568: 2, 1569: 1, 1570: 1, 1571: 1, 1573: 2, 1575: 1, 1576: 2, 1577: 2, 1578: 1, 1579: 1, 1580: 1, 1581: 2, 1583: 3, 1585: 2, 1586: 2, 1587: 2, 1588: 2, 1589: 2, 1592: 3, 1593: 2, 1594: 2, 1595: 2, 1596: 3, 1597: 3, 1599: 2, 1600: 2, 1601: 1, 1602: 1, 1603: 1, 1604: 2, 1605: 2, 1606: 2, 1607: 1, 1608: 1, 1612: 1, 1613: 2, 1614: 2, 1615: 2, 1616: 3, 1617: 2, 1620: 4, 1623: 2, 1624: 2, 1625: 2, 1627: 1, 1628: 1, 1629: 1, 1633: 1, 1634: 1, 1635: 2, 1637: 2, 1638: 2, 1639: 1, 1640: 2, 1642: 2, 1643: 2, 1644: 1, 1645: 2, 1647: 2, 1649: 2, 1650: 1, 1652: 2, 1653: 2, 1654: 2, 1655: 1, 1656: 2, 1657: 2, 1658: 2, 1659: 3, 1660: 2, 1661: 2, 1662: 2, 1663: 2, 1664: 2, 1669: 1, 1676: 2, 1677: 2, 1679: 2, 1680: 1, 1683: 3, 1684: 2, 1685: 1, 1686: 2, 1687: 1, 1688: 1, 1689: 1, 1690: 1, 1691: 1, 1692: 2, 1694: 1, 1695: 1, 1696: 1, 1697: 1, 1698: 1, 1700: 3, 1701: 2, 1702: 2, 1710: 1, 1711: 1, 1714: 2, 1715: 2, 1716: 2, 1717: 1, 1718: 1, 1719: 2, 1722: 1, 1723: 2, 1724: 2, 1726: 2, 1727: 1, 1728: 1, 1729: 2, 1730: 3, 1732: 1, 1734: 1, 1735: 1, 1737: 1, 1738: 1, 1740: 2, 1742: 1, 1743: 1, 1746: 2, 1747: 1, 1748: 2, 1749: 2, 1750: 2, 1751: 3, 1752: 1, 1754: 2, 1755: 2, 1756: 4, 1758: 2, 1759: 1, 1760: 3, 1761: 2, 1762: 2, 1763: 2, 1764: 2, 1765: 1, 1767: 2, 1770: 1, 1773: 1, 1774: 1, 1776: 1, 1777: 1, 1778: 1, 1779: 1, 1781: 1, 1786: 2, 1787: 1, 1788: 1, 1789: 1, 1790: 2, 1791: 2, 1793: 1, 1794: 1, 1797: 1, 1799: 1, 1800: 2, 1802: 1, 1805: 1, 1806: 2, 1807: 1, 1810: 1, 1812: 1, 1814: 2, 1822: 2, 1825: 2, 1826: 1, 1827: 1, 1828: 2, 1832: 1, 1834: 1, 1835: 1, 1837: 1, 1839: 1, 1840: 2, 1841: 2, 1842: 2, 1844: 1, 1845: 2, 1847: 2, 1851: 1, 1853: 3, 1854: 2, 1857: 2, 1859: 3, 1862: 1, 1864: 2, 1866: 2, 1869: 2, 1870: 1, 1871: 2, 1872: 2, 1873: 2, 1874: 1, 1875: 2, 1878: 3, 1879: 2, 1880: 1, 1881: 2, 1884: 2, 1887: 1, 1890: 2, 1893: 2, 1894: 2, 1896: 1, 1897: 2, 1902: 3, 1905: 1, 1908: 1, 1909: 2, 1910: 3, 1911: 1, 1912: 1, 1913: 1, 1914: 2, 1915: 1, 1916: 1, 1919: 2, 1920: 1, 1921: 1, 1923: 2, 1924: 2, 1925: 2, 1926: 1, 1927: 2, 1928: 1, 1930: 1, 1931: 2, 1933: 1, 1934: 2, 1935: 1, 1937: 2, 1938: 2, 1939: 1, 1940: 2, 1941: 1, 1942: 1, 1943: 2, 1944: 3, 1946: 2, 1947: 1, 1948: 2, 1949: 2, 1950: 4, 1955: 2, 1957: 2, 1960: 2, 1962: 2, 1963: 2, 1965: 1, 1966: 1, 1967: 1, 1968: 1, 1969: 1, 1970: 1, 1971: 1, 1973: 2, 1974: 1, 1975: 2, 1979: 2, 1980: 1, 1985: 1, 1986: 1, 1988: 2, 1990: 1, 1991: 1, 1994: 1, 1997: 2, 1998: 2, 2003: 2, 2004: 2, 2006: 3, 2007: 1, 2009: 2, 2011: 4, 2014: 2, 2015: 3, 2017: 2, 2018: 1, 2019: 2, 2020: 2, 2021: 2, 2023: 1, 2024: 2, 2025: 2, 2027: 2, 2028: 1, 2029: 2, 2030: 2, 2032: 1, 2037: 2, 2038: 2, 2039: 1, 2041: 1, 2042: 2, 2047: 2, 2049: 2, 2052: 3, 2053: 3, 2061: 4, 2062: 2, 2063: 2, 2064: 2, 2065: 2, 2067: 3, 2070: 3, 2075: 2, 2076: 2, 2077: 2, 2078: 2, 2080: 3, 2082: 1, 2083: 3, 2084: 2, 2085: 1, 2086: 1, 2087: 1, 2088: 1, 2089: 1, 2093: 1, 2099: 2, 2100: 2, 2101: 1, 2102: 2, 2103: 2, 2104: 3, 2106: 1, 2108: 2, 2110: 2, 2112: 2, 2113: 2, 2114: 2, 2115: 1, 2116: 2, 2117: 2, 2118: 2, 2120: 2, 2122: 1, 2123: 2, 2125: 2, 2126: 2, 2127: 2, 2129: 2, 2130: 1, 2134: 2, 2136: 1, 2137: 2, 2138: 2, 2139: 4, 2140: 2, 2141: 1, 2142: 4, 2144: 1, 2147: 1, 2148: 3, 2151: 2, 2152: 3, 2154: 2, 2161: 2, 2162: 1, 2163: 1, 2166: 1, 2167: 2, 2170: 1, 2171: 1, 2174: 1, 2175: 2, 2176: 3, 2178: 1, 2179: 1, 2180: 1, 2185: 1, 2186: 1, 2187: 3, 2192: 1, 2193: 1, 2194: 1, 2195: 1, 2196: 1, 2197: 2, 2198: 2, 2201: 2, 2202: 2, 2204: 2, 2207: 2, 2208: 2, 2209: 2, 2210: 3, 2215: 4, 2216: 2, 2217: 2, 2218: 2, 2219: 2, 2221: 1, 2222: 2, 2224: 1, 2226: 1, 2230: 2, 2233: 2, 2234: 1, 2235: 1, 2236: 2, 2237: 3, 2238: 3, 2241: 2, 2244: 3, 2245: 2, 2246: 1, 2250: 2, 2251: 2, 2257: 2, 2268: 3, 2273: 2, 2274: 2, 2275: 1, 2279: 1, 2282: 2, 2284: 2, 2286: 2, 2287: 3, 2288: 3, 2289: 1, 2296: 2, 2299: 1, 2303: 1, 2304: 2, 2308: 1, 2310: 2, 2313: 2, 2314: 2, 2315: 1, 2316: 3, 2319: 2, 2321: 1, 2322: 3, 2323: 2, 2326: 1, 2328: 1, 2329: 2, 2330: 2, 2331: 1, 2332: 1, 2333: 2, 2335: 2, 2338: 4, 2339: 2, 2340: 2, 2341: 1, 2343: 1, 2345: 2, 2346: 2, 2348: 2, 2349: 3, 2357: 3, 2358: 1, 2360: 3, 2362: 1, 2363: 2, 2369: 2, 2371: 2, 2372: 2, 2376: 3, 2377: 2, 2380: 3, 2381: 2, 2382: 1, 2383: 2, 2384: 1, 2386: 2, 2388: 1, 2389: 2, 2391: 2, 2392: 1, 2393: 2, 2395: 1, 2396: 1, 2397: 2, 2398: 2, 2400: 3, 2402: 2, 2403: 3, 2405: 2, 2406: 2, 2408: 2, 2411: 1, 2414: 1, 2416: 2, 2417: 1, 2418: 1, 2421: 2, 2422: 2, 2425: 1, 2427: 1, 2428: 2, 2429: 1, 2431: 3, 2433: 2, 2439: 1, 2440: 2, 2441: 2, 2443: 1, 2444: 4, 2447: 2, 2448: 2, 2452: 0, 2457: 1}\n"
     ]
    }
   ]
  },
  {
   "cell_type": "code",
   "source": [
    "stemmed_text_word_counts = doc_text_pairs.flatMap(lambda x: stemmed_word_count(x[0], x[1]))\n",
    "stemmed_title_word_counts = doc_text_pairs.flatMap(lambda x: stemmed_word_count(x[0], x[1]))\n",
    "\n",
    "new_pairs = doc_anchor_pairs.flatMap(lambda pair: [(p[1], p[0]) for p in pair[0]])\n",
    "stemmed_anchor_word_counts = new_pairs.flatMap(lambda x: stemmed_word_count(x[0], x[1]))"
   ],
   "metadata": {
    "id": "Wfniih4n6ZC_"
   },
   "execution_count": 19,
   "outputs": []
  },
  {
   "cell_type": "code",
   "execution_count": 20,
   "metadata": {
    "id": "RLqHPKUvbT8R"
   },
   "outputs": [],
   "source": [
    "# test for word count\n",
    "text = \"This is a test to check the words count function actually count words\"\n",
    "id = 0\n",
    "word_count_results = word_count(text, id)\n",
    "assert word_count_results[0][0] == 'test'\n",
    "assert len(word_count_results) == 6\n",
    "assert word_count_results[2][1][1] == word_count_results[2][1][1]\n",
    "assert type(word_count_results[0][0]) == str\n",
    "assert type(word_count_results[0][1]) == tuple\n"
   ]
  },
  {
   "cell_type": "code",
   "source": [
    "stemmed_word_count_res = stemmed_word_count(text, id)\n",
    "print(\"stemmed:\", stemmed_word_count_res)\n",
    "print(\"not stemmed:\", word_count_results)\n",
    "# assert stemmed_word_count_res[0][0] == 'test'\n",
    "# assert len(stemmed_word_count_res)"
   ],
   "metadata": {
    "colab": {
     "base_uri": "https://localhost:8080/"
    },
    "id": "ERSmRF026kLg",
    "outputId": "8c8cf92d-4bc8-4952-bda9-d872ccb230f1"
   },
   "execution_count": 21,
   "outputs": [
    {
     "output_type": "stream",
     "name": "stdout",
     "text": [
      "stemmed: [('test', (0, 1)), ('check', (0, 1)), ('word', (0, 2)), ('count', (0, 2)), ('function', (0, 1)), ('actual', (0, 1))]\n",
      "not stemmed: [('test', (0, 1)), ('check', (0, 1)), ('words', (0, 2)), ('count', (0, 2)), ('function', (0, 1)), ('actually', (0, 1))]\n"
     ]
    }
   ]
  },
  {
   "cell_type": "markdown",
   "metadata": {
    "id": "MNC7QlO8KZL_"
   },
   "source": [
    "PySpark has a `map` trasformation that, just like we learned in class about Map in MapReduce, executes a given function on each element of an  RDD. It also has a `flatMap()` transformation that executes a given function on each element of an RDD, but afterwards flattens the results to create one big \"list\" instead multiple nested lists. For example, `flatMap` on the above `word_count` function will concatenate the tokens from multiple document into one big list rather than keeping separate list of tokens for each document like a regular `map` would produce."
   ]
  },
  {
   "cell_type": "code",
   "execution_count": null,
   "metadata": {
    "id": "g3DUXXzxsy-B"
   },
   "outputs": [],
   "source": [
    "#word_counts = doc_text_pairs.flatMap(lambda x: word_count(x[0], x[1]))"
   ]
  },
  {
   "cell_type": "markdown",
   "metadata": {
    "id": "cwC3pX1ss1en"
   },
   "source": [
    "After `flatMap` is executed, the counts for a given token are likely to be scattered accross multiple machines/workers in the cluster. In order to create the posting lists for each token, we need a reduce operation that collects them into one list and sorts them by the document id (wiki_id).\n",
    "\n",
    "Spark has several ways of reducing or aggergating values, but we will use `groupByKey`, which like Reduce in MapReduce, collects all the values for a given key into an iterable list of the values associated with that key. The result of `groupByKey` is an RDD with (key, value*s*) pairs. Then, we can call `map` to execute a function on each pair in that RDD or call `mapValues` to execute a function only on the values iterable.\n",
    "\n",
    "**YOUR TASK (5 POINTS):** Complete the implementation of `reduce_word_counts`, which operates on the pairs returned by `word_count`. The functions gets a list of values (unsorted posting list) and sorts it."
   ]
  },
  {
   "cell_type": "code",
   "execution_count": 22,
   "metadata": {
    "id": "1yFhHQBZHIBb"
   },
   "outputs": [],
   "source": [
    "def reduce_word_counts(unsorted_pl):\n",
    "  ''' Returns a sorted posting list by wiki_id.\n",
    "  Parameters:\n",
    "  -----------\n",
    "    unsorted_pl: list of tuples\n",
    "      A list of (wiki_id, tf) tuples\n",
    "  Returns:\n",
    "  --------\n",
    "    list of tuples\n",
    "      A sorted posting list.\n",
    "  '''\n",
    "  # YOUR CODE HERE\n",
    "  # sorted_pl = sorted(unsorted_pl, key=lambda x: x[0])\n",
    "  return sorted(unsorted_pl, key=lambda x: x[0])\n",
    "  # raise NotImplementedError()"
   ]
  },
  {
   "cell_type": "code",
   "execution_count": null,
   "metadata": {
    "id": "-VWkWnUO_QKd"
   },
   "outputs": [],
   "source": [
    "#postings = word_counts.groupByKey().mapValues(reduce_word_counts)"
   ]
  },
  {
   "cell_type": "markdown",
   "source": [
    "# postings for text, title and anchor"
   ],
   "metadata": {
    "id": "rN7RNhstl4FV"
   }
  },
  {
   "cell_type": "code",
   "source": [
    "text_postings = stemmed_text_word_counts.groupByKey().mapValues(reduce_word_counts)\n",
    "title_postings = stemmed_title_word_counts.groupByKey().mapValues(reduce_word_counts)\n",
    "anchor_postings = stemmed_anchor_word_counts.groupByKey().mapValues(reduce_word_counts)\n",
    "\n",
    "def new_count(posting):\n",
    "    counts = Counter(p[0] for p in posting)\n",
    "    return list(counts.items())\n",
    "\n",
    "# Apply the group function to the values of each key in posting_anchor\n",
    "anchor_postings = anchor_postings.map(lambda x: (x[0], new_count(x[1])))"
   ],
   "metadata": {
    "id": "9k8r9NZPl-dM"
   },
   "execution_count": 23,
   "outputs": []
  },
  {
   "cell_type": "code",
   "execution_count": null,
   "metadata": {
    "id": "6zbBgNIM46OX"
   },
   "outputs": [],
   "source": [
    "# DO NOT RUN !!!!!!!\n",
    "\n",
    "## test reduce_word_count\n",
    "token, posting_list = postings.take(1)[0]\n",
    "assert type(token) == str\n",
    "assert type(posting_list) == list\n",
    "doc_id, tf = zip(*posting_list)\n",
    "assert type(doc_id[0]) == int\n",
    "assert type(tf[0]) == int\n",
    "assert np.diff(doc_id).min() > 0\n",
    "assert np.min(tf) > 0\n",
    "assert postings.count() == 153014"
   ]
  },
  {
   "cell_type": "markdown",
   "metadata": {
    "id": "3LiIJMOjWnsB"
   },
   "source": [
    "### Document frequency and filteration"
   ]
  },
  {
   "cell_type": "markdown",
   "metadata": {
    "id": "zrWoS-kHvhmM"
   },
   "source": [
    "Next, we will filter out rare words, words that appear in 10 or fewer documents (when working on the entire corpus, we will increase this threshold to a minimum of 50 documents)."
   ]
  },
  {
   "cell_type": "code",
   "execution_count": null,
   "metadata": {
    "id": "EnrhMaR0digd"
   },
   "outputs": [],
   "source": [
    "# DO NOT RUN !!!!!!!\n",
    "postings_filtered = postings.filter(lambda x: len(x[1])>10)"
   ]
  },
  {
   "cell_type": "markdown",
   "source": [
    "# filter postings"
   ],
   "metadata": {
    "id": "XxL9Eu5Snc4E"
   }
  },
  {
   "cell_type": "code",
   "source": [
    "text_postings_filtered = text_postings.filter(lambda x: len(x[1])>10)\n",
    "title_postings_filtered = title_postings.filter(lambda x: len(x[1])>10)\n",
    "anchor_postings_filtered = anchor_postings.filter(lambda x: len(x[1])>10)"
   ],
   "metadata": {
    "id": "Yem05Ahunf1h"
   },
   "execution_count": 24,
   "outputs": []
  },
  {
   "cell_type": "markdown",
   "metadata": {
    "id": "-bclZ2cmFRjq"
   },
   "source": [
    "Now, we would like to calculate the df for each word.\n",
    "\n",
    "**YOUR TASK (5 POINTS):** Complete the implementation of `calculate_df` that takes a posting list RDD and returns an RDD where each element is a (token, df) pair."
   ]
  },
  {
   "cell_type": "code",
   "source": [],
   "metadata": {
    "id": "Sw3DERUqyVCo"
   },
   "execution_count": null,
   "outputs": []
  },
  {
   "cell_type": "code",
   "execution_count": 25,
   "metadata": {
    "id": "J_-UoG2CGj4o"
   },
   "outputs": [],
   "source": [
    "def calculate_df(postings):\n",
    "  ''' Takes a posting list RDD and calculate the df for each token.\n",
    "  Parameters:\n",
    "  -----------\n",
    "    postings: RDD\n",
    "      An RDD where each element is a (token, posting_list) pair.\n",
    "  Returns:\n",
    "  --------\n",
    "    RDD\n",
    "      An RDD where each element is a (token, df) pair.\n",
    "  '''\n",
    "  # YOUR CODE HERE\n",
    "  res_rdd = postings.map(lambda x: (x[0], len(x[1])))\n",
    "  return res_rdd\n",
    "  # raise NotImplementedError()"
   ]
  },
  {
   "cell_type": "code",
   "execution_count": null,
   "metadata": {
    "id": "ddVcByPLCaP_"
   },
   "outputs": [],
   "source": [
    "# DO NOT RUN !!!!!!!\n",
    "\n",
    "# global statistics\n",
    "w2df = calculate_df(postings_filtered)\n",
    "\n",
    "# test calculate_df types\n",
    "token, df = w2df.take(1)[0]\n",
    "assert type(token) == str\n",
    "assert type(df) == int\n",
    "# test min/max df values\n",
    "# collectAsMap collects the results to the master node's memory as a dictionary.\n",
    "# we know it's not so big so this is okay.\n",
    "w2df_dict = w2df.collectAsMap()\n",
    "assert np.min(list(w2df_dict.values())) == 11\n",
    "assert np.max(list(w2df_dict.values())) == 819\n",
    "# test select words\n",
    "assert w2df_dict['first'] == 805\n",
    "assert w2df_dict['many'] == 670\n",
    "assert w2df_dict['used'] == 648"
   ]
  },
  {
   "cell_type": "markdown",
   "source": [
    "# w2df"
   ],
   "metadata": {
    "id": "86IONikln40F"
   }
  },
  {
   "cell_type": "code",
   "source": [
    "text_w2df = calculate_df(text_postings_filtered)\n",
    "title_w2df = calculate_df(title_postings_filtered)\n",
    "anchor_w2df = calculate_df(anchor_postings_filtered)\n",
    "\n",
    "text_w2df_dict = text_w2df.collectAsMap()\n",
    "title_w2df_dict = title_w2df.collectAsMap()\n",
    "anchor_w2df_dict = anchor_w2df.collectAsMap()"
   ],
   "metadata": {
    "id": "tHh3rOf0n8HV"
   },
   "execution_count": 26,
   "outputs": []
  },
  {
   "cell_type": "markdown",
   "metadata": {
    "id": "5z1wMOiFTyGJ"
   },
   "source": [
    "## Partitioning and writing the index"
   ]
  },
  {
   "cell_type": "markdown",
   "metadata": {
    "id": "q3a2sC0WytzO"
   },
   "source": [
    "Now that we have the postings information we need to write it to disk. We would like to partition the tokens and posting lists into buckets so when we get a query, we know exactly in which bucket to look for its posting list. This can also help parallelize retrieval from the index if we have multiple machines answering queries.\n",
    "\n",
    "Here, you are asked to do this partitioning/bucketing through another round of map and reduce operations, where the last step should be to write out each bucket into a separate inverted index on disk. Use the staff-provided function of  `write_a_posting_list` implemented in inverted_index_colab.py for the InvertedIndex class. Eventually, this partitioning and writing process needs to return information about where each posting list is located (file name and offset) for a token.\n",
    "\n",
    "**YOUR TASK (20 POINTS):** Complete the implementation of `partition_postings_and_write` that partitions the posting list, writes out each bucket, and returns information about the location on disk of each posting list."
   ]
  },
  {
   "cell_type": "code",
   "execution_count": 27,
   "metadata": {
    "id": "MvZDJk0bu9V9"
   },
   "outputs": [],
   "source": [
    "NUM_BUCKETS = 124\n",
    "def token2bucket_id(token):\n",
    "  return int(_hash(token),16) % NUM_BUCKETS\n",
    "\n",
    "def partition_postings_and_write(postings):\n",
    "  ''' A function that partitions the posting lists into buckets, writes out\n",
    "  all posting lists in a bucket to disk, and returns the posting locations for\n",
    "  each bucket. Partitioning should be done through the use of `token2bucket`\n",
    "  above. Writing to disk should use the function  `write_a_posting_list`, a\n",
    "  static method implemented in inverted_index_colab.py under the InvertedIndex\n",
    "  class.\n",
    "  Parameters:\n",
    "  -----------\n",
    "    postings: RDD\n",
    "      An RDD where each item is a (w, posting_list) pair.\n",
    "  Returns:\n",
    "  --------\n",
    "    RDD\n",
    "      An RDD where each item is a posting locations dictionary for a bucket. The\n",
    "      posting locations maintain a list for each word of file locations and\n",
    "      offsets its posting list was written to. See `write_a_posting_list` for\n",
    "      more details.\n",
    "  '''\n",
    "  # YOUR CODE HERE\n",
    "  bucket_rdd = postings.map(lambda x: (token2bucket_id(x[0]), x)).groupByKey()\n",
    "\n",
    "  def write_bucket(b_w_pl):\n",
    "      bucket_id, word_posting_pairs = b_w_pl\n",
    "      return InvertedIndex.write_a_posting_list((bucket_id, list(word_posting_pairs)))\n",
    "\n",
    "  posting_locs_list = bucket_rdd.map(write_bucket)\n",
    "\n",
    "  return posting_locs_list"
   ]
  },
  {
   "cell_type": "markdown",
   "metadata": {
    "id": "fohEJFfR3QiE"
   },
   "source": [
    "The next cell uses the `collect` operator to aggregate the posting location information from the multiple buckets/indices into a single dictionary. We know in this case that the posting locations info is relatively small so this is not going to crash our master node."
   ]
  },
  {
   "cell_type": "code",
   "execution_count": null,
   "metadata": {
    "id": "vxCMgAlRDIac"
   },
   "outputs": [],
   "source": [
    "# DO NOT RUN !!!!!!!\n",
    "\n",
    "# test partitioning for the different buckets (10 points)\n",
    "posting_locs_list = partition_postings_and_write(postings_filtered).collect()\n",
    "assert len(posting_locs_list) == 124\n",
    "assert len(list(Path('.').glob('*.bin'))) == 124\n",
    "pl_lens = [len(pl) for pl in posting_locs_list]\n",
    "assert np.max(pl_lens) == 141\n",
    "assert np.min(pl_lens) == 91\n",
    "assert int(np.median(pl_lens)) == 116"
   ]
  },
  {
   "cell_type": "markdown",
   "source": [
    "# partition posting lists and write out"
   ],
   "metadata": {
    "id": "h5kGyIzxojbN"
   }
  },
  {
   "cell_type": "code",
   "source": [
    "text_posting_locs_list = partition_postings_and_write(text_postings_filtered).collect()"
   ],
   "metadata": {
    "id": "KS2dqUOUotMu"
   },
   "execution_count": 28,
   "outputs": []
  },
  {
   "cell_type": "code",
   "execution_count": null,
   "metadata": {
    "id": "C-h5dgtF-TeL"
   },
   "outputs": [],
   "source": [
    "# DO NOT RUN !!!!!!!\n",
    "\n",
    "# merge the posting locations into a single dict and run more tests (5 points)\n",
    "super_posting_locs = defaultdict(list)\n",
    "for posting_loc in posting_locs_list:\n",
    "  for k, v in posting_loc.items():\n",
    "    super_posting_locs[k].extend(v)\n",
    "\n",
    "assert super_posting_locs['try'][0][0][:3] == '105'\n",
    "assert super_posting_locs['political'][0][0][:2] == '83'\n",
    "assert 'hi' not in super_posting_locs\n",
    "assert len(super_posting_locs) == 14524"
   ]
  },
  {
   "cell_type": "markdown",
   "source": [
    "# text super postings locs"
   ],
   "metadata": {
    "id": "AdfWBuXMrG1x"
   }
  },
  {
   "cell_type": "code",
   "source": [
    "text_super_posting_locs = defaultdict(list)\n",
    "for posting_loc in text_posting_locs_list:\n",
    "  for k, v in posting_loc.items():\n",
    "    text_super_posting_locs[k].extend(v)"
   ],
   "metadata": {
    "id": "RRDawqGZrKkG"
   },
   "execution_count": 29,
   "outputs": []
  },
  {
   "cell_type": "markdown",
   "metadata": {
    "id": "xBpxtFW7HeAT"
   },
   "source": [
    "Putting everything together (posting locations, df) and test that the resulting index is correct."
   ]
  },
  {
   "cell_type": "code",
   "execution_count": null,
   "metadata": {
    "id": "VKrew8cUAyTz",
    "colab": {
     "base_uri": "https://localhost:8080/",
     "height": 211
    },
    "collapsed": true,
    "outputId": "b30911f5-5774-47ac-fe8e-a811d54f759e"
   },
   "outputs": [
    {
     "output_type": "error",
     "ename": "NameError",
     "evalue": "name 'super_posting_locs' is not defined",
     "traceback": [
      "\u001B[0;31m---------------------------------------------------------------------------\u001B[0m",
      "\u001B[0;31mNameError\u001B[0m                                 Traceback (most recent call last)",
      "\u001B[0;32m<ipython-input-26-ad74d72bd074>\u001B[0m in \u001B[0;36m<cell line: 4>\u001B[0;34m()\u001B[0m\n\u001B[1;32m      2\u001B[0m \u001B[0minverted\u001B[0m \u001B[0;34m=\u001B[0m \u001B[0mInvertedIndex\u001B[0m\u001B[0;34m(\u001B[0m\u001B[0;34m)\u001B[0m\u001B[0;34m\u001B[0m\u001B[0;34m\u001B[0m\u001B[0m\n\u001B[1;32m      3\u001B[0m \u001B[0;31m# Adding the posting locations dictionary to the inverted index\u001B[0m\u001B[0;34m\u001B[0m\u001B[0;34m\u001B[0m\u001B[0m\n\u001B[0;32m----> 4\u001B[0;31m \u001B[0minverted\u001B[0m\u001B[0;34m.\u001B[0m\u001B[0mposting_locs\u001B[0m \u001B[0;34m=\u001B[0m \u001B[0msuper_posting_locs\u001B[0m\u001B[0;34m\u001B[0m\u001B[0;34m\u001B[0m\u001B[0m\n\u001B[0m\u001B[1;32m      5\u001B[0m \u001B[0;31m# Add the token - df dictionary to the inverted index\u001B[0m\u001B[0;34m\u001B[0m\u001B[0;34m\u001B[0m\u001B[0m\n\u001B[1;32m      6\u001B[0m \u001B[0minverted\u001B[0m\u001B[0;34m.\u001B[0m\u001B[0mdf\u001B[0m \u001B[0;34m=\u001B[0m \u001B[0mw2df_dict\u001B[0m\u001B[0;34m\u001B[0m\u001B[0;34m\u001B[0m\u001B[0m\n",
      "\u001B[0;31mNameError\u001B[0m: name 'super_posting_locs' is not defined"
     ]
    }
   ],
   "source": [
    "# DO NOT RUN !!!!!!!\n",
    "\n",
    "# Create inverted index instance\n",
    "inverted = InvertedIndex()\n",
    "# Adding the posting locations dictionary to the inverted index\n",
    "inverted.posting_locs = super_posting_locs\n",
    "# Add the token - df dictionary to the inverted index\n",
    "inverted.df = w2df_dict\n",
    "# write the global stats out\n",
    "inverted.write_index('.', 'index')"
   ]
  },
  {
   "cell_type": "markdown",
   "source": [
    "# putting it together for text"
   ],
   "metadata": {
    "id": "_yCG5dC7rvG8"
   }
  },
  {
   "cell_type": "code",
   "source": [
    "# Create inverted index instance\n",
    "text_inverted = InvertedIndex()\n",
    "# Adding the posting locations dictionary to the inverted index\n",
    "text_inverted.posting_locs = text_super_posting_locs\n",
    "# Add the token - df dictionary to the inverted index\n",
    "text_inverted.df = text_w2df_dict\n",
    "# write the global stats out\n",
    "# text_inverted.write_index('.', 'index')\n",
    "text_inverted.write_index('.', 'text')\n",
    "\n",
    "move_bin_files('text_index')"
   ],
   "metadata": {
    "id": "t9rWPDePr9yR"
   },
   "execution_count": 30,
   "outputs": []
  },
  {
   "cell_type": "markdown",
   "source": [
    "# putting it together for title"
   ],
   "metadata": {
    "id": "48ZboGhBv-v-"
   }
  },
  {
   "cell_type": "code",
   "source": [
    "title_posting_locs_list = partition_postings_and_write(title_postings_filtered).collect()\n",
    "\n",
    "title_super_posting_locs = defaultdict(list)\n",
    "for posting_loc in title_posting_locs_list:\n",
    "  for k, v in posting_loc.items():\n",
    "    title_super_posting_locs[k].extend(v)\n",
    "\n",
    "# Create inverted index instance\n",
    "title_inverted = InvertedIndex()\n",
    "# Adding the posting locations dictionary to the inverted index\n",
    "title_inverted.posting_locs = title_super_posting_locs\n",
    "# Add the token - df dictionary to the inverted index\n",
    "title_inverted.df = title_w2df_dict\n",
    "# write the global stats out\n",
    "title_inverted.write_index('.', 'title')\n",
    "\n",
    "move_bin_files('title_index')"
   ],
   "metadata": {
    "id": "smUAy0fLwtyM"
   },
   "execution_count": 31,
   "outputs": []
  },
  {
   "cell_type": "markdown",
   "source": [
    "# putting it together for anchor"
   ],
   "metadata": {
    "id": "TxKPAOU5xZyD"
   }
  },
  {
   "cell_type": "code",
   "source": [
    "anchor_posting_locs_list = partition_postings_and_write(anchor_postings_filtered).collect()\n",
    "\n",
    "anchor_super_posting_locs = defaultdict(list)\n",
    "for posting_loc in anchor_posting_locs_list:\n",
    "  for k, v in posting_loc.items():\n",
    "    anchor_super_posting_locs[k].extend(v)\n",
    "\n",
    "# Create inverted index instance\n",
    "anchor_inverted = InvertedIndex()\n",
    "# Adding the posting locations dictionary to the inverted index\n",
    "anchor_inverted.posting_locs = anchor_super_posting_locs\n",
    "# Add the token - df dictionary to the inverted index\n",
    "anchor_inverted.df = anchor_w2df_dict\n",
    "# write the global stats out\n",
    "anchor_inverted.write_index('.', 'anchor')\n",
    "\n",
    "move_bin_files('anchor_index')"
   ],
   "metadata": {
    "id": "0CYhD9TLxcG6"
   },
   "execution_count": 32,
   "outputs": []
  },
  {
   "cell_type": "code",
   "execution_count": 33,
   "metadata": {
    "id": "j2_qt2IPkxqz"
   },
   "outputs": [],
   "source": [
    "TUPLE_SIZE = 6\n",
    "TF_MASK = 2 ** 16 - 1 # Masking the 16 low bits of an integer\n",
    "from contextlib import closing\n",
    "\n",
    "def read_posting_list(inverted, w):\n",
    "  with closing(MultiFileReader()) as reader:\n",
    "    locs = inverted.posting_locs[w]\n",
    "    b = reader.read(locs, inverted.df[w] * TUPLE_SIZE)\n",
    "    posting_list = []\n",
    "    for i in range(inverted.df[w]):\n",
    "      doc_id = int.from_bytes(b[i*TUPLE_SIZE:i*TUPLE_SIZE+4], 'big')\n",
    "      tf = int.from_bytes(b[i*TUPLE_SIZE+4:(i+1)*TUPLE_SIZE], 'big')\n",
    "      posting_list.append((doc_id, tf))\n",
    "    return posting_list"
   ]
  },
  {
   "cell_type": "code",
   "execution_count": null,
   "metadata": {
    "id": "VF6gfVFSIzM6",
    "colab": {
     "base_uri": "https://localhost:8080/",
     "height": 193
    },
    "collapsed": true,
    "outputId": "7d74f2af-f6e5-4e97-e5dd-4d7dd97efaa7"
   },
   "outputs": [
    {
     "output_type": "error",
     "ename": "NameError",
     "evalue": "name 'inverted' is not defined",
     "traceback": [
      "\u001B[0;31m---------------------------------------------------------------------------\u001B[0m",
      "\u001B[0;31mNameError\u001B[0m                                 Traceback (most recent call last)",
      "\u001B[0;32m<ipython-input-30-c40eac8e743e>\u001B[0m in \u001B[0;36m<cell line: 2>\u001B[0;34m()\u001B[0m\n\u001B[1;32m      1\u001B[0m \u001B[0;31m## test the final index\u001B[0m\u001B[0;34m\u001B[0m\u001B[0;34m\u001B[0m\u001B[0m\n\u001B[0;32m----> 2\u001B[0;31m \u001B[0mpl\u001B[0m \u001B[0;34m=\u001B[0m \u001B[0mread_posting_list\u001B[0m\u001B[0;34m(\u001B[0m\u001B[0minverted\u001B[0m\u001B[0;34m,\u001B[0m \u001B[0;34m'clarity'\u001B[0m\u001B[0;34m)\u001B[0m\u001B[0;34m\u001B[0m\u001B[0;34m\u001B[0m\u001B[0m\n\u001B[0m\u001B[1;32m      3\u001B[0m \u001B[0;32massert\u001B[0m \u001B[0mpl\u001B[0m\u001B[0;34m[\u001B[0m\u001B[0;34m-\u001B[0m\u001B[0;36m3\u001B[0m\u001B[0;34m]\u001B[0m \u001B[0;34m==\u001B[0m \u001B[0;34m(\u001B[0m\u001B[0;36m2204\u001B[0m\u001B[0;34m,\u001B[0m \u001B[0;36m2\u001B[0m\u001B[0;34m)\u001B[0m\u001B[0;34m\u001B[0m\u001B[0;34m\u001B[0m\u001B[0m\n\u001B[1;32m      4\u001B[0m \u001B[0;32massert\u001B[0m \u001B[0mlen\u001B[0m\u001B[0;34m(\u001B[0m\u001B[0mpl\u001B[0m\u001B[0;34m)\u001B[0m \u001B[0;34m==\u001B[0m \u001B[0;36m18\u001B[0m\u001B[0;34m\u001B[0m\u001B[0;34m\u001B[0m\u001B[0m\n",
      "\u001B[0;31mNameError\u001B[0m: name 'inverted' is not defined"
     ]
    }
   ],
   "source": [
    "# DO NOT RUN !!!!!!!\n",
    "\n",
    "## test the final index\n",
    "pl = read_posting_list(inverted, 'clarity')\n",
    "assert pl[-3] == (2204, 2)\n",
    "assert len(pl) == 18"
   ]
  },
  {
   "cell_type": "markdown",
   "metadata": {
    "id": "I2oCcQwP5zS_"
   },
   "source": [
    "## PageRank"
   ]
  },
  {
   "cell_type": "markdown",
   "metadata": {
    "id": "U9gMGQIohFOz"
   },
   "source": [
    "In this section, your task is to compute PageRank for wiki articles using the anchor text we extracted from the MediaWiki markdown. Let's select the 'id' and 'anchor_text' fields into a new RDD:"
   ]
  },
  {
   "cell_type": "code",
   "execution_count": null,
   "metadata": {
    "id": "pUUdHGbCOr3C"
   },
   "outputs": [],
   "source": [
    "pages_links = spark.read.parquet(path).limit(1000).select(\"id\", \"anchor_text\").rdd"
   ]
  },
  {
   "cell_type": "markdown",
   "metadata": {
    "id": "IVhmHraRIHec"
   },
   "source": [
    "**YOUR TASK (20 POINTS):** Complete the implementation of `generate_graph`, which generates the graph of internal wikipedia links (wiki articles pointing to other wiki articles). Use PySpark to compute the vertices (pages) and edges (links) of the graph. Multiple links from page A to page B need to be represented by a single edge (edges are not weighted). You may use the built-in function `distinct` of the RDD object to identify distinct elements, but be mindful of its impact on computation time."
   ]
  },
  {
   "cell_type": "code",
   "execution_count": null,
   "metadata": {
    "id": "YFRogCnlHIGR"
   },
   "outputs": [],
   "source": [
    "def generate_graph(pages):\n",
    "  ''' Compute the directed graph generated by wiki links.\n",
    "  Parameters:\n",
    "  -----------\n",
    "    pages: RDD\n",
    "      An RDD where each row consists of one wikipedia articles with 'id' and\n",
    "      'anchor_text'.\n",
    "  Returns:\n",
    "  --------\n",
    "    edges: RDD\n",
    "      An RDD where each row represents an edge in the directed graph created by\n",
    "      the wikipedia links. The first entry should the source page id and the\n",
    "      second entry is the destination page id. No duplicates should be present.\n",
    "    vertices: RDD\n",
    "      An RDD where each row represents a vetrix (node) in the directed graph\n",
    "      created by the wikipedia links. No duplicates should be present.\n",
    "  '''\n",
    "  # YOUR CODE HERE\n",
    "  # raise NotImplementedError()\n",
    "\n",
    "  # edges = pages.flatMap(lambda x: [(x[0], anchor) for anchor in x[1]])\n",
    "  # edges = edges.mapValues(lambda x: (x[0],))\n",
    "  edges = pages.flatMap(lambda x: [(x[0], anchor[0]) for anchor in x[1]])\n",
    "  edges = edges.distinct()\n",
    "\n",
    "  # vertices = edges.flatMap(lambda x:  [(x[0],), (x[1],)])\n",
    "  # vertices = edges.flatMap(lambda x: [x[0], x[1][0]]).distinct()\n",
    "  vertices = edges.flatMap(lambda x: [x[0], x[1]]).distinct()\n",
    "  vertices = vertices.map(lambda x: Row(id=x))\n",
    "\n",
    "  # vertices = vertices.map(lambda x: Row(id=x))\n",
    "  # vertices = vertices.distinct()\n",
    "\n",
    "\n",
    "\n",
    "\n",
    "  return edges, vertices"
   ]
  },
  {
   "cell_type": "code",
   "execution_count": null,
   "metadata": {
    "id": "ajIiUP8CCY51"
   },
   "outputs": [],
   "source": [
    "# test graph construction efficiency (10 points)\n",
    "t_start = time()\n",
    "# construct the graph for a small sample of (1000) pages\n",
    "edges, vertices = generate_graph(pages_links)\n",
    "# time the actual execution\n",
    "v_cnt, e_cnt = vertices.count(), edges.count()\n",
    "graph_const_time = time() - t_start\n",
    "# test that the implementation is efficient (<20 seconds)\n",
    "assert graph_const_time < 20"
   ]
  },
  {
   "cell_type": "code",
   "execution_count": null,
   "metadata": {
    "id": "tb6ainuknU6z",
    "colab": {
     "base_uri": "https://localhost:8080/"
    },
    "outputId": "2212a5c0-eef8-4cf6-b201-e6b221f4773f"
   },
   "outputs": [
    {
     "output_type": "stream",
     "name": "stdout",
     "text": [
      "114966\n"
     ]
    }
   ],
   "source": [
    "# test that we get the right number of vertices (5 points)\n",
    "print(v_cnt)\n",
    "assert v_cnt == 114966"
   ]
  },
  {
   "cell_type": "code",
   "execution_count": null,
   "metadata": {
    "id": "ruKfLiFXnqcY",
    "colab": {
     "base_uri": "https://localhost:8080/"
    },
    "outputId": "79a0ad1d-00c8-4877-b5e4-77c0df01d741"
   },
   "outputs": [
    {
     "output_type": "stream",
     "name": "stdout",
     "text": [
      "183727\n"
     ]
    }
   ],
   "source": [
    "# test that we get the right number of edges (5 points)\n",
    "print(e_cnt)\n",
    "assert e_cnt == 183727"
   ]
  },
  {
   "cell_type": "markdown",
   "metadata": {
    "id": "yAx3CmIqOcLn"
   },
   "source": [
    "Let's compute PageRank in a distributed fashion (using PySpark's GraphFrame package) and show the top 20 pages."
   ]
  },
  {
   "cell_type": "code",
   "execution_count": null,
   "metadata": {
    "id": "XQl-tJSFNV_g",
    "colab": {
     "base_uri": "https://localhost:8080/"
    },
    "outputId": "f33a079d-663e-45a8-cdac-63a8cca81422"
   },
   "outputs": [
    {
     "output_type": "stream",
     "name": "stderr",
     "text": [
      "/usr/local/lib/python3.10/dist-packages/pyspark/sql/dataframe.py:168: UserWarning: DataFrame.sql_ctx is an internal property, and will be removed in future releases. Use DataFrame.sparkSession instead.\n",
      "  warnings.warn(\n",
      "/usr/local/lib/python3.10/dist-packages/pyspark/sql/dataframe.py:147: UserWarning: DataFrame constructor is internal. Do not directly use it.\n",
      "  warnings.warn(\"DataFrame constructor is internal. Do not directly use it.\")\n"
     ]
    },
    {
     "output_type": "stream",
     "name": "stdout",
     "text": [
      "+--------+------------------+\n",
      "|      id|          pagerank|\n",
      "+--------+------------------+\n",
      "|  606848|1.9768910954777374|\n",
      "|43432956|1.7183234055660317|\n",
      "|37404646| 1.561180019985396|\n",
      "|  148363| 1.531189053212204|\n",
      "|     308| 1.523973241896932|\n",
      "|     783|1.5205983727677175|\n",
      "|   39235|1.5113438223085562|\n",
      "|   30680| 1.506487061855029|\n",
      "| 3434750|1.5042432651671351|\n",
      "|   48518|1.5032093881505733|\n",
      "| 5843419| 1.475564533072746|\n",
      "|   25458|1.4651925575346503|\n",
      "|     854| 1.433614708798739|\n",
      "|   14532|1.4318560075868727|\n",
      "|   11887| 1.422942493084949|\n",
      "|   32927|1.4195131540605397|\n",
      "| 8034453| 1.414325748041313|\n",
      "|    1686|1.4005429901986137|\n",
      "|   25507|1.3695924013144563|\n",
      "|   61371|1.3682656561066355|\n",
      "+--------+------------------+\n",
      "only showing top 20 rows\n",
      "\n"
     ]
    }
   ],
   "source": [
    "edgesDF = edges.toDF(['src', 'dst']).repartition(4, 'src')\n",
    "verticesDF = vertices.toDF(['id']).repartition(4, 'id')\n",
    "g = GraphFrame(verticesDF, edgesDF)\n",
    "pr_results = g.pageRank(resetProbability=0.15, maxIter=10)\n",
    "pr = pr_results.vertices.select(\"id\", \"pagerank\")\n",
    "pr = pr.sort(col('pagerank').desc())\n",
    "pr.repartition(1).write.csv('pr', compression=\"gzip\")\n",
    "pr.show()"
   ]
  },
  {
   "cell_type": "markdown",
   "metadata": {
    "id": "x0iXbQIstzvW"
   },
   "source": [
    "**YOUR TASK (5 POINTS)**: Complete the implmentation of `get_top_pr_page_titles` to return the titles a few of the top pages as ranked by PageRank and printed above. To get the title for each page id listed above, navigate to the url https://en.wikipedia.org/?curid=wiki_id_here by replacing the `wiki_id_here` part with the page id. For example, if you navigate to https://en.wikipedia.org/?curid=25507 for the page with id 25507 you'd see that its title is 'Roman Empire'."
   ]
  },
  {
   "cell_type": "code",
   "execution_count": null,
   "metadata": {
    "id": "vhZVTSpnxQaj"
   },
   "outputs": [],
   "source": [
    "def get_top_pr_page_titles():\n",
    "  ''' Returns the title of the first, fourth, and fifth pages as ranked about\n",
    "      by PageRank.\n",
    "  Returns:\n",
    "  --------\n",
    "    list of three strings.\n",
    "  '''\n",
    "  # YOUR CODE HERE\n",
    "\n",
    "  # raise NotImplementedError()"
   ]
  },
  {
   "cell_type": "code",
   "execution_count": null,
   "metadata": {
    "id": "nli6ETKzyPn6"
   },
   "outputs": [],
   "source": [
    "assert [_hash(x.lower()) for x in get_top_pr_page_titles()] == \\\n",
    "  ['52bb7dbc02', '3e920ea944', '3d007b19ee']"
   ]
  },
  {
   "cell_type": "markdown",
   "metadata": {
    "id": "d4V85PGkP3We"
   },
   "source": [
    "Do the top ranked pages make sense to you? Why do you think these pages received such a high scores from PageRank?"
   ]
  },
  {
   "cell_type": "markdown",
   "metadata": {
    "id": "OkDnmqAur3Ph"
   },
   "source": [
    "# GCP\n",
    "\n",
    "The second part of the assignment involves running index creation in GCP and reporting results in this notebook. Follow [this](https://docs.google.com/document/d/1HTZVDMQ1gyeq8dlyzmomOkxjSo1Td76PsCGlFkQohps/edit?usp=sharing) step-by-step guide in order to set up your cluster environment on GCP so you can execute pyspark code on a cluster of machines."
   ]
  },
  {
   "cell_type": "markdown",
   "metadata": {
    "id": "Tq-ilXaFLFVh"
   },
   "source": [
    "The code to the GCP notebook is in the moodle under assignment 3. You will have to copy the code you completed here in the relevant sections.\n",
    "\n",
    "In the current notebook we used MapReduce to create the index for only one wiki dump. Using GCP, we will be able to create the index on the entire english wikipedia. The GCP part of this assignment will be the first time we will work with the entire corpus. You will need to follow the notebook, complete the code as you did here (the same code you completed in this notebook can be used in the GCP notebook).\n",
    "At the end of the GCP assignment you will have questions that you will need to answer - this are not the tests we used so far, so you should follow the instructions in the notebook."
   ]
  },
  {
   "cell_type": "markdown",
   "source": [
    "# BM25 class"
   ],
   "metadata": {
    "id": "n_S87DoD6ljF"
   }
  },
  {
   "cell_type": "code",
   "source": [
    "# Modify BM25 class to overcome DL - DL: fetches the document length of each document.\n",
    "\n",
    "import math\n",
    "from itertools import chain\n",
    "import time\n",
    "# When preprocessing the data have a dictionary of document length for each document saved in a variable called `DL`.\n",
    "class BM25_from_index:\n",
    "    \"\"\"\n",
    "    Best Match 25.\n",
    "    ----------\n",
    "    k1 : float, default 1.5\n",
    "\n",
    "    b : float, default 0.75\n",
    "\n",
    "    index: inverted index\n",
    "    \"\"\"\n",
    "\n",
    "    def __init__(self,index,DL,k1=1.5, b=0.75):\n",
    "        self.b = b\n",
    "        self.k1 = k1\n",
    "        self.index = index\n",
    "        self.N = len(DL)\n",
    "        # self.AVGDL = sum(DL.values())/self.N\n",
    "        self.AVGDL = sum(list(DL.values())) / self.N\n",
    "        self.words, self.pls = zip(*self.index.posting_lists_iter())\n",
    "\n",
    "    def calc_idf(self,list_of_tokens):\n",
    "        \"\"\"\n",
    "        This function calculate the idf values according to the BM25 idf formula for each term in the query.\n",
    "\n",
    "        Parameters:\n",
    "        -----------\n",
    "        query: list of token representing the query. For example: ['look', 'blue', 'sky']\n",
    "\n",
    "        Returns:\n",
    "        -----------\n",
    "        idf: dictionary of idf scores. As follows:\n",
    "                                                    key: term\n",
    "                                                    value: bm25 idf score\n",
    "        \"\"\"\n",
    "        idf = {}\n",
    "        for term in list_of_tokens:\n",
    "            if term in self.index.df.keys():\n",
    "                n_ti = self.index.df[term]\n",
    "                idf[term] = math.log(1 + (self.N - n_ti + 0.5) / (n_ti + 0.5))\n",
    "            else:\n",
    "                pass\n",
    "        return idf\n",
    "\n",
    "\n",
    "    def search(self, queries,N=3):\n",
    "        \"\"\"\n",
    "        This function calculate the bm25 score for given query and document.\n",
    "        We need to check only documents which are 'candidates' for a given query.\n",
    "        This function return a dictionary of scores as the following:\n",
    "                                                                    key: query_id\n",
    "                                                                    value: a ranked list of pairs (doc_id, score) in the length of N.\n",
    "\n",
    "        Parameters:\n",
    "        -----------\n",
    "        query: list of token representing the query. For example: ['look', 'blue', 'sky']\n",
    "        doc_id: integer, document id.\n",
    "\n",
    "        Returns:\n",
    "        -----------\n",
    "        score: float, bm25 score.\n",
    "        \"\"\"\n",
    "        # YOUR CODE HERE\n",
    "        query_scores = {} # init dict\n",
    "\n",
    "        for query_id, query_tokens in queries.items():\n",
    "            self.idf = self.calc_idf(query_tokens) # calc idf for current query\n",
    "\n",
    "            if not self.idf:\n",
    "                query_scores[query_id] = []  # no relevant documents\n",
    "                continue\n",
    "\n",
    "            # getting candidtaes\n",
    "            candidate_docs = set()\n",
    "            for term in query_tokens:\n",
    "                if term in self.index.df:\n",
    "                    posting_list = self.pls[self.words.index(term)]\n",
    "                    candidate_docs.update([doc_id for doc_id, _ in posting_list])\n",
    "\n",
    "            # calc common terms' data\n",
    "            common_terms_data = {}\n",
    "            for term in query_tokens:\n",
    "                if term in self.index.df:\n",
    "                    posting_list = self.pls[self.words.index(term)]\n",
    "                    common_terms_data[term] = dict(posting_list)\n",
    "\n",
    "            # calc scores for candidates\n",
    "            doc_scores = {}\n",
    "            for doc_id in candidate_docs:\n",
    "                score = 0.0\n",
    "                doc_len = DL[str(doc_id)]\n",
    "\n",
    "                for term in query_tokens:\n",
    "                    if term in common_terms_data and doc_id in common_terms_data[term]:\n",
    "                        freq = common_terms_data[term][doc_id]\n",
    "                        numerator = self.idf[term] * freq * (self.k1 + 1)\n",
    "                        denominator = freq + self.k1 * (1 - self.b + self.b * doc_len / self.AVGDL)\n",
    "                        score += (numerator / denominator)\n",
    "\n",
    "                doc_scores[doc_id] = score\n",
    "\n",
    "            sorted_scores = sorted(doc_scores.items(), key=lambda item: item[1], reverse=True)\n",
    "            top_n_docs = sorted_scores[:N]\n",
    "\n",
    "            query_scores[query_id] = top_n_docs\n",
    "\n",
    "        return query_scores\n",
    "\n",
    "    def _score(self, query, doc_id):\n",
    "        \"\"\"\n",
    "        This function calculate the bm25 score for given query and document.\n",
    "\n",
    "        Parameters:\n",
    "        -----------\n",
    "        query: list of token representing the query. For example: ['look', 'blue', 'sky']\n",
    "        doc_id: integer, document id.\n",
    "\n",
    "        Returns:\n",
    "        -----------\n",
    "        score: float, bm25 score.\n",
    "        \"\"\"\n",
    "        score = 0.0\n",
    "        doc_len = DL[str(doc_id)]\n",
    "\n",
    "        for term in query:\n",
    "            if term in self.index.term_total.keys():\n",
    "                term_frequencies = dict(self.pls[self.words.index(term)])\n",
    "                if doc_id in term_frequencies.keys():\n",
    "                    freq = term_frequencies[doc_id]\n",
    "                    numerator = self.idf[term] * freq * (self.k1 + 1)\n",
    "                    denominator = freq + self.k1 * (1 - self.b + self.b * doc_len / self.AVGDL)\n",
    "                    score += (numerator / denominator)\n",
    "        return score"
   ],
   "metadata": {
    "id": "SuyP5krc6rWk"
   },
   "execution_count": 61,
   "outputs": []
  },
  {
   "cell_type": "markdown",
   "source": [
    "# read indices"
   ],
   "metadata": {
    "id": "uDQSb9VkFsOm"
   }
  },
  {
   "cell_type": "code",
   "source": [
    "idx_text = InvertedIndex.read_index('text_index', 'text')\n",
    "idx_title = InvertedIndex.read_index('title_index', 'title')\n",
    "idx_anchor = InvertedIndex.read_index('anchor_index', 'anchor')"
   ],
   "metadata": {
    "id": "pmKq30TOFud1"
   },
   "execution_count": 62,
   "outputs": []
  },
  {
   "cell_type": "code",
   "source": [
    "# bm25_title = BM25_from_index(idx_title, title_doc_lengths_dict)\n",
    "print(type(title_doc_lengths_dict))"
   ],
   "metadata": {
    "colab": {
     "base_uri": "https://localhost:8080/"
    },
    "id": "3n_HPaVSwtuu",
    "outputId": "964aec1e-8522-44ec-e38f-3da562093118"
   },
   "execution_count": 65,
   "outputs": [
    {
     "output_type": "stream",
     "name": "stdout",
     "text": [
      "<class 'dict'>\n"
     ]
    }
   ]
  }
 ],
 "metadata": {
  "colab": {
   "provenance": []
  },
  "kernelspec": {
   "display_name": "Python 3 (ipykernel)",
   "language": "python",
   "name": "python3"
  },
  "language_info": {
   "codemirror_mode": {
    "name": "ipython",
    "version": 3
   },
   "file_extension": ".py",
   "mimetype": "text/x-python",
   "name": "python",
   "nbconvert_exporter": "python",
   "pygments_lexer": "ipython3",
   "version": "3.9.20"
  }
 },
 "nbformat": 4,
 "nbformat_minor": 0
}
